{
 "cells": [
  {
   "cell_type": "code",
   "execution_count": 1,
   "metadata": {},
   "outputs": [],
   "source": [
    "# Done\n",
    "import os\n",
    "import sys\n",
    "from os import listdir\n",
    "from os.path import isfile, join\n",
    "import IPython.display as ipd\n",
    "import librosa \n",
    "import librosa.display\n",
    "%matplotlib inline\n",
    "import matplotlib.pyplot as plt\n",
    "import pandas as pd\n",
    "from scipy.io import wavfile as wav\n",
    "import numpy as np\n",
    "from timeit import default_timer as timer"
   ]
  },
  {
   "cell_type": "code",
   "execution_count": 3,
   "metadata": {},
   "outputs": [],
   "source": [
    "def extract_mel(file_name):\n",
    "    audio, sample_rate=librosa.load(file_name, res_type='kaiser_fast')\n",
    "    mel=np.mean(librosa.feature.melspectrogram(audio ,sr=sample_rate, n_mels=100,fmax=8000).T, axis=0)\n",
    "    \n",
    "    return mel"
   ]
  },
  {
   "cell_type": "code",
   "execution_count": 4,
   "metadata": {},
   "outputs": [
    {
     "data": {
      "text/html": [
       "<div>\n",
       "<style scoped>\n",
       "    .dataframe tbody tr th:only-of-type {\n",
       "        vertical-align: middle;\n",
       "    }\n",
       "\n",
       "    .dataframe tbody tr th {\n",
       "        vertical-align: top;\n",
       "    }\n",
       "\n",
       "    .dataframe thead th {\n",
       "        text-align: right;\n",
       "    }\n",
       "</style>\n",
       "<table border=\"1\" class=\"dataframe\">\n",
       "  <thead>\n",
       "    <tr style=\"text-align: right;\">\n",
       "      <th></th>\n",
       "      <th>slice_file_name</th>\n",
       "      <th>fsID</th>\n",
       "      <th>start</th>\n",
       "      <th>end</th>\n",
       "      <th>salience</th>\n",
       "      <th>fold</th>\n",
       "      <th>classID</th>\n",
       "      <th>class</th>\n",
       "    </tr>\n",
       "  </thead>\n",
       "  <tbody>\n",
       "    <tr>\n",
       "      <th>0</th>\n",
       "      <td>100032-3-0-0.wav</td>\n",
       "      <td>100032</td>\n",
       "      <td>0.0</td>\n",
       "      <td>0.317551</td>\n",
       "      <td>1</td>\n",
       "      <td>5</td>\n",
       "      <td>3</td>\n",
       "      <td>dog_bark</td>\n",
       "    </tr>\n",
       "    <tr>\n",
       "      <th>1</th>\n",
       "      <td>100263-2-0-117.wav</td>\n",
       "      <td>100263</td>\n",
       "      <td>58.5</td>\n",
       "      <td>62.500000</td>\n",
       "      <td>1</td>\n",
       "      <td>5</td>\n",
       "      <td>2</td>\n",
       "      <td>children_playing</td>\n",
       "    </tr>\n",
       "    <tr>\n",
       "      <th>2</th>\n",
       "      <td>100263-2-0-121.wav</td>\n",
       "      <td>100263</td>\n",
       "      <td>60.5</td>\n",
       "      <td>64.500000</td>\n",
       "      <td>1</td>\n",
       "      <td>5</td>\n",
       "      <td>2</td>\n",
       "      <td>children_playing</td>\n",
       "    </tr>\n",
       "    <tr>\n",
       "      <th>3</th>\n",
       "      <td>100263-2-0-126.wav</td>\n",
       "      <td>100263</td>\n",
       "      <td>63.0</td>\n",
       "      <td>67.000000</td>\n",
       "      <td>1</td>\n",
       "      <td>5</td>\n",
       "      <td>2</td>\n",
       "      <td>children_playing</td>\n",
       "    </tr>\n",
       "    <tr>\n",
       "      <th>4</th>\n",
       "      <td>100263-2-0-137.wav</td>\n",
       "      <td>100263</td>\n",
       "      <td>68.5</td>\n",
       "      <td>72.500000</td>\n",
       "      <td>1</td>\n",
       "      <td>5</td>\n",
       "      <td>2</td>\n",
       "      <td>children_playing</td>\n",
       "    </tr>\n",
       "  </tbody>\n",
       "</table>\n",
       "</div>"
      ],
      "text/plain": [
       "      slice_file_name    fsID  start        end  salience  fold  classID  \\\n",
       "0    100032-3-0-0.wav  100032    0.0   0.317551         1     5        3   \n",
       "1  100263-2-0-117.wav  100263   58.5  62.500000         1     5        2   \n",
       "2  100263-2-0-121.wav  100263   60.5  64.500000         1     5        2   \n",
       "3  100263-2-0-126.wav  100263   63.0  67.000000         1     5        2   \n",
       "4  100263-2-0-137.wav  100263   68.5  72.500000         1     5        2   \n",
       "\n",
       "              class  \n",
       "0          dog_bark  \n",
       "1  children_playing  \n",
       "2  children_playing  \n",
       "3  children_playing  \n",
       "4  children_playing  "
      ]
     },
     "execution_count": 4,
     "metadata": {},
     "output_type": "execute_result"
    }
   ],
   "source": [
    "metadata=pd.read_csv(\"UrbanSound8k/metadata/UrbanSound8k.csv\")\n",
    "metadata.head()"
   ]
  },
  {
   "cell_type": "code",
   "execution_count": 5,
   "metadata": {},
   "outputs": [],
   "source": [
    "fold_list = ['fold1', 'fold2', 'fold3', 'fold4', 'fold5', 'fold6', 'fold7', 'fold8', 'fold9', 'fold10']"
   ]
  },
  {
   "cell_type": "code",
   "execution_count": 6,
   "metadata": {},
   "outputs": [
    {
     "name": "stderr",
     "output_type": "stream",
     "text": [
      "C:\\Users\\pc\\Anaconda3\\lib\\site-packages\\librosa\\core\\audio.py:162: UserWarning: PySoundFile failed. Trying audioread instead.\n",
      "  warnings.warn(\"PySoundFile failed. Trying audioread instead.\")\n"
     ]
    },
    {
     "name": "stdout",
     "output_type": "stream",
     "text": [
      "UrbanSound8K/audio/fold1/.DS_Store\n"
     ]
    },
    {
     "name": "stderr",
     "output_type": "stream",
     "text": [
      "C:\\Users\\pc\\Anaconda3\\lib\\site-packages\\librosa\\core\\spectrum.py:222: UserWarning: n_fft=2048 is too small for input signal of length=1103\n",
      "  warnings.warn(\n",
      "C:\\Users\\pc\\Anaconda3\\lib\\site-packages\\librosa\\core\\spectrum.py:222: UserWarning: n_fft=2048 is too small for input signal of length=1323\n",
      "  warnings.warn(\n",
      "C:\\Users\\pc\\Anaconda3\\lib\\site-packages\\librosa\\core\\spectrum.py:222: UserWarning: n_fft=2048 is too small for input signal of length=1523\n",
      "  warnings.warn(\n",
      "C:\\Users\\pc\\Anaconda3\\lib\\site-packages\\librosa\\core\\audio.py:162: UserWarning: PySoundFile failed. Trying audioread instead.\n",
      "  warnings.warn(\"PySoundFile failed. Trying audioread instead.\")\n"
     ]
    },
    {
     "name": "stdout",
     "output_type": "stream",
     "text": [
      "UrbanSound8K/audio/fold2/.DS_Store\n",
      "UrbanSound8K/audio/fold3/.DS_Store\n",
      "UrbanSound8K/audio/fold4/.DS_Store\n",
      "UrbanSound8K/audio/fold5/.DS_Store\n",
      "UrbanSound8K/audio/fold6/.DS_Store\n",
      "UrbanSound8K/audio/fold7/.DS_Store\n",
      "UrbanSound8K/audio/fold8/.DS_Store\n",
      "UrbanSound8K/audio/fold9/.DS_Store\n",
      "UrbanSound8K/audio/fold10/.DS_Store\n",
      "Exceptions:  10\n",
      "time taken: 19.0 minutes 50.4 seconds\n",
      "None\n",
      "Finished feature extraction from all folder\n"
     ]
    }
   ],
   "source": [
    "stacked_features = []\n",
    "exceptions=0\n",
    "\n",
    "start_time = timer()\n",
    "for i in range(10):\n",
    "    # get file names\n",
    "    mypath = 'UrbanSound8K/audio/'+ fold_list[i] + '/'\n",
    "    files = [mypath + f for f in listdir(mypath) if isfile(join(mypath, f))]\n",
    "    \n",
    "    for fn in files:\n",
    "        try: # extract features\n",
    "            mfccs = extract_mel(fn)\n",
    "            features=np.reshape((mfccs),(20,5))\n",
    "             \n",
    "    \n",
    "            \n",
    "            \n",
    "        except: # else exception (.ds_store files are part of mac file systems)\n",
    "            print(fn)\n",
    "            exceptions += 1\n",
    "            continue\n",
    "            \n",
    "        l_row = metadata.loc[metadata['slice_file_name']==fn.split('/')[-1]].values.tolist()\n",
    "        label = l_row[0][-1]\n",
    "        fold = i+1\n",
    "    \n",
    "        stacked_features.append([features, features.shape, label, fold])\n",
    "        \n",
    "            #print(f,old_samplerate,ss)\n",
    "        \n",
    "print(\"Exceptions: \", exceptions)\n",
    "end_time = timer()\n",
    "print(print(\"time taken: {0} minutes {1:.1f} seconds\".format((end_time - start_time)//60, (end_time - start_time)%60)))\n",
    "print('Finished feature extraction from all folder')"
   ]
  },
  {
   "cell_type": "code",
   "execution_count": 10,
   "metadata": {},
   "outputs": [
    {
     "data": {
      "text/html": [
       "<div>\n",
       "<style scoped>\n",
       "    .dataframe tbody tr th:only-of-type {\n",
       "        vertical-align: middle;\n",
       "    }\n",
       "\n",
       "    .dataframe tbody tr th {\n",
       "        vertical-align: top;\n",
       "    }\n",
       "\n",
       "    .dataframe thead th {\n",
       "        text-align: right;\n",
       "    }\n",
       "</style>\n",
       "<table border=\"1\" class=\"dataframe\">\n",
       "  <thead>\n",
       "    <tr style=\"text-align: right;\">\n",
       "      <th></th>\n",
       "      <th>Stacked_Features</th>\n",
       "      <th>Matrix_Shape</th>\n",
       "      <th>Label</th>\n",
       "      <th>Fold</th>\n",
       "    </tr>\n",
       "  </thead>\n",
       "  <tbody>\n",
       "    <tr>\n",
       "      <th>0</th>\n",
       "      <td>[[0.0007328666, 0.005847379, 0.011365381, 0.00...</td>\n",
       "      <td>(20, 5)</td>\n",
       "      <td>dog_bark</td>\n",
       "      <td>1</td>\n",
       "    </tr>\n",
       "    <tr>\n",
       "      <th>1</th>\n",
       "      <td>[[0.0005349019, 0.0050235675, 0.017447481, 0.0...</td>\n",
       "      <td>(20, 5)</td>\n",
       "      <td>dog_bark</td>\n",
       "      <td>1</td>\n",
       "    </tr>\n",
       "    <tr>\n",
       "      <th>2</th>\n",
       "      <td>[[0.0045490726, 0.012826807, 0.010148568, 0.00...</td>\n",
       "      <td>(20, 5)</td>\n",
       "      <td>dog_bark</td>\n",
       "      <td>1</td>\n",
       "    </tr>\n",
       "    <tr>\n",
       "      <th>3</th>\n",
       "      <td>[[0.032951917, 0.05150818, 0.12763184, 0.02615...</td>\n",
       "      <td>(20, 5)</td>\n",
       "      <td>dog_bark</td>\n",
       "      <td>1</td>\n",
       "    </tr>\n",
       "    <tr>\n",
       "      <th>4</th>\n",
       "      <td>[[8.504567, 2.6181707, 1.2740357, 0.62617505, ...</td>\n",
       "      <td>(20, 5)</td>\n",
       "      <td>gun_shot</td>\n",
       "      <td>1</td>\n",
       "    </tr>\n",
       "  </tbody>\n",
       "</table>\n",
       "</div>"
      ],
      "text/plain": [
       "                                    Stacked_Features Matrix_Shape     Label  \\\n",
       "0  [[0.0007328666, 0.005847379, 0.011365381, 0.00...      (20, 5)  dog_bark   \n",
       "1  [[0.0005349019, 0.0050235675, 0.017447481, 0.0...      (20, 5)  dog_bark   \n",
       "2  [[0.0045490726, 0.012826807, 0.010148568, 0.00...      (20, 5)  dog_bark   \n",
       "3  [[0.032951917, 0.05150818, 0.12763184, 0.02615...      (20, 5)  dog_bark   \n",
       "4  [[8.504567, 2.6181707, 1.2740357, 0.62617505, ...      (20, 5)  gun_shot   \n",
       "\n",
       "   Fold  \n",
       "0     1  \n",
       "1     1  \n",
       "2     1  \n",
       "3     1  \n",
       "4     1  "
      ]
     },
     "execution_count": 10,
     "metadata": {},
     "output_type": "execute_result"
    }
   ],
   "source": [
    "cols=['Stacked_Features', 'Matrix_Shape', 'Label', 'Fold']\n",
    "Stacked_feature_pd=pd.DataFrame(data=stacked_features , columns=cols)\n",
    "Stacked_feature_pd.head()"
   ]
  },
  {
   "cell_type": "code",
   "execution_count": 11,
   "metadata": {},
   "outputs": [
    {
     "data": {
      "text/plain": [
       "array(['dog_bark', 'gun_shot', 'jackhammer', 'engine_idling',\n",
       "       'children_playing', 'siren', 'street_music', 'air_conditioner',\n",
       "       'drilling', 'car_horn'], dtype=object)"
      ]
     },
     "execution_count": 11,
     "metadata": {},
     "output_type": "execute_result"
    }
   ],
   "source": [
    "Stacked_feature_pd.Label.unique()"
   ]
  },
  {
   "cell_type": "code",
   "execution_count": 12,
   "metadata": {},
   "outputs": [
    {
     "name": "stdout",
     "output_type": "stream",
     "text": [
      "(8732,)\n"
     ]
    }
   ],
   "source": [
    "from sklearn.preprocessing import LabelEncoder\n",
    "\n",
    "X = np.reshape(np.array(Stacked_feature_pd.Stacked_Features.tolist()), (8732, 100))\n",
    "y = np.array(Stacked_feature_pd.Label.tolist())\n",
    "\n",
    "le = LabelEncoder()\n",
    "yy = le.fit_transform(y)\n",
    "print(yy.shape)"
   ]
  },
  {
   "cell_type": "code",
   "execution_count": 13,
   "metadata": {},
   "outputs": [],
   "source": [
    "from sklearn.preprocessing import StandardScaler\n",
    "scaler= StandardScaler()"
   ]
  },
  {
   "cell_type": "code",
   "execution_count": 14,
   "metadata": {},
   "outputs": [],
   "source": [
    "from sklearn.model_selection import train_test_split \n",
    "\n",
    "x_train, x_test, y_train, y_test = train_test_split(scaler.fit_transform(X), yy, test_size=0.2,random_state=42)"
   ]
  },
  {
   "cell_type": "code",
   "execution_count": 15,
   "metadata": {},
   "outputs": [
    {
     "name": "stdout",
     "output_type": "stream",
     "text": [
      "(6985, 100) (1747, 100) (6985,) (1747,)\n"
     ]
    }
   ],
   "source": [
    "print(x_train.shape, x_test.shape, y_train.shape , y_test.shape)"
   ]
  },
  {
   "cell_type": "code",
   "execution_count": 16,
   "metadata": {},
   "outputs": [
    {
     "name": "stdout",
     "output_type": "stream",
     "text": [
      "[-0.19409995 -0.24592765 -0.2574957  -0.25446683 -0.22865236 -0.1845806\n",
      " -0.1742027  -0.27934447 -0.22316997 -0.25186625]\n"
     ]
    }
   ],
   "source": [
    "print(x_train[0][:10])"
   ]
  },
  {
   "cell_type": "markdown",
   "metadata": {},
   "source": [
    "### Classification using KNN"
   ]
  },
  {
   "cell_type": "code",
   "execution_count": 17,
   "metadata": {},
   "outputs": [],
   "source": [
    "from sklearn.neighbors import KNeighborsClassifier"
   ]
  },
  {
   "cell_type": "code",
   "execution_count": 18,
   "metadata": {},
   "outputs": [],
   "source": [
    "knn_model=KNeighborsClassifier(n_neighbors=6) "
   ]
  },
  {
   "cell_type": "code",
   "execution_count": 19,
   "metadata": {},
   "outputs": [
    {
     "data": {
      "text/plain": [
       "(6985, 100)"
      ]
     },
     "execution_count": 19,
     "metadata": {},
     "output_type": "execute_result"
    }
   ],
   "source": [
    "x_train=np.reshape(x_train,(6985,100))\n",
    "x_test=np.reshape(x_test,(1747,100))\n",
    "x_train.shape"
   ]
  },
  {
   "cell_type": "code",
   "execution_count": 20,
   "metadata": {},
   "outputs": [
    {
     "name": "stdout",
     "output_type": "stream",
     "text": [
      "Total time required is 0.00 mins and 1.35 secs\n"
     ]
    }
   ],
   "source": [
    "start_time=timer()\n",
    "knn_model.fit(x_train, y_train)\n",
    "end_time=timer()\n",
    "print(\"Total time required is {:.2f} mins and {:.2f} secs\".format( (end_time-start_time)//60, (end_time-start_time)%60 ) )"
   ]
  },
  {
   "cell_type": "code",
   "execution_count": 21,
   "metadata": {},
   "outputs": [
    {
     "name": "stdout",
     "output_type": "stream",
     "text": [
      "Training accuracy is 0.79\n",
      "Testing accuracy is 0.72\n"
     ]
    }
   ],
   "source": [
    "print(\"Training accuracy is {:.2f}\".format(knn_model.score(x_train, y_train)))\n",
    "print(\"Testing accuracy is {:.2f}\".format(knn_model.score(x_test, y_test)))"
   ]
  },
  {
   "cell_type": "markdown",
   "metadata": {},
   "source": [
    "**Not much of a difference between Training and Testing accuracy so the model is not overfitted**"
   ]
  },
  {
   "cell_type": "markdown",
   "metadata": {},
   "source": [
    "### Classification using Decision Tree"
   ]
  },
  {
   "cell_type": "code",
   "execution_count": 22,
   "metadata": {},
   "outputs": [],
   "source": [
    "from sklearn.tree import DecisionTreeClassifier\n",
    "tree_model=DecisionTreeClassifier()"
   ]
  },
  {
   "cell_type": "code",
   "execution_count": 23,
   "metadata": {},
   "outputs": [
    {
     "name": "stdout",
     "output_type": "stream",
     "text": [
      "Total time required is 0.00 mins and 2.70 secs\n"
     ]
    }
   ],
   "source": [
    "start_time=timer()\n",
    "tree_model.fit(x_train, y_train)\n",
    "end_time=timer()\n",
    "print(\"Total time required is {:.2f} mins and {:.2f} secs\".format( (end_time-start_time)//60, (end_time-start_time)%60 ) )"
   ]
  },
  {
   "cell_type": "code",
   "execution_count": 24,
   "metadata": {},
   "outputs": [
    {
     "name": "stdout",
     "output_type": "stream",
     "text": [
      "Training accuracy is 1.0\n",
      "Testing accuracy is 0.69\n"
     ]
    }
   ],
   "source": [
    "print(\"Training accuracy is {}\".format(tree_model.score(x_train, y_train)))\n",
    "print(\"Testing accuracy is {:.2f}\".format(tree_model.score(x_test, y_test)))"
   ]
  },
  {
   "cell_type": "markdown",
   "metadata": {},
   "source": [
    "### Classification using SVM"
   ]
  },
  {
   "cell_type": "code",
   "execution_count": 25,
   "metadata": {},
   "outputs": [],
   "source": [
    "from sklearn.svm import SVC"
   ]
  },
  {
   "cell_type": "code",
   "execution_count": 44,
   "metadata": {},
   "outputs": [],
   "source": [
    "svc= SVC(kernel=\"rbf\")"
   ]
  },
  {
   "cell_type": "code",
   "execution_count": 45,
   "metadata": {},
   "outputs": [
    {
     "name": "stdout",
     "output_type": "stream",
     "text": [
      "Total time required is 0.00 mins and 22.86 secs\n"
     ]
    }
   ],
   "source": [
    "start_time=timer()\n",
    "svc.fit(x_train, y_train)\n",
    "end_time=timer()\n",
    "print(\"Total time required is {:.2f} mins and {:.2f} secs\".format( (end_time-start_time)//60, (end_time-start_time)%60 ) )"
   ]
  },
  {
   "cell_type": "code",
   "execution_count": 46,
   "metadata": {},
   "outputs": [
    {
     "name": "stdout",
     "output_type": "stream",
     "text": [
      "Training accuracy is 0.4483894058697208\n",
      "Testing accuracy is 0.43\n"
     ]
    }
   ],
   "source": [
    "print(\"Training accuracy is {}\".format(svc.score(x_train, y_train)))\n",
    "print(\"Testing accuracy is {:.2f}\".format(svc.score(x_test, y_test)))"
   ]
  },
  {
   "cell_type": "markdown",
   "metadata": {},
   "source": [
    "### Classification using Logistic Regression"
   ]
  },
  {
   "cell_type": "code",
   "execution_count": 47,
   "metadata": {},
   "outputs": [],
   "source": [
    "from sklearn.linear_model import LogisticRegression\n",
    "log = LogisticRegression(max_iter=1000)"
   ]
  },
  {
   "cell_type": "code",
   "execution_count": 48,
   "metadata": {},
   "outputs": [
    {
     "name": "stdout",
     "output_type": "stream",
     "text": [
      "Total time required is -1.00 mins and 45.61 secs\n"
     ]
    }
   ],
   "source": [
    "start_time = timer()\n",
    "log.fit(x_train, y_train)\n",
    "end_time == timer()\n",
    "print(\"Total time required is {:.2f} mins and {:.2f} secs\".format( (end_time - start_time)//60, (end_time- start_time)%60 ))"
   ]
  },
  {
   "cell_type": "code",
   "execution_count": 49,
   "metadata": {},
   "outputs": [
    {
     "name": "stdout",
     "output_type": "stream",
     "text": [
      "Training accuracy is 0.5062276306370794\n",
      "Testing accuracy is 0.48\n"
     ]
    }
   ],
   "source": [
    "print(\"Training accuracy is {}\".format(log.score(x_train, y_train)))\n",
    "print(\"Testing accuracy is {:.2f}\".format(log.score(x_test, y_test)))"
   ]
  },
  {
   "cell_type": "markdown",
   "metadata": {},
   "source": [
    "### Classification using Ensemble Classifiers"
   ]
  },
  {
   "cell_type": "code",
   "execution_count": 50,
   "metadata": {},
   "outputs": [],
   "source": [
    "from sklearn.ensemble import RandomForestClassifier"
   ]
  },
  {
   "cell_type": "code",
   "execution_count": 51,
   "metadata": {},
   "outputs": [],
   "source": [
    "rf=RandomForestClassifier(n_estimators=500)"
   ]
  },
  {
   "cell_type": "code",
   "execution_count": 52,
   "metadata": {},
   "outputs": [
    {
     "name": "stdout",
     "output_type": "stream",
     "text": [
      "Total time required is 2.00 mins and 46.82 secs\n"
     ]
    }
   ],
   "source": [
    "start_time=timer()\n",
    "rf.fit(x_train, y_train)\n",
    "end_time=timer()\n",
    "print(\"Total time required is {:.2f} mins and {:.2f} secs\".format( (end_time-start_time)//60, (end_time-start_time)%60 ) )"
   ]
  },
  {
   "cell_type": "code",
   "execution_count": 53,
   "metadata": {},
   "outputs": [
    {
     "name": "stdout",
     "output_type": "stream",
     "text": [
      "Training accuracy is 1.0\n",
      "Testing accuracy is 0.87\n"
     ]
    }
   ],
   "source": [
    "print(\"Training accuracy is {}\".format(rf.score(x_train, y_train)))\n",
    "print(\"Testing accuracy is {:.2f}\".format(rf.score(x_test, y_test)))"
   ]
  },
  {
   "cell_type": "markdown",
   "metadata": {},
   "source": [
    "**Overfitting using RandomForestClassifiers**"
   ]
  },
  {
   "cell_type": "code",
   "execution_count": 54,
   "metadata": {},
   "outputs": [],
   "source": [
    "from sklearn.ensemble import BaggingClassifier, AdaBoostClassifier"
   ]
  },
  {
   "cell_type": "code",
   "execution_count": 55,
   "metadata": {},
   "outputs": [],
   "source": [
    "bg=BaggingClassifier()"
   ]
  },
  {
   "cell_type": "code",
   "execution_count": 56,
   "metadata": {},
   "outputs": [
    {
     "name": "stdout",
     "output_type": "stream",
     "text": [
      "Total time required is 0.00 mins and 31.02 secs\n"
     ]
    }
   ],
   "source": [
    "start_time = timer()\n",
    "bg.fit(x_train, y_train)\n",
    "end_time = timer()\n",
    "print(\"Total time required is {:.2f} mins and {:.2f} secs\".format( (end_time-start_time)//60, (end_time-start_time)%60 ) )"
   ]
  },
  {
   "cell_type": "code",
   "execution_count": 57,
   "metadata": {},
   "outputs": [
    {
     "name": "stdout",
     "output_type": "stream",
     "text": [
      "Training accuracy of the Bagging Classifier 1.00\n",
      "Testing accuracy of the Bagging Classifier 0.81\n"
     ]
    }
   ],
   "source": [
    "print(\"Training accuracy of the Bagging Classifier {:.2f}\".format(bg.score(x_train, y_train)) )\n",
    "print(\"Testing accuracy of the Bagging Classifier {:.2f}\".format(bg.score(x_test, y_test)) )"
   ]
  },
  {
   "cell_type": "code",
   "execution_count": 58,
   "metadata": {},
   "outputs": [],
   "source": [
    "ada= AdaBoostClassifier()"
   ]
  },
  {
   "cell_type": "code",
   "execution_count": 59,
   "metadata": {},
   "outputs": [
    {
     "name": "stdout",
     "output_type": "stream",
     "text": [
      "Total time required is 0.00 mins and 25.87 secs\n"
     ]
    }
   ],
   "source": [
    "start_time= timer()\n",
    "ada.fit(x_train, y_train)\n",
    "end_time= timer()\n",
    "print(\"Total time required is {:.2f} mins and {:.2f} secs\".format( (end_time-start_time)//60, (end_time-start_time)%60 ) )"
   ]
  },
  {
   "cell_type": "code",
   "execution_count": 60,
   "metadata": {},
   "outputs": [
    {
     "name": "stdout",
     "output_type": "stream",
     "text": [
      "Training accuracy of the AdaBoost Classifier 0.39\n",
      "Testing accuracy of the AdaBoost Classifier 0.41\n"
     ]
    }
   ],
   "source": [
    "print(\"Training accuracy of the AdaBoost Classifier {:.2f}\".format(ada.score(x_train, y_train)) )\n",
    "print(\"Testing accuracy of the AdaBoost Classifier {:.2f}\".format(ada.score(x_test, y_test)) )"
   ]
  },
  {
   "cell_type": "code",
   "execution_count": 61,
   "metadata": {},
   "outputs": [],
   "source": [
    "from sklearn.ensemble import GradientBoostingClassifier"
   ]
  },
  {
   "cell_type": "code",
   "execution_count": 62,
   "metadata": {},
   "outputs": [
    {
     "name": "stdout",
     "output_type": "stream",
     "text": [
      "Total time required is 12.00 mins and 31.95 secs\n"
     ]
    }
   ],
   "source": [
    "gbc = GradientBoostingClassifier()\n",
    "start_time= timer()\n",
    "gbc.fit(x_train, y_train)\n",
    "end_time= timer()\n",
    "print(\"Total time required is {:.2f} mins and {:.2f} secs\".format( (end_time-start_time)//60, (end_time-start_time)%60 ) )"
   ]
  },
  {
   "cell_type": "code",
   "execution_count": 63,
   "metadata": {},
   "outputs": [
    {
     "name": "stdout",
     "output_type": "stream",
     "text": [
      "Training accuracy of the Gradient Boosting Classifier 0.92\n",
      "Testing accuracy of the Gradient Boosting Classifier 0.78\n"
     ]
    }
   ],
   "source": [
    "print(\"Training accuracy of the Gradient Boosting Classifier {:.2f}\".format(gbc.score(x_train, y_train)) )\n",
    "print(\"Testing accuracy of the Gradient Boosting Classifier {:.2f}\".format(gbc.score(x_test, y_test)) )"
   ]
  },
  {
   "cell_type": "code",
   "execution_count": 67,
   "metadata": {},
   "outputs": [],
   "source": [
    "### Unsupervised Learning \n",
    "from sklearn.cluster import KMeans\n",
    "kms= KMeans(n_clusters=10)"
   ]
  },
  {
   "cell_type": "code",
   "execution_count": 68,
   "metadata": {},
   "outputs": [
    {
     "data": {
      "text/plain": [
       "KMeans(n_clusters=10)"
      ]
     },
     "execution_count": 68,
     "metadata": {},
     "output_type": "execute_result"
    }
   ],
   "source": [
    "kms.fit(x_train)"
   ]
  },
  {
   "cell_type": "code",
   "execution_count": 69,
   "metadata": {},
   "outputs": [
    {
     "data": {
      "text/html": [
       "<div>\n",
       "<style scoped>\n",
       "    .dataframe tbody tr th:only-of-type {\n",
       "        vertical-align: middle;\n",
       "    }\n",
       "\n",
       "    .dataframe tbody tr th {\n",
       "        vertical-align: top;\n",
       "    }\n",
       "\n",
       "    .dataframe thead th {\n",
       "        text-align: right;\n",
       "    }\n",
       "</style>\n",
       "<table border=\"1\" class=\"dataframe\">\n",
       "  <thead>\n",
       "    <tr style=\"text-align: right;\">\n",
       "      <th>col_0</th>\n",
       "      <th>0</th>\n",
       "      <th>1</th>\n",
       "      <th>2</th>\n",
       "      <th>3</th>\n",
       "      <th>4</th>\n",
       "      <th>5</th>\n",
       "      <th>6</th>\n",
       "      <th>7</th>\n",
       "      <th>8</th>\n",
       "      <th>9</th>\n",
       "    </tr>\n",
       "    <tr>\n",
       "      <th>row_0</th>\n",
       "      <th></th>\n",
       "      <th></th>\n",
       "      <th></th>\n",
       "      <th></th>\n",
       "      <th></th>\n",
       "      <th></th>\n",
       "      <th></th>\n",
       "      <th></th>\n",
       "      <th></th>\n",
       "      <th></th>\n",
       "    </tr>\n",
       "  </thead>\n",
       "  <tbody>\n",
       "    <tr>\n",
       "      <th>0</th>\n",
       "      <td>799</td>\n",
       "      <td>285</td>\n",
       "      <td>782</td>\n",
       "      <td>693</td>\n",
       "      <td>609</td>\n",
       "      <td>744</td>\n",
       "      <td>206</td>\n",
       "      <td>740</td>\n",
       "      <td>577</td>\n",
       "      <td>722</td>\n",
       "    </tr>\n",
       "    <tr>\n",
       "      <th>1</th>\n",
       "      <td>0</td>\n",
       "      <td>0</td>\n",
       "      <td>0</td>\n",
       "      <td>0</td>\n",
       "      <td>0</td>\n",
       "      <td>47</td>\n",
       "      <td>0</td>\n",
       "      <td>0</td>\n",
       "      <td>0</td>\n",
       "      <td>0</td>\n",
       "    </tr>\n",
       "    <tr>\n",
       "      <th>2</th>\n",
       "      <td>0</td>\n",
       "      <td>0</td>\n",
       "      <td>0</td>\n",
       "      <td>2</td>\n",
       "      <td>0</td>\n",
       "      <td>0</td>\n",
       "      <td>0</td>\n",
       "      <td>0</td>\n",
       "      <td>0</td>\n",
       "      <td>0</td>\n",
       "    </tr>\n",
       "    <tr>\n",
       "      <th>3</th>\n",
       "      <td>0</td>\n",
       "      <td>2</td>\n",
       "      <td>3</td>\n",
       "      <td>3</td>\n",
       "      <td>0</td>\n",
       "      <td>0</td>\n",
       "      <td>0</td>\n",
       "      <td>0</td>\n",
       "      <td>99</td>\n",
       "      <td>0</td>\n",
       "    </tr>\n",
       "    <tr>\n",
       "      <th>4</th>\n",
       "      <td>0</td>\n",
       "      <td>43</td>\n",
       "      <td>15</td>\n",
       "      <td>16</td>\n",
       "      <td>146</td>\n",
       "      <td>1</td>\n",
       "      <td>20</td>\n",
       "      <td>43</td>\n",
       "      <td>0</td>\n",
       "      <td>13</td>\n",
       "    </tr>\n",
       "    <tr>\n",
       "      <th>5</th>\n",
       "      <td>0</td>\n",
       "      <td>1</td>\n",
       "      <td>0</td>\n",
       "      <td>0</td>\n",
       "      <td>0</td>\n",
       "      <td>0</td>\n",
       "      <td>0</td>\n",
       "      <td>0</td>\n",
       "      <td>0</td>\n",
       "      <td>0</td>\n",
       "    </tr>\n",
       "    <tr>\n",
       "      <th>6</th>\n",
       "      <td>6</td>\n",
       "      <td>23</td>\n",
       "      <td>2</td>\n",
       "      <td>82</td>\n",
       "      <td>8</td>\n",
       "      <td>9</td>\n",
       "      <td>88</td>\n",
       "      <td>0</td>\n",
       "      <td>49</td>\n",
       "      <td>71</td>\n",
       "    </tr>\n",
       "    <tr>\n",
       "      <th>7</th>\n",
       "      <td>0</td>\n",
       "      <td>0</td>\n",
       "      <td>0</td>\n",
       "      <td>0</td>\n",
       "      <td>14</td>\n",
       "      <td>0</td>\n",
       "      <td>2</td>\n",
       "      <td>0</td>\n",
       "      <td>0</td>\n",
       "      <td>0</td>\n",
       "    </tr>\n",
       "    <tr>\n",
       "      <th>8</th>\n",
       "      <td>0</td>\n",
       "      <td>0</td>\n",
       "      <td>0</td>\n",
       "      <td>14</td>\n",
       "      <td>1</td>\n",
       "      <td>2</td>\n",
       "      <td>1</td>\n",
       "      <td>0</td>\n",
       "      <td>0</td>\n",
       "      <td>0</td>\n",
       "    </tr>\n",
       "    <tr>\n",
       "      <th>9</th>\n",
       "      <td>0</td>\n",
       "      <td>2</td>\n",
       "      <td>0</td>\n",
       "      <td>0</td>\n",
       "      <td>0</td>\n",
       "      <td>0</td>\n",
       "      <td>0</td>\n",
       "      <td>0</td>\n",
       "      <td>0</td>\n",
       "      <td>0</td>\n",
       "    </tr>\n",
       "  </tbody>\n",
       "</table>\n",
       "</div>"
      ],
      "text/plain": [
       "col_0    0    1    2    3    4    5    6    7    8    9\n",
       "row_0                                                  \n",
       "0      799  285  782  693  609  744  206  740  577  722\n",
       "1        0    0    0    0    0   47    0    0    0    0\n",
       "2        0    0    0    2    0    0    0    0    0    0\n",
       "3        0    2    3    3    0    0    0    0   99    0\n",
       "4        0   43   15   16  146    1   20   43    0   13\n",
       "5        0    1    0    0    0    0    0    0    0    0\n",
       "6        6   23    2   82    8    9   88    0   49   71\n",
       "7        0    0    0    0   14    0    2    0    0    0\n",
       "8        0    0    0   14    1    2    1    0    0    0\n",
       "9        0    2    0    0    0    0    0    0    0    0"
      ]
     },
     "execution_count": 69,
     "metadata": {},
     "output_type": "execute_result"
    }
   ],
   "source": [
    "pd.crosstab(kms.predict(x_train), y_train)"
   ]
  },
  {
   "cell_type": "code",
   "execution_count": 71,
   "metadata": {},
   "outputs": [
    {
     "ename": "AttributeError",
     "evalue": "module 'numpy' has no attribute 'score'",
     "output_type": "error",
     "traceback": [
      "\u001b[1;31m---------------------------------------------------------------------------\u001b[0m",
      "\u001b[1;31mAttributeError\u001b[0m                            Traceback (most recent call last)",
      "\u001b[1;32m<ipython-input-71-59ce21b0350b>\u001b[0m in \u001b[0;36m<module>\u001b[1;34m\u001b[0m\n\u001b[1;32m----> 1\u001b[1;33m \u001b[0mprint\u001b[0m\u001b[1;33m(\u001b[0m\u001b[1;34m\"Performance of the KMeans algorithm {}\"\u001b[0m\u001b[1;33m.\u001b[0m\u001b[0mformat\u001b[0m\u001b[1;33m(\u001b[0m\u001b[0mnp\u001b[0m\u001b[1;33m.\u001b[0m\u001b[0mscore\u001b[0m\u001b[1;33m(\u001b[0m\u001b[0mkms\u001b[0m\u001b[1;33m.\u001b[0m\u001b[0mpredict\u001b[0m\u001b[1;33m(\u001b[0m\u001b[0mx_test\u001b[0m\u001b[1;33m)\u001b[0m\u001b[1;33m==\u001b[0m\u001b[0my_test\u001b[0m\u001b[1;33m)\u001b[0m\u001b[1;33m)\u001b[0m\u001b[1;33m)\u001b[0m\u001b[1;33m\u001b[0m\u001b[1;33m\u001b[0m\u001b[0m\n\u001b[0m",
      "\u001b[1;32m~\\Anaconda3\\lib\\site-packages\\numpy\\__init__.py\u001b[0m in \u001b[0;36m__getattr__\u001b[1;34m(attr)\u001b[0m\n\u001b[0;32m    212\u001b[0m                 \u001b[1;32mreturn\u001b[0m \u001b[0mTester\u001b[0m\u001b[1;33m\u001b[0m\u001b[1;33m\u001b[0m\u001b[0m\n\u001b[0;32m    213\u001b[0m             \u001b[1;32melse\u001b[0m\u001b[1;33m:\u001b[0m\u001b[1;33m\u001b[0m\u001b[1;33m\u001b[0m\u001b[0m\n\u001b[1;32m--> 214\u001b[1;33m                 raise AttributeError(\"module {!r} has no attribute \"\n\u001b[0m\u001b[0;32m    215\u001b[0m                                      \"{!r}\".format(__name__, attr))\n\u001b[0;32m    216\u001b[0m \u001b[1;33m\u001b[0m\u001b[0m\n",
      "\u001b[1;31mAttributeError\u001b[0m: module 'numpy' has no attribute 'score'"
     ]
    }
   ],
   "source": [
    "print(\"Performance of the KMeans algorithm {}\".format(np.score(kms.predict(x_test)==y_test)))"
   ]
  },
  {
   "cell_type": "code",
   "execution_count": 72,
   "metadata": {},
   "outputs": [],
   "source": [
    "### Visualizing the clusters formed with the MFCC features \n",
    "from sklearn.decomposition import PCA"
   ]
  },
  {
   "cell_type": "code",
   "execution_count": 73,
   "metadata": {},
   "outputs": [],
   "source": [
    "cols=[\"mfcc_\"+str(i) for i in range(1,101)]"
   ]
  },
  {
   "cell_type": "code",
   "execution_count": 74,
   "metadata": {},
   "outputs": [
    {
     "data": {
      "text/plain": [
       "(8732, 100)"
      ]
     },
     "execution_count": 74,
     "metadata": {},
     "output_type": "execute_result"
    }
   ],
   "source": [
    "X.shape"
   ]
  },
  {
   "cell_type": "code",
   "execution_count": 75,
   "metadata": {},
   "outputs": [
    {
     "data": {
      "text/html": [
       "<div>\n",
       "<style scoped>\n",
       "    .dataframe tbody tr th:only-of-type {\n",
       "        vertical-align: middle;\n",
       "    }\n",
       "\n",
       "    .dataframe tbody tr th {\n",
       "        vertical-align: top;\n",
       "    }\n",
       "\n",
       "    .dataframe thead th {\n",
       "        text-align: right;\n",
       "    }\n",
       "</style>\n",
       "<table border=\"1\" class=\"dataframe\">\n",
       "  <thead>\n",
       "    <tr style=\"text-align: right;\">\n",
       "      <th></th>\n",
       "      <th>mfcc_1</th>\n",
       "      <th>mfcc_2</th>\n",
       "      <th>mfcc_3</th>\n",
       "      <th>mfcc_4</th>\n",
       "      <th>mfcc_5</th>\n",
       "      <th>mfcc_6</th>\n",
       "      <th>mfcc_7</th>\n",
       "      <th>mfcc_8</th>\n",
       "      <th>mfcc_9</th>\n",
       "      <th>mfcc_10</th>\n",
       "      <th>...</th>\n",
       "      <th>mfcc_92</th>\n",
       "      <th>mfcc_93</th>\n",
       "      <th>mfcc_94</th>\n",
       "      <th>mfcc_95</th>\n",
       "      <th>mfcc_96</th>\n",
       "      <th>mfcc_97</th>\n",
       "      <th>mfcc_98</th>\n",
       "      <th>mfcc_99</th>\n",
       "      <th>mfcc_100</th>\n",
       "      <th>labels</th>\n",
       "    </tr>\n",
       "  </thead>\n",
       "  <tbody>\n",
       "    <tr>\n",
       "      <th>0</th>\n",
       "      <td>-0.194094</td>\n",
       "      <td>-0.245846</td>\n",
       "      <td>-0.257338</td>\n",
       "      <td>-0.254405</td>\n",
       "      <td>-0.228413</td>\n",
       "      <td>-0.183040</td>\n",
       "      <td>-0.168400</td>\n",
       "      <td>-0.255636</td>\n",
       "      <td>-0.205028</td>\n",
       "      <td>-0.224966</td>\n",
       "      <td>...</td>\n",
       "      <td>-0.168960</td>\n",
       "      <td>-0.149873</td>\n",
       "      <td>-0.157563</td>\n",
       "      <td>-0.188760</td>\n",
       "      <td>-0.180248</td>\n",
       "      <td>-0.140350</td>\n",
       "      <td>-0.124752</td>\n",
       "      <td>-0.186866</td>\n",
       "      <td>-0.169289</td>\n",
       "      <td>dog_bark</td>\n",
       "    </tr>\n",
       "    <tr>\n",
       "      <th>1</th>\n",
       "      <td>-0.194096</td>\n",
       "      <td>-0.245861</td>\n",
       "      <td>-0.257168</td>\n",
       "      <td>-0.254123</td>\n",
       "      <td>-0.227894</td>\n",
       "      <td>-0.182221</td>\n",
       "      <td>-0.166327</td>\n",
       "      <td>-0.243851</td>\n",
       "      <td>-0.189817</td>\n",
       "      <td>-0.201324</td>\n",
       "      <td>...</td>\n",
       "      <td>-0.167880</td>\n",
       "      <td>-0.149260</td>\n",
       "      <td>-0.156838</td>\n",
       "      <td>-0.188098</td>\n",
       "      <td>-0.180092</td>\n",
       "      <td>-0.140230</td>\n",
       "      <td>-0.124718</td>\n",
       "      <td>-0.186773</td>\n",
       "      <td>-0.168994</td>\n",
       "      <td>dog_bark</td>\n",
       "    </tr>\n",
       "    <tr>\n",
       "      <th>2</th>\n",
       "      <td>-0.194046</td>\n",
       "      <td>-0.245725</td>\n",
       "      <td>-0.257372</td>\n",
       "      <td>-0.254421</td>\n",
       "      <td>-0.228669</td>\n",
       "      <td>-0.184072</td>\n",
       "      <td>-0.172084</td>\n",
       "      <td>-0.269980</td>\n",
       "      <td>-0.214520</td>\n",
       "      <td>-0.219644</td>\n",
       "      <td>...</td>\n",
       "      <td>-0.169794</td>\n",
       "      <td>-0.150657</td>\n",
       "      <td>-0.159099</td>\n",
       "      <td>-0.188738</td>\n",
       "      <td>-0.180254</td>\n",
       "      <td>-0.140208</td>\n",
       "      <td>-0.124723</td>\n",
       "      <td>-0.186834</td>\n",
       "      <td>-0.169147</td>\n",
       "      <td>dog_bark</td>\n",
       "    </tr>\n",
       "    <tr>\n",
       "      <th>3</th>\n",
       "      <td>-0.193691</td>\n",
       "      <td>-0.245054</td>\n",
       "      <td>-0.254095</td>\n",
       "      <td>-0.253805</td>\n",
       "      <td>-0.228509</td>\n",
       "      <td>-0.184462</td>\n",
       "      <td>-0.174646</td>\n",
       "      <td>-0.281940</td>\n",
       "      <td>-0.226030</td>\n",
       "      <td>-0.253798</td>\n",
       "      <td>...</td>\n",
       "      <td>-0.171996</td>\n",
       "      <td>-0.152102</td>\n",
       "      <td>-0.159575</td>\n",
       "      <td>-0.188732</td>\n",
       "      <td>-0.179793</td>\n",
       "      <td>-0.140039</td>\n",
       "      <td>-0.124475</td>\n",
       "      <td>-0.186240</td>\n",
       "      <td>-0.168856</td>\n",
       "      <td>dog_bark</td>\n",
       "    </tr>\n",
       "    <tr>\n",
       "      <th>4</th>\n",
       "      <td>-0.087734</td>\n",
       "      <td>-0.200533</td>\n",
       "      <td>-0.222128</td>\n",
       "      <td>-0.233749</td>\n",
       "      <td>-0.220536</td>\n",
       "      <td>-0.177039</td>\n",
       "      <td>-0.169342</td>\n",
       "      <td>-0.265926</td>\n",
       "      <td>-0.213420</td>\n",
       "      <td>-0.237289</td>\n",
       "      <td>...</td>\n",
       "      <td>-0.167441</td>\n",
       "      <td>-0.148069</td>\n",
       "      <td>-0.156195</td>\n",
       "      <td>-0.183988</td>\n",
       "      <td>-0.174449</td>\n",
       "      <td>-0.137087</td>\n",
       "      <td>-0.122181</td>\n",
       "      <td>-0.182401</td>\n",
       "      <td>-0.165284</td>\n",
       "      <td>gun_shot</td>\n",
       "    </tr>\n",
       "  </tbody>\n",
       "</table>\n",
       "<p>5 rows × 101 columns</p>\n",
       "</div>"
      ],
      "text/plain": [
       "     mfcc_1    mfcc_2    mfcc_3    mfcc_4    mfcc_5    mfcc_6    mfcc_7  \\\n",
       "0 -0.194094 -0.245846 -0.257338 -0.254405 -0.228413 -0.183040 -0.168400   \n",
       "1 -0.194096 -0.245861 -0.257168 -0.254123 -0.227894 -0.182221 -0.166327   \n",
       "2 -0.194046 -0.245725 -0.257372 -0.254421 -0.228669 -0.184072 -0.172084   \n",
       "3 -0.193691 -0.245054 -0.254095 -0.253805 -0.228509 -0.184462 -0.174646   \n",
       "4 -0.087734 -0.200533 -0.222128 -0.233749 -0.220536 -0.177039 -0.169342   \n",
       "\n",
       "     mfcc_8    mfcc_9   mfcc_10  ...   mfcc_92   mfcc_93   mfcc_94   mfcc_95  \\\n",
       "0 -0.255636 -0.205028 -0.224966  ... -0.168960 -0.149873 -0.157563 -0.188760   \n",
       "1 -0.243851 -0.189817 -0.201324  ... -0.167880 -0.149260 -0.156838 -0.188098   \n",
       "2 -0.269980 -0.214520 -0.219644  ... -0.169794 -0.150657 -0.159099 -0.188738   \n",
       "3 -0.281940 -0.226030 -0.253798  ... -0.171996 -0.152102 -0.159575 -0.188732   \n",
       "4 -0.265926 -0.213420 -0.237289  ... -0.167441 -0.148069 -0.156195 -0.183988   \n",
       "\n",
       "    mfcc_96   mfcc_97   mfcc_98   mfcc_99  mfcc_100    labels  \n",
       "0 -0.180248 -0.140350 -0.124752 -0.186866 -0.169289  dog_bark  \n",
       "1 -0.180092 -0.140230 -0.124718 -0.186773 -0.168994  dog_bark  \n",
       "2 -0.180254 -0.140208 -0.124723 -0.186834 -0.169147  dog_bark  \n",
       "3 -0.179793 -0.140039 -0.124475 -0.186240 -0.168856  dog_bark  \n",
       "4 -0.174449 -0.137087 -0.122181 -0.182401 -0.165284  gun_shot  \n",
       "\n",
       "[5 rows x 101 columns]"
      ]
     },
     "execution_count": 75,
     "metadata": {},
     "output_type": "execute_result"
    }
   ],
   "source": [
    "mfcc_pd=pd.DataFrame(data=scaler.fit_transform(X), columns=cols)\n",
    "mfcc_pd[\"labels\"]=y\n",
    "mfcc_pd.head()\n"
   ]
  },
  {
   "cell_type": "code",
   "execution_count": 76,
   "metadata": {},
   "outputs": [],
   "source": [
    "pca=PCA(n_components=2)"
   ]
  },
  {
   "cell_type": "code",
   "execution_count": 77,
   "metadata": {},
   "outputs": [],
   "source": [
    "pcas=pca.fit_transform(mfcc_pd.drop(\"labels\", axis=1))"
   ]
  },
  {
   "cell_type": "code",
   "execution_count": 78,
   "metadata": {},
   "outputs": [],
   "source": [
    "pca_cols=[\"pca_\"+str(i) for i in range(1,3)]"
   ]
  },
  {
   "cell_type": "code",
   "execution_count": 79,
   "metadata": {},
   "outputs": [
    {
     "data": {
      "text/html": [
       "<div>\n",
       "<style scoped>\n",
       "    .dataframe tbody tr th:only-of-type {\n",
       "        vertical-align: middle;\n",
       "    }\n",
       "\n",
       "    .dataframe tbody tr th {\n",
       "        vertical-align: top;\n",
       "    }\n",
       "\n",
       "    .dataframe thead th {\n",
       "        text-align: right;\n",
       "    }\n",
       "</style>\n",
       "<table border=\"1\" class=\"dataframe\">\n",
       "  <thead>\n",
       "    <tr style=\"text-align: right;\">\n",
       "      <th></th>\n",
       "      <th>pca_1</th>\n",
       "      <th>pca_2</th>\n",
       "      <th>labels</th>\n",
       "    </tr>\n",
       "  </thead>\n",
       "  <tbody>\n",
       "    <tr>\n",
       "      <th>0</th>\n",
       "      <td>-0.856383</td>\n",
       "      <td>-0.022298</td>\n",
       "      <td>dog_bark</td>\n",
       "    </tr>\n",
       "    <tr>\n",
       "      <th>1</th>\n",
       "      <td>-0.906160</td>\n",
       "      <td>0.065177</td>\n",
       "      <td>dog_bark</td>\n",
       "    </tr>\n",
       "    <tr>\n",
       "      <th>2</th>\n",
       "      <td>-1.194932</td>\n",
       "      <td>0.036838</td>\n",
       "      <td>dog_bark</td>\n",
       "    </tr>\n",
       "    <tr>\n",
       "      <th>3</th>\n",
       "      <td>-1.644183</td>\n",
       "      <td>0.208951</td>\n",
       "      <td>dog_bark</td>\n",
       "    </tr>\n",
       "    <tr>\n",
       "      <th>4</th>\n",
       "      <td>-1.799046</td>\n",
       "      <td>0.500944</td>\n",
       "      <td>gun_shot</td>\n",
       "    </tr>\n",
       "  </tbody>\n",
       "</table>\n",
       "</div>"
      ],
      "text/plain": [
       "      pca_1     pca_2    labels\n",
       "0 -0.856383 -0.022298  dog_bark\n",
       "1 -0.906160  0.065177  dog_bark\n",
       "2 -1.194932  0.036838  dog_bark\n",
       "3 -1.644183  0.208951  dog_bark\n",
       "4 -1.799046  0.500944  gun_shot"
      ]
     },
     "execution_count": 79,
     "metadata": {},
     "output_type": "execute_result"
    }
   ],
   "source": [
    "main_df=pd.DataFrame(data=pcas, columns=pca_cols)\n",
    "main_df[\"labels\"]=y\n",
    "main_df.head()"
   ]
  },
  {
   "cell_type": "code",
   "execution_count": 80,
   "metadata": {},
   "outputs": [
    {
     "data": {
      "text/plain": [
       "array(['dog_bark', 'gun_shot', 'jackhammer', 'engine_idling',\n",
       "       'children_playing', 'siren', 'street_music', 'air_conditioner',\n",
       "       'drilling', 'car_horn'], dtype=object)"
      ]
     },
     "execution_count": 80,
     "metadata": {},
     "output_type": "execute_result"
    }
   ],
   "source": [
    "main_df.labels.unique()"
   ]
  },
  {
   "cell_type": "code",
   "execution_count": 83,
   "metadata": {},
   "outputs": [
    {
     "data": {
      "image/png": "[encoded data removed]",
      "text/plain": [
       "<Figure size 576x576 with 1 Axes>"
      ]
     },
     "metadata": {
      "needs_background": "light"
     },
     "output_type": "display_data"
    }
   ],
   "source": [
    "fig = plt.figure(figsize = (8,8))\n",
    "ax = fig.add_subplot(1,1, 1) \n",
    "ax.set_xlabel('Principal Component 1', fontsize = 15)\n",
    "ax.set_ylabel('Principal Component 2', fontsize = 15)\n",
    "ax.set_title('2 component PCA', fontsize = 20)\n",
    "targets =['dog_bark', 'gun_shot', 'jackhammer', 'engine_idling',\n",
    "       'children_playing', 'siren', 'street_music', 'air_conditioner',\n",
    "       'drilling', 'car_horn']\n",
    "colors = ['#1f77b4', '#ff7f0e', '#2ca02c', '#d62728', '#9467bd', '#8c564b', '#e377c2', '#7f7f7f', '#bcbd22', '#17becf']\n",
    "for target, color in zip(targets,colors):\n",
    "    indicesToKeep = main_df['labels']== target\n",
    "    #print(indicesToKeep[:10])\n",
    "    ax.scatter(list(main_df.loc[indicesToKeep, 'pca_1'])\n",
    "               ,list(main_df.loc[indicesToKeep, 'pca_2'])\n",
    "               , c = color\n",
    "               , s = 50)\n",
    "ax.legend(['dog_bark', 'gun_shot', 'jackhammer', 'engine_idling',\n",
    "       'children_playing', 'siren', 'street_music', 'air_conditioner',\n",
    "       'drilling', 'car_horn'])\n",
    "ax.grid()"
   ]
  },
  {
   "cell_type": "code",
   "execution_count": 84,
   "metadata": {},
   "outputs": [
    {
     "name": "stdout",
     "output_type": "stream",
     "text": [
      "Total information  0.3474593237042427\n"
     ]
    }
   ],
   "source": [
    "pcas=pca.explained_variance_ratio_\n",
    "print(\"Total information \", sum(pcas))"
   ]
  },
  {
   "cell_type": "code",
   "execution_count": 85,
   "metadata": {},
   "outputs": [],
   "source": [
    "x_train, x_test, y_train, y_test = train_test_split(main_df.drop(\"labels\", axis=1), main_df[\"labels\"], test_size=0.2, random_state=42)"
   ]
  },
  {
   "cell_type": "code",
   "execution_count": 86,
   "metadata": {},
   "outputs": [
    {
     "name": "stdout",
     "output_type": "stream",
     "text": [
      "(6985, 2) (1747, 2) (6985,) (1747,)\n"
     ]
    }
   ],
   "source": [
    "print(x_train.shape, x_test.shape, y_train.shape , y_test.shape)"
   ]
  },
  {
   "cell_type": "code",
   "execution_count": 87,
   "metadata": {},
   "outputs": [
    {
     "data": {
      "text/plain": [
       "SVC()"
      ]
     },
     "execution_count": 87,
     "metadata": {},
     "output_type": "execute_result"
    }
   ],
   "source": [
    "svc_2=SVC()\n",
    "svc_2.fit(x_train, y_train)"
   ]
  },
  {
   "cell_type": "code",
   "execution_count": 88,
   "metadata": {},
   "outputs": [
    {
     "data": {
      "text/plain": [
       "0.2633085289066972"
      ]
     },
     "execution_count": 88,
     "metadata": {},
     "output_type": "execute_result"
    }
   ],
   "source": [
    "svc_2.score(x_test, y_test)"
   ]
  },
  {
   "cell_type": "code",
   "execution_count": 89,
   "metadata": {},
   "outputs": [
    {
     "data": {
      "text/plain": [
       "2"
      ]
     },
     "execution_count": 89,
     "metadata": {},
     "output_type": "execute_result"
    }
   ],
   "source": [
    "x_test.shape[1]"
   ]
  },
  {
   "cell_type": "code",
   "execution_count": 90,
   "metadata": {},
   "outputs": [],
   "source": [
    "# Predictions using SVC on 50 features\n",
    "predictions=svc_2.predict(x_test)\n"
   ]
  },
  {
   "cell_type": "code",
   "execution_count": 91,
   "metadata": {},
   "outputs": [],
   "source": [
    "from sklearn.metrics import confusion_matrix"
   ]
  },
  {
   "cell_type": "code",
   "execution_count": 92,
   "metadata": {},
   "outputs": [],
   "source": [
    " mat=confusion_matrix(predictions, y_test)"
   ]
  },
  {
   "cell_type": "code",
   "execution_count": 93,
   "metadata": {},
   "outputs": [],
   "source": [
    "def acc_per_class(np_probs_array):    \n",
    "    accs = []\n",
    "    for idx in range(0, np_probs_array.shape[0]):\n",
    "        correct = np_probs_array[idx][idx].astype(int)\n",
    "        total = np_probs_array[idx].sum().astype(int)\n",
    "        acc = (correct / total) * 100\n",
    "        accs.append(acc)\n",
    "    return accs"
   ]
  },
  {
   "cell_type": "code",
   "execution_count": 94,
   "metadata": {},
   "outputs": [
    {
     "name": "stderr",
     "output_type": "stream",
     "text": [
      "<ipython-input-93-6ca8ccb31732>:6: RuntimeWarning: invalid value encountered in long_scalars\n",
      "  acc = (correct / total) * 100\n"
     ]
    },
    {
     "data": {
      "text/html": [
       "<div>\n",
       "<style scoped>\n",
       "    .dataframe tbody tr th:only-of-type {\n",
       "        vertical-align: middle;\n",
       "    }\n",
       "\n",
       "    .dataframe tbody tr th {\n",
       "        vertical-align: top;\n",
       "    }\n",
       "\n",
       "    .dataframe thead th {\n",
       "        text-align: right;\n",
       "    }\n",
       "</style>\n",
       "<table border=\"1\" class=\"dataframe\">\n",
       "  <thead>\n",
       "    <tr style=\"text-align: right;\">\n",
       "      <th></th>\n",
       "      <th>CLASS</th>\n",
       "      <th>ACCURACY</th>\n",
       "    </tr>\n",
       "  </thead>\n",
       "  <tbody>\n",
       "    <tr>\n",
       "      <th>8</th>\n",
       "      <td>Siren</td>\n",
       "      <td>68.055556</td>\n",
       "    </tr>\n",
       "    <tr>\n",
       "      <th>5</th>\n",
       "      <td>Engine Idling</td>\n",
       "      <td>63.636364</td>\n",
       "    </tr>\n",
       "    <tr>\n",
       "      <th>4</th>\n",
       "      <td>Drilling</td>\n",
       "      <td>55.681818</td>\n",
       "    </tr>\n",
       "    <tr>\n",
       "      <th>6</th>\n",
       "      <td>Gun Shot</td>\n",
       "      <td>45.161290</td>\n",
       "    </tr>\n",
       "    <tr>\n",
       "      <th>7</th>\n",
       "      <td>Jackhammer</td>\n",
       "      <td>35.655738</td>\n",
       "    </tr>\n",
       "    <tr>\n",
       "      <th>3</th>\n",
       "      <td>Dog bark</td>\n",
       "      <td>33.606557</td>\n",
       "    </tr>\n",
       "    <tr>\n",
       "      <th>9</th>\n",
       "      <td>Street Music</td>\n",
       "      <td>22.222222</td>\n",
       "    </tr>\n",
       "    <tr>\n",
       "      <th>2</th>\n",
       "      <td>Children Playing</td>\n",
       "      <td>17.827004</td>\n",
       "    </tr>\n",
       "    <tr>\n",
       "      <th>0</th>\n",
       "      <td>Air Conditioner</td>\n",
       "      <td>14.583333</td>\n",
       "    </tr>\n",
       "    <tr>\n",
       "      <th>1</th>\n",
       "      <td>Car Horn</td>\n",
       "      <td>NaN</td>\n",
       "    </tr>\n",
       "  </tbody>\n",
       "</table>\n",
       "</div>"
      ],
      "text/plain": [
       "              CLASS   ACCURACY\n",
       "8             Siren  68.055556\n",
       "5     Engine Idling  63.636364\n",
       "4          Drilling  55.681818\n",
       "6          Gun Shot  45.161290\n",
       "7        Jackhammer  35.655738\n",
       "3          Dog bark  33.606557\n",
       "9      Street Music  22.222222\n",
       "2  Children Playing  17.827004\n",
       "0   Air Conditioner  14.583333\n",
       "1          Car Horn        NaN"
      ]
     },
     "execution_count": 94,
     "metadata": {},
     "output_type": "execute_result"
    }
   ],
   "source": [
    "accuracies=acc_per_class(mat)\n",
    "labels = [\n",
    "        'Air Conditioner',\n",
    "        'Car Horn',\n",
    "        'Children Playing',\n",
    "        'Dog bark',\n",
    "        'Drilling',\n",
    "        'Engine Idling',\n",
    "        'Gun Shot',\n",
    "        'Jackhammer',\n",
    "        'Siren',\n",
    "        'Street Music'\n",
    "    ]\n",
    "\n",
    "pd.DataFrame({'CLASS':labels, 'ACCURACY': accuracies}).sort_values(by='ACCURACY', ascending=False)"
   ]
  },
  {
   "cell_type": "code",
   "execution_count": null,
   "metadata": {},
   "outputs": [],
   "source": []
  },
  {
   "cell_type": "code",
   "execution_count": null,
   "metadata": {},
   "outputs": [],
   "source": []
  }
 ],
 "metadata": {
  "kernelspec": {
   "display_name": "Python 3",
   "language": "python",
   "name": "python3"
  },
  "language_info": {
   "codemirror_mode": {
    "name": "ipython",
    "version": 3
   },
   "file_extension": ".py",
   "mimetype": "text/x-python",
   "name": "python",
   "nbconvert_exporter": "python",
   "pygments_lexer": "ipython3",
   "version": "3.8.3"
  }
 },
 "nbformat": 4,
 "nbformat_minor": 4
}
