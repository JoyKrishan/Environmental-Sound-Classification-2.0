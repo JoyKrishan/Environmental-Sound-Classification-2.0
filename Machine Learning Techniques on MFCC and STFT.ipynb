{
 "cells": [
  {
   "cell_type": "code",
   "execution_count": 2,
   "metadata": {},
   "outputs": [],
   "source": [
    "#Done\n",
    "import os\n",
    "import sys\n",
    "from os import listdir\n",
    "from os.path import isfile, join\n",
    "import IPython.display as ipd\n",
    "import librosa \n",
    "import librosa.display\n",
    "%matplotlib inline\n",
    "import matplotlib.pyplot as plt\n",
    "import pandas as pd\n",
    "from scipy.io import wavfile as wav\n",
    "import numpy as np\n",
    "from timeit import default_timer as timer"
   ]
  },
  {
   "cell_type": "code",
   "execution_count": 3,
   "metadata": {},
   "outputs": [],
   "source": [
    "def extract_Chroma_stftandMFCC(filename):\n",
    "    audio,sample_rate=librosa.load(filename, res_type='kaiser_fast')\n",
    "    chroma_stft = np.mean(librosa.feature.chroma_stft(y=audio, sr=sample_rate,n_chroma=50).T,axis=0)\n",
    "    mfccs=np.mean(librosa.feature.mfcc(y=audio, sr=sample_rate , n_mfcc=50).T,axis=0)\n",
    "    \n",
    "    return chroma_stft, mfccs"
   ]
  },
  {
   "cell_type": "code",
   "execution_count": 4,
   "metadata": {},
   "outputs": [],
   "source": [
    "a=extract_Chroma_stftandMFCC(\"UrbanSound8K/audio/fold1/103074-7-0-1.wav\")"
   ]
  },
  {
   "cell_type": "code",
   "execution_count": 5,
   "metadata": {},
   "outputs": [
    {
     "data": {
      "text/html": [
       "<div>\n",
       "<style scoped>\n",
       "    .dataframe tbody tr th:only-of-type {\n",
       "        vertical-align: middle;\n",
       "    }\n",
       "\n",
       "    .dataframe tbody tr th {\n",
       "        vertical-align: top;\n",
       "    }\n",
       "\n",
       "    .dataframe thead th {\n",
       "        text-align: right;\n",
       "    }\n",
       "</style>\n",
       "<table border=\"1\" class=\"dataframe\">\n",
       "  <thead>\n",
       "    <tr style=\"text-align: right;\">\n",
       "      <th></th>\n",
       "      <th>slice_file_name</th>\n",
       "      <th>fsID</th>\n",
       "      <th>start</th>\n",
       "      <th>end</th>\n",
       "      <th>salience</th>\n",
       "      <th>fold</th>\n",
       "      <th>classID</th>\n",
       "      <th>class</th>\n",
       "    </tr>\n",
       "  </thead>\n",
       "  <tbody>\n",
       "    <tr>\n",
       "      <th>0</th>\n",
       "      <td>100032-3-0-0.wav</td>\n",
       "      <td>100032</td>\n",
       "      <td>0.0</td>\n",
       "      <td>0.317551</td>\n",
       "      <td>1</td>\n",
       "      <td>5</td>\n",
       "      <td>3</td>\n",
       "      <td>dog_bark</td>\n",
       "    </tr>\n",
       "    <tr>\n",
       "      <th>1</th>\n",
       "      <td>100263-2-0-117.wav</td>\n",
       "      <td>100263</td>\n",
       "      <td>58.5</td>\n",
       "      <td>62.500000</td>\n",
       "      <td>1</td>\n",
       "      <td>5</td>\n",
       "      <td>2</td>\n",
       "      <td>children_playing</td>\n",
       "    </tr>\n",
       "    <tr>\n",
       "      <th>2</th>\n",
       "      <td>100263-2-0-121.wav</td>\n",
       "      <td>100263</td>\n",
       "      <td>60.5</td>\n",
       "      <td>64.500000</td>\n",
       "      <td>1</td>\n",
       "      <td>5</td>\n",
       "      <td>2</td>\n",
       "      <td>children_playing</td>\n",
       "    </tr>\n",
       "    <tr>\n",
       "      <th>3</th>\n",
       "      <td>100263-2-0-126.wav</td>\n",
       "      <td>100263</td>\n",
       "      <td>63.0</td>\n",
       "      <td>67.000000</td>\n",
       "      <td>1</td>\n",
       "      <td>5</td>\n",
       "      <td>2</td>\n",
       "      <td>children_playing</td>\n",
       "    </tr>\n",
       "    <tr>\n",
       "      <th>4</th>\n",
       "      <td>100263-2-0-137.wav</td>\n",
       "      <td>100263</td>\n",
       "      <td>68.5</td>\n",
       "      <td>72.500000</td>\n",
       "      <td>1</td>\n",
       "      <td>5</td>\n",
       "      <td>2</td>\n",
       "      <td>children_playing</td>\n",
       "    </tr>\n",
       "  </tbody>\n",
       "</table>\n",
       "</div>"
      ],
      "text/plain": [
       "      slice_file_name    fsID  start        end  salience  fold  classID  \\\n",
       "0    100032-3-0-0.wav  100032    0.0   0.317551         1     5        3   \n",
       "1  100263-2-0-117.wav  100263   58.5  62.500000         1     5        2   \n",
       "2  100263-2-0-121.wav  100263   60.5  64.500000         1     5        2   \n",
       "3  100263-2-0-126.wav  100263   63.0  67.000000         1     5        2   \n",
       "4  100263-2-0-137.wav  100263   68.5  72.500000         1     5        2   \n",
       "\n",
       "              class  \n",
       "0          dog_bark  \n",
       "1  children_playing  \n",
       "2  children_playing  \n",
       "3  children_playing  \n",
       "4  children_playing  "
      ]
     },
     "execution_count": 5,
     "metadata": {},
     "output_type": "execute_result"
    }
   ],
   "source": [
    "metadata=pd.read_csv(\"UrbanSound8k/metadata/UrbanSound8k.csv\")\n",
    "metadata.head()"
   ]
  },
  {
   "cell_type": "code",
   "execution_count": 6,
   "metadata": {},
   "outputs": [],
   "source": [
    "fold_list = ['fold1', 'fold2', 'fold3', 'fold4', 'fold5', 'fold6', 'fold7', 'fold8', 'fold9', 'fold10']"
   ]
  },
  {
   "cell_type": "code",
   "execution_count": 8,
   "metadata": {},
   "outputs": [
    {
     "name": "stderr",
     "output_type": "stream",
     "text": [
      "C:\\Users\\pc\\Anaconda3\\lib\\site-packages\\librosa\\core\\audio.py:162: UserWarning: PySoundFile failed. Trying audioread instead.\n",
      "  warnings.warn(\"PySoundFile failed. Trying audioread instead.\")\n"
     ]
    },
    {
     "name": "stdout",
     "output_type": "stream",
     "text": [
      "UrbanSound8K/audio/fold1/.DS_Store\n"
     ]
    },
    {
     "name": "stderr",
     "output_type": "stream",
     "text": [
      "C:\\Users\\pc\\Anaconda3\\lib\\site-packages\\librosa\\core\\pitch.py:153: UserWarning: Trying to estimate tuning from empty frequency set.\n",
      "  warnings.warn(\"Trying to estimate tuning from empty frequency set.\")\n",
      "C:\\Users\\pc\\Anaconda3\\lib\\site-packages\\librosa\\core\\spectrum.py:222: UserWarning: n_fft=2048 is too small for input signal of length=1103\n",
      "  warnings.warn(\n",
      "C:\\Users\\pc\\Anaconda3\\lib\\site-packages\\librosa\\core\\spectrum.py:222: UserWarning: n_fft=2048 is too small for input signal of length=1323\n",
      "  warnings.warn(\n",
      "C:\\Users\\pc\\Anaconda3\\lib\\site-packages\\librosa\\core\\spectrum.py:222: UserWarning: n_fft=2048 is too small for input signal of length=1523\n",
      "  warnings.warn(\n"
     ]
    },
    {
     "name": "stdout",
     "output_type": "stream",
     "text": [
      "UrbanSound8K/audio/fold2/.DS_Store\n",
      "UrbanSound8K/audio/fold3/.DS_Store\n",
      "UrbanSound8K/audio/fold4/.DS_Store\n",
      "UrbanSound8K/audio/fold5/.DS_Store\n",
      "UrbanSound8K/audio/fold6/.DS_Store\n",
      "UrbanSound8K/audio/fold7/.DS_Store\n",
      "UrbanSound8K/audio/fold8/.DS_Store\n",
      "UrbanSound8K/audio/fold9/.DS_Store\n",
      "UrbanSound8K/audio/fold10/.DS_Store\n",
      "Exceptions:  10\n",
      "time taken: 37.0 minutes 12.9 seconds\n",
      "None\n",
      "Finished feature extraction from all folder\n"
     ]
    }
   ],
   "source": [
    "stacked_features = []\n",
    "exceptions=0\n",
    "\n",
    "start_time = timer()\n",
    "for i in range(10):\n",
    "    # get file names\n",
    "    mypath = 'UrbanSound8K/audio/'+ fold_list[i] + '/'\n",
    "    files = [mypath + f for f in listdir(mypath) if isfile(join(mypath, f))]\n",
    "    \n",
    "    for fn in files:\n",
    "        try: # extract features\n",
    "            mfccs,stft = extract_Chroma_stftandMFCC(fn)\n",
    "            features=np.reshape((np.hstack([mfccs,stft])),(20,5))\n",
    "    \n",
    "            \n",
    "            \n",
    "        except: # else exception (.ds_store files are part of mac file systems)\n",
    "            print(fn)\n",
    "            exceptions += 1\n",
    "            continue\n",
    "            \n",
    "        l_row = metadata.loc[metadata['slice_file_name']==fn.split('/')[-1]].values.tolist()\n",
    "        label = l_row[0][-1]\n",
    "        fold = i+1\n",
    "    \n",
    "        stacked_features.append([features, features.shape, label, fold])\n",
    "        \n",
    "            #print(f,old_samplerate,ss)\n",
    "        \n",
    "print(\"Exceptions: \", exceptions)\n",
    "end_time = timer()\n",
    "print(print(\"time taken: {0} minutes {1:.1f} seconds\".format((end_time - start_time)//60, (end_time - start_time)%60)))\n",
    "print('Finished feature extraction from all folder')"
   ]
  },
  {
   "cell_type": "code",
   "execution_count": 9,
   "metadata": {},
   "outputs": [
    {
     "data": {
      "text/html": [
       "<div>\n",
       "<style scoped>\n",
       "    .dataframe tbody tr th:only-of-type {\n",
       "        vertical-align: middle;\n",
       "    }\n",
       "\n",
       "    .dataframe tbody tr th {\n",
       "        vertical-align: top;\n",
       "    }\n",
       "\n",
       "    .dataframe thead th {\n",
       "        text-align: right;\n",
       "    }\n",
       "</style>\n",
       "<table border=\"1\" class=\"dataframe\">\n",
       "  <thead>\n",
       "    <tr style=\"text-align: right;\">\n",
       "      <th></th>\n",
       "      <th>Stacked_Features</th>\n",
       "      <th>Matrix_Shape</th>\n",
       "      <th>Label</th>\n",
       "      <th>Fold</th>\n",
       "    </tr>\n",
       "  </thead>\n",
       "  <tbody>\n",
       "    <tr>\n",
       "      <th>0</th>\n",
       "      <td>[[0.43009543, 0.42641523, 0.42061862, 0.430975...</td>\n",
       "      <td>(20, 5)</td>\n",
       "      <td>dog_bark</td>\n",
       "      <td>1</td>\n",
       "    </tr>\n",
       "    <tr>\n",
       "      <th>1</th>\n",
       "      <td>[[0.35211265, 0.34623802, 0.32027006, 0.302557...</td>\n",
       "      <td>(20, 5)</td>\n",
       "      <td>dog_bark</td>\n",
       "      <td>1</td>\n",
       "    </tr>\n",
       "    <tr>\n",
       "      <th>2</th>\n",
       "      <td>[[0.40203726, 0.41237363, 0.4372927, 0.4695518...</td>\n",
       "      <td>(20, 5)</td>\n",
       "      <td>dog_bark</td>\n",
       "      <td>1</td>\n",
       "    </tr>\n",
       "    <tr>\n",
       "      <th>3</th>\n",
       "      <td>[[0.15579388, 0.15788382, 0.15425776, 0.168307...</td>\n",
       "      <td>(20, 5)</td>\n",
       "      <td>dog_bark</td>\n",
       "      <td>1</td>\n",
       "    </tr>\n",
       "    <tr>\n",
       "      <th>4</th>\n",
       "      <td>[[0.58354944, 0.58172417, 0.582746, 0.54908836...</td>\n",
       "      <td>(20, 5)</td>\n",
       "      <td>gun_shot</td>\n",
       "      <td>1</td>\n",
       "    </tr>\n",
       "  </tbody>\n",
       "</table>\n",
       "</div>"
      ],
      "text/plain": [
       "                                    Stacked_Features Matrix_Shape     Label  \\\n",
       "0  [[0.43009543, 0.42641523, 0.42061862, 0.430975...      (20, 5)  dog_bark   \n",
       "1  [[0.35211265, 0.34623802, 0.32027006, 0.302557...      (20, 5)  dog_bark   \n",
       "2  [[0.40203726, 0.41237363, 0.4372927, 0.4695518...      (20, 5)  dog_bark   \n",
       "3  [[0.15579388, 0.15788382, 0.15425776, 0.168307...      (20, 5)  dog_bark   \n",
       "4  [[0.58354944, 0.58172417, 0.582746, 0.54908836...      (20, 5)  gun_shot   \n",
       "\n",
       "   Fold  \n",
       "0     1  \n",
       "1     1  \n",
       "2     1  \n",
       "3     1  \n",
       "4     1  "
      ]
     },
     "execution_count": 9,
     "metadata": {},
     "output_type": "execute_result"
    }
   ],
   "source": [
    "cols=['Stacked_Features', 'Matrix_Shape', 'Label', 'Fold']\n",
    "Stacked_feature_pd=pd.DataFrame(data=stacked_features , columns=cols)\n",
    "Stacked_feature_pd.head()"
   ]
  },
  {
   "cell_type": "code",
   "execution_count": 10,
   "metadata": {},
   "outputs": [
    {
     "data": {
      "text/plain": [
       "array(['dog_bark', 'gun_shot', 'jackhammer', 'engine_idling',\n",
       "       'children_playing', 'siren', 'street_music', 'air_conditioner',\n",
       "       'drilling', 'car_horn'], dtype=object)"
      ]
     },
     "execution_count": 10,
     "metadata": {},
     "output_type": "execute_result"
    }
   ],
   "source": [
    "Stacked_feature_pd.Label.unique()"
   ]
  },
  {
   "cell_type": "code",
   "execution_count": 11,
   "metadata": {},
   "outputs": [
    {
     "name": "stdout",
     "output_type": "stream",
     "text": [
      "(8732,)\n"
     ]
    }
   ],
   "source": [
    "from sklearn.preprocessing import LabelEncoder\n",
    "\n",
    "X = np.reshape(np.array(Stacked_feature_pd.Stacked_Features.tolist()), (8732, 100))\n",
    "y = np.array(Stacked_feature_pd.Label.tolist())\n",
    "\n",
    "le = LabelEncoder()\n",
    "yy = le.fit_transform(y)\n",
    "print(yy.shape)"
   ]
  },
  {
   "cell_type": "code",
   "execution_count": 12,
   "metadata": {},
   "outputs": [],
   "source": [
    "from sklearn.preprocessing import StandardScaler\n",
    "scaler= StandardScaler()"
   ]
  },
  {
   "cell_type": "code",
   "execution_count": 13,
   "metadata": {},
   "outputs": [],
   "source": [
    "from sklearn.model_selection import train_test_split \n",
    "\n",
    "x_train, x_test, y_train, y_test = train_test_split(scaler.fit_transform(X), yy, test_size=0.2,random_state=42)"
   ]
  },
  {
   "cell_type": "code",
   "execution_count": 14,
   "metadata": {},
   "outputs": [
    {
     "name": "stdout",
     "output_type": "stream",
     "text": [
      "(6985, 100) (1747, 100) (6985,) (1747,)\n"
     ]
    }
   ],
   "source": [
    "print(x_train.shape, x_test.shape, y_train.shape , y_test.shape)"
   ]
  },
  {
   "cell_type": "code",
   "execution_count": 15,
   "metadata": {},
   "outputs": [
    {
     "name": "stdout",
     "output_type": "stream",
     "text": [
      "[-0.3899997  -0.05997923 -0.59593135 -0.62817645 -0.70585614 -0.5563699\n",
      " -0.5596803  -0.74071896 -0.80090714 -0.6584303 ]\n"
     ]
    }
   ],
   "source": [
    "print(x_train[0][:10])"
   ]
  },
  {
   "cell_type": "markdown",
   "metadata": {},
   "source": [
    "### Classification using KNN"
   ]
  },
  {
   "cell_type": "code",
   "execution_count": 16,
   "metadata": {},
   "outputs": [],
   "source": [
    "from sklearn.neighbors import KNeighborsClassifier"
   ]
  },
  {
   "cell_type": "code",
   "execution_count": 17,
   "metadata": {},
   "outputs": [],
   "source": [
    "knn_model=KNeighborsClassifier(n_neighbors=6) "
   ]
  },
  {
   "cell_type": "code",
   "execution_count": 18,
   "metadata": {},
   "outputs": [
    {
     "data": {
      "text/plain": [
       "(6985, 100)"
      ]
     },
     "execution_count": 18,
     "metadata": {},
     "output_type": "execute_result"
    }
   ],
   "source": [
    "x_train=np.reshape(x_train,(6985,100))\n",
    "x_test=np.reshape(x_test,(1747,100))\n",
    "x_train.shape"
   ]
  },
  {
   "cell_type": "code",
   "execution_count": 19,
   "metadata": {},
   "outputs": [
    {
     "name": "stdout",
     "output_type": "stream",
     "text": [
      "Total time required is 0.00 mins and 1.12 secs\n"
     ]
    }
   ],
   "source": [
    "start_time=timer()\n",
    "knn_model.fit(x_train, y_train)\n",
    "end_time=timer()\n",
    "print(\"Total time required is {:.2f} mins and {:.2f} secs\".format( (end_time-start_time)//60, (end_time-start_time)%60 ) )"
   ]
  },
  {
   "cell_type": "code",
   "execution_count": 20,
   "metadata": {},
   "outputs": [
    {
     "name": "stdout",
     "output_type": "stream",
     "text": [
      "Training accuracy is 0.89\n",
      "Testing accuracy is 0.84\n"
     ]
    }
   ],
   "source": [
    "print(\"Training accuracy is {:.2f}\".format(knn_model.score(x_train, y_train)))\n",
    "print(\"Testing accuracy is {:.2f}\".format(knn_model.score(x_test, y_test)))"
   ]
  },
  {
   "cell_type": "markdown",
   "metadata": {},
   "source": [
    "### Classification using Logistic Regression"
   ]
  },
  {
   "cell_type": "code",
   "execution_count": 21,
   "metadata": {},
   "outputs": [],
   "source": [
    "from sklearn.linear_model import LogisticRegression\n",
    "log = LogisticRegression(max_iter=1000)"
   ]
  },
  {
   "cell_type": "code",
   "execution_count": 22,
   "metadata": {},
   "outputs": [
    {
     "name": "stdout",
     "output_type": "stream",
     "text": [
      "Total time required is 0.00 mins and 36.60 secs\n"
     ]
    }
   ],
   "source": [
    "start = timer()\n",
    "log.fit(x_train , y_train)\n",
    "end = timer()\n",
    "print(\"Total time required is {:.2f} mins and {:.2f} secs\".format( (end- start)//60, (end - start)%60 ))"
   ]
  },
  {
   "cell_type": "code",
   "execution_count": 26,
   "metadata": {},
   "outputs": [
    {
     "name": "stdout",
     "output_type": "stream",
     "text": [
      "Training accuracy is 0.76\n",
      "Testing accuracy is 0.72\n"
     ]
    }
   ],
   "source": [
    "print(\"Training accuracy is {:.2f}\".format(log.score(x_train, y_train)))\n",
    "print(\"Testing accuracy is {:.2f}\".format(log.score(x_test, y_test)))"
   ]
  },
  {
   "cell_type": "markdown",
   "metadata": {},
   "source": [
    "### Classification using Decision Tree"
   ]
  },
  {
   "cell_type": "code",
   "execution_count": 27,
   "metadata": {},
   "outputs": [],
   "source": [
    "from sklearn.tree import DecisionTreeClassifier\n",
    "tree_model=DecisionTreeClassifier()"
   ]
  },
  {
   "cell_type": "code",
   "execution_count": 28,
   "metadata": {},
   "outputs": [
    {
     "name": "stdout",
     "output_type": "stream",
     "text": [
      "Total time required is 0.00 mins and 3.73 secs\n"
     ]
    }
   ],
   "source": [
    "start_time=timer()\n",
    "tree_model.fit(x_train, y_train)\n",
    "end_time=timer()\n",
    "print(\"Total time required is {:.2f} mins and {:.2f} secs\".format( (end_time-start_time)//60, (end_time-start_time)%60 ) )"
   ]
  },
  {
   "cell_type": "code",
   "execution_count": 29,
   "metadata": {},
   "outputs": [
    {
     "name": "stdout",
     "output_type": "stream",
     "text": [
      "Training accuracy is 1.0\n",
      "Testing accuracy is 0.71\n"
     ]
    }
   ],
   "source": [
    "print(\"Training accuracy is {}\".format(tree_model.score(x_train, y_train)))\n",
    "print(\"Testing accuracy is {:.2f}\".format(tree_model.score(x_test, y_test)))"
   ]
  },
  {
   "cell_type": "markdown",
   "metadata": {},
   "source": [
    "### Classification using SVM"
   ]
  },
  {
   "cell_type": "code",
   "execution_count": 30,
   "metadata": {},
   "outputs": [],
   "source": [
    "from sklearn.svm import SVC"
   ]
  },
  {
   "cell_type": "code",
   "execution_count": 31,
   "metadata": {},
   "outputs": [],
   "source": [
    "svc= SVC(kernel=\"rbf\")"
   ]
  },
  {
   "cell_type": "code",
   "execution_count": 32,
   "metadata": {},
   "outputs": [
    {
     "name": "stdout",
     "output_type": "stream",
     "text": [
      "Total time required is 0.00 mins and 15.25 secs\n"
     ]
    }
   ],
   "source": [
    "start_time=timer()\n",
    "svc.fit(x_train, y_train)\n",
    "end_time=timer()\n",
    "print(\"Total time required is {:.2f} mins and {:.2f} secs\".format( (end_time-start_time)//60, (end_time-start_time)%60 ) )"
   ]
  },
  {
   "cell_type": "code",
   "execution_count": 33,
   "metadata": {},
   "outputs": [
    {
     "name": "stdout",
     "output_type": "stream",
     "text": [
      "Training accuracy is 0.9315676449534718\n",
      "Testing accuracy is 0.90\n"
     ]
    }
   ],
   "source": [
    "print(\"Training accuracy is {}\".format(svc.score(x_train, y_train)))\n",
    "print(\"Testing accuracy is {:.2f}\".format(svc.score(x_test, y_test)))"
   ]
  },
  {
   "cell_type": "markdown",
   "metadata": {},
   "source": [
    "### Classification using Ensemble Classifiers"
   ]
  },
  {
   "cell_type": "code",
   "execution_count": 34,
   "metadata": {},
   "outputs": [],
   "source": [
    "from sklearn.ensemble import RandomForestClassifier"
   ]
  },
  {
   "cell_type": "code",
   "execution_count": 35,
   "metadata": {},
   "outputs": [],
   "source": [
    "rf=RandomForestClassifier(n_estimators=500)"
   ]
  },
  {
   "cell_type": "code",
   "execution_count": 36,
   "metadata": {},
   "outputs": [
    {
     "name": "stdout",
     "output_type": "stream",
     "text": [
      "Total time required is 1.00 mins and 48.74 secs\n"
     ]
    }
   ],
   "source": [
    "start_time=timer()\n",
    "rf.fit(x_train, y_train)\n",
    "end_time=timer()\n",
    "print(\"Total time required is {:.2f} mins and {:.2f} secs\".format( (end_time-start_time)//60, (end_time-start_time)%60 ) )"
   ]
  },
  {
   "cell_type": "code",
   "execution_count": 37,
   "metadata": {},
   "outputs": [
    {
     "name": "stdout",
     "output_type": "stream",
     "text": [
      "Training accuracy is 1.0\n",
      "Testing accuracy is 0.91\n"
     ]
    }
   ],
   "source": [
    "print(\"Training accuracy is {}\".format(rf.score(x_train, y_train)))\n",
    "print(\"Testing accuracy is {:.2f}\".format(rf.score(x_test, y_test)))"
   ]
  },
  {
   "cell_type": "markdown",
   "metadata": {},
   "source": [
    "**Overfitting using RandomForestClassifiers**"
   ]
  },
  {
   "cell_type": "code",
   "execution_count": 38,
   "metadata": {},
   "outputs": [],
   "source": [
    "from sklearn.ensemble import BaggingClassifier, AdaBoostClassifier"
   ]
  },
  {
   "cell_type": "code",
   "execution_count": 39,
   "metadata": {},
   "outputs": [],
   "source": [
    "bg=BaggingClassifier()"
   ]
  },
  {
   "cell_type": "code",
   "execution_count": 40,
   "metadata": {},
   "outputs": [
    {
     "name": "stdout",
     "output_type": "stream",
     "text": [
      "Total time required is 0.00 mins and 14.08 secs\n"
     ]
    }
   ],
   "source": [
    "start_time = timer()\n",
    "bg.fit(x_train, y_train)\n",
    "end_time = timer()\n",
    "print(\"Total time required is {:.2f} mins and {:.2f} secs\".format( (end_time-start_time)//60, (end_time-start_time)%60 ) )"
   ]
  },
  {
   "cell_type": "code",
   "execution_count": 41,
   "metadata": {},
   "outputs": [
    {
     "name": "stdout",
     "output_type": "stream",
     "text": [
      "Training accuracy of the Bagging Classifier 1.00\n",
      "Testing accuracy of the Bagging Classifier 0.83\n"
     ]
    }
   ],
   "source": [
    "print(\"Training accuracy of the Bagging Classifier {:.2f}\".format(bg.score(x_train, y_train)) )\n",
    "print(\"Testing accuracy of the Bagging Classifier {:.2f}\".format(bg.score(x_test, y_test)) )"
   ]
  },
  {
   "cell_type": "code",
   "execution_count": 42,
   "metadata": {},
   "outputs": [],
   "source": [
    "ada= AdaBoostClassifier()"
   ]
  },
  {
   "cell_type": "code",
   "execution_count": 43,
   "metadata": {},
   "outputs": [
    {
     "name": "stdout",
     "output_type": "stream",
     "text": [
      "Total time required is 0.00 mins and 11.20 secs\n"
     ]
    }
   ],
   "source": [
    "start_time= timer()\n",
    "ada.fit(x_train, y_train)\n",
    "end_time= timer()\n",
    "print(\"Total time required is {:.2f} mins and {:.2f} secs\".format( (end_time-start_time)//60, (end_time-start_time)%60 ) )"
   ]
  },
  {
   "cell_type": "code",
   "execution_count": 44,
   "metadata": {},
   "outputs": [
    {
     "name": "stdout",
     "output_type": "stream",
     "text": [
      "Training accuracy of the AdaBoost Classifier 0.48\n",
      "Testing accuracy of the AdaBoost Classifier 0.45\n"
     ]
    }
   ],
   "source": [
    "print(\"Training accuracy of the AdaBoost Classifier {:.2f}\".format(ada.score(x_train, y_train)) )\n",
    "print(\"Testing accuracy of the AdaBoost Classifier {:.2f}\".format(ada.score(x_test, y_test)) )"
   ]
  },
  {
   "cell_type": "code",
   "execution_count": 45,
   "metadata": {},
   "outputs": [],
   "source": [
    "from sklearn.ensemble import GradientBoostingClassifier"
   ]
  },
  {
   "cell_type": "code",
   "execution_count": 46,
   "metadata": {},
   "outputs": [
    {
     "name": "stdout",
     "output_type": "stream",
     "text": [
      "Total time required is 8.00 mins and 47.23 secs\n"
     ]
    }
   ],
   "source": [
    "gbc = GradientBoostingClassifier()\n",
    "start_time= timer()\n",
    "gbc.fit(x_train, y_train)\n",
    "end_time= timer()\n",
    "print(\"Total time required is {:.2f} mins and {:.2f} secs\".format( (end_time-start_time)//60, (end_time-start_time)%60 ) )"
   ]
  },
  {
   "cell_type": "code",
   "execution_count": 47,
   "metadata": {},
   "outputs": [
    {
     "name": "stdout",
     "output_type": "stream",
     "text": [
      "Training accuracy of the Gradient Boosting Classifier 0.96\n",
      "Testing accuracy of the Gradient Boosting Classifier 0.86\n"
     ]
    }
   ],
   "source": [
    "print(\"Training accuracy of the Gradient Boosting Classifier {:.2f}\".format(gbc.score(x_train, y_train)) )\n",
    "print(\"Testing accuracy of the Gradient Boosting Classifier {:.2f}\".format(gbc.score(x_test, y_test)) )"
   ]
  },
  {
   "cell_type": "code",
   "execution_count": 48,
   "metadata": {},
   "outputs": [],
   "source": [
    "from sklearn.linear_model import LogisticRegression\n",
    "log =LogisticRegression(max_iter=1000)"
   ]
  },
  {
   "cell_type": "code",
   "execution_count": 49,
   "metadata": {},
   "outputs": [],
   "source": [
    "### Unsupervised Learning \n",
    "from sklearn.cluster import KMeans\n",
    "kms= KMeans(n_clusters=10)"
   ]
  },
  {
   "cell_type": "code",
   "execution_count": 50,
   "metadata": {},
   "outputs": [
    {
     "data": {
      "text/plain": [
       "KMeans(n_clusters=10)"
      ]
     },
     "execution_count": 50,
     "metadata": {},
     "output_type": "execute_result"
    }
   ],
   "source": [
    "kms.fit(x_train)"
   ]
  },
  {
   "cell_type": "code",
   "execution_count": 51,
   "metadata": {},
   "outputs": [
    {
     "data": {
      "text/html": [
       "<div>\n",
       "<style scoped>\n",
       "    .dataframe tbody tr th:only-of-type {\n",
       "        vertical-align: middle;\n",
       "    }\n",
       "\n",
       "    .dataframe tbody tr th {\n",
       "        vertical-align: top;\n",
       "    }\n",
       "\n",
       "    .dataframe thead th {\n",
       "        text-align: right;\n",
       "    }\n",
       "</style>\n",
       "<table border=\"1\" class=\"dataframe\">\n",
       "  <thead>\n",
       "    <tr style=\"text-align: right;\">\n",
       "      <th>col_0</th>\n",
       "      <th>0</th>\n",
       "      <th>1</th>\n",
       "      <th>2</th>\n",
       "      <th>3</th>\n",
       "      <th>4</th>\n",
       "      <th>5</th>\n",
       "      <th>6</th>\n",
       "      <th>7</th>\n",
       "      <th>8</th>\n",
       "      <th>9</th>\n",
       "    </tr>\n",
       "    <tr>\n",
       "      <th>row_0</th>\n",
       "      <th></th>\n",
       "      <th></th>\n",
       "      <th></th>\n",
       "      <th></th>\n",
       "      <th></th>\n",
       "      <th></th>\n",
       "      <th></th>\n",
       "      <th></th>\n",
       "      <th></th>\n",
       "      <th></th>\n",
       "    </tr>\n",
       "  </thead>\n",
       "  <tbody>\n",
       "    <tr>\n",
       "      <th>0</th>\n",
       "      <td>38</td>\n",
       "      <td>90</td>\n",
       "      <td>56</td>\n",
       "      <td>52</td>\n",
       "      <td>52</td>\n",
       "      <td>3</td>\n",
       "      <td>0</td>\n",
       "      <td>11</td>\n",
       "      <td>350</td>\n",
       "      <td>152</td>\n",
       "    </tr>\n",
       "    <tr>\n",
       "      <th>1</th>\n",
       "      <td>198</td>\n",
       "      <td>5</td>\n",
       "      <td>65</td>\n",
       "      <td>52</td>\n",
       "      <td>2</td>\n",
       "      <td>237</td>\n",
       "      <td>98</td>\n",
       "      <td>26</td>\n",
       "      <td>21</td>\n",
       "      <td>25</td>\n",
       "    </tr>\n",
       "    <tr>\n",
       "      <th>2</th>\n",
       "      <td>11</td>\n",
       "      <td>12</td>\n",
       "      <td>114</td>\n",
       "      <td>114</td>\n",
       "      <td>44</td>\n",
       "      <td>32</td>\n",
       "      <td>12</td>\n",
       "      <td>0</td>\n",
       "      <td>83</td>\n",
       "      <td>164</td>\n",
       "    </tr>\n",
       "    <tr>\n",
       "      <th>3</th>\n",
       "      <td>102</td>\n",
       "      <td>52</td>\n",
       "      <td>94</td>\n",
       "      <td>49</td>\n",
       "      <td>362</td>\n",
       "      <td>65</td>\n",
       "      <td>0</td>\n",
       "      <td>167</td>\n",
       "      <td>65</td>\n",
       "      <td>124</td>\n",
       "    </tr>\n",
       "    <tr>\n",
       "      <th>4</th>\n",
       "      <td>0</td>\n",
       "      <td>140</td>\n",
       "      <td>0</td>\n",
       "      <td>0</td>\n",
       "      <td>0</td>\n",
       "      <td>0</td>\n",
       "      <td>0</td>\n",
       "      <td>0</td>\n",
       "      <td>0</td>\n",
       "      <td>0</td>\n",
       "    </tr>\n",
       "    <tr>\n",
       "      <th>5</th>\n",
       "      <td>52</td>\n",
       "      <td>33</td>\n",
       "      <td>217</td>\n",
       "      <td>311</td>\n",
       "      <td>63</td>\n",
       "      <td>13</td>\n",
       "      <td>2</td>\n",
       "      <td>0</td>\n",
       "      <td>126</td>\n",
       "      <td>192</td>\n",
       "    </tr>\n",
       "    <tr>\n",
       "      <th>6</th>\n",
       "      <td>88</td>\n",
       "      <td>12</td>\n",
       "      <td>164</td>\n",
       "      <td>176</td>\n",
       "      <td>64</td>\n",
       "      <td>77</td>\n",
       "      <td>153</td>\n",
       "      <td>5</td>\n",
       "      <td>36</td>\n",
       "      <td>62</td>\n",
       "    </tr>\n",
       "    <tr>\n",
       "      <th>7</th>\n",
       "      <td>180</td>\n",
       "      <td>7</td>\n",
       "      <td>48</td>\n",
       "      <td>27</td>\n",
       "      <td>135</td>\n",
       "      <td>74</td>\n",
       "      <td>35</td>\n",
       "      <td>357</td>\n",
       "      <td>28</td>\n",
       "      <td>25</td>\n",
       "    </tr>\n",
       "    <tr>\n",
       "      <th>8</th>\n",
       "      <td>49</td>\n",
       "      <td>3</td>\n",
       "      <td>31</td>\n",
       "      <td>18</td>\n",
       "      <td>14</td>\n",
       "      <td>138</td>\n",
       "      <td>8</td>\n",
       "      <td>60</td>\n",
       "      <td>13</td>\n",
       "      <td>27</td>\n",
       "    </tr>\n",
       "    <tr>\n",
       "      <th>9</th>\n",
       "      <td>87</td>\n",
       "      <td>2</td>\n",
       "      <td>13</td>\n",
       "      <td>11</td>\n",
       "      <td>42</td>\n",
       "      <td>164</td>\n",
       "      <td>9</td>\n",
       "      <td>157</td>\n",
       "      <td>3</td>\n",
       "      <td>35</td>\n",
       "    </tr>\n",
       "  </tbody>\n",
       "</table>\n",
       "</div>"
      ],
      "text/plain": [
       "col_0    0    1    2    3    4    5    6    7    8    9\n",
       "row_0                                                  \n",
       "0       38   90   56   52   52    3    0   11  350  152\n",
       "1      198    5   65   52    2  237   98   26   21   25\n",
       "2       11   12  114  114   44   32   12    0   83  164\n",
       "3      102   52   94   49  362   65    0  167   65  124\n",
       "4        0  140    0    0    0    0    0    0    0    0\n",
       "5       52   33  217  311   63   13    2    0  126  192\n",
       "6       88   12  164  176   64   77  153    5   36   62\n",
       "7      180    7   48   27  135   74   35  357   28   25\n",
       "8       49    3   31   18   14  138    8   60   13   27\n",
       "9       87    2   13   11   42  164    9  157    3   35"
      ]
     },
     "execution_count": 51,
     "metadata": {},
     "output_type": "execute_result"
    }
   ],
   "source": [
    "pd.crosstab(kms.predict(x_train), y_train)"
   ]
  },
  {
   "cell_type": "code",
   "execution_count": 55,
   "metadata": {},
   "outputs": [],
   "source": [
    "### Visualizing the clusters formed with the MFCC features \n",
    "from sklearn.decomposition import PCA"
   ]
  },
  {
   "cell_type": "code",
   "execution_count": 56,
   "metadata": {},
   "outputs": [],
   "source": [
    "cols=[\"mfcc_\"+str(i) for i in range(1,101)]"
   ]
  },
  {
   "cell_type": "code",
   "execution_count": 57,
   "metadata": {},
   "outputs": [
    {
     "data": {
      "text/plain": [
       "(8732, 100)"
      ]
     },
     "execution_count": 57,
     "metadata": {},
     "output_type": "execute_result"
    }
   ],
   "source": [
    "X.shape"
   ]
  },
  {
   "cell_type": "code",
   "execution_count": 58,
   "metadata": {},
   "outputs": [
    {
     "data": {
      "text/html": [
       "<div>\n",
       "<style scoped>\n",
       "    .dataframe tbody tr th:only-of-type {\n",
       "        vertical-align: middle;\n",
       "    }\n",
       "\n",
       "    .dataframe tbody tr th {\n",
       "        vertical-align: top;\n",
       "    }\n",
       "\n",
       "    .dataframe thead th {\n",
       "        text-align: right;\n",
       "    }\n",
       "</style>\n",
       "<table border=\"1\" class=\"dataframe\">\n",
       "  <thead>\n",
       "    <tr style=\"text-align: right;\">\n",
       "      <th></th>\n",
       "      <th>mfcc_1</th>\n",
       "      <th>mfcc_2</th>\n",
       "      <th>mfcc_3</th>\n",
       "      <th>mfcc_4</th>\n",
       "      <th>mfcc_5</th>\n",
       "      <th>mfcc_6</th>\n",
       "      <th>mfcc_7</th>\n",
       "      <th>mfcc_8</th>\n",
       "      <th>mfcc_9</th>\n",
       "      <th>mfcc_10</th>\n",
       "      <th>...</th>\n",
       "      <th>mfcc_92</th>\n",
       "      <th>mfcc_93</th>\n",
       "      <th>mfcc_94</th>\n",
       "      <th>mfcc_95</th>\n",
       "      <th>mfcc_96</th>\n",
       "      <th>mfcc_97</th>\n",
       "      <th>mfcc_98</th>\n",
       "      <th>mfcc_99</th>\n",
       "      <th>mfcc_100</th>\n",
       "      <th>labels</th>\n",
       "    </tr>\n",
       "  </thead>\n",
       "  <tbody>\n",
       "    <tr>\n",
       "      <th>0</th>\n",
       "      <td>0.497843</td>\n",
       "      <td>0.432147</td>\n",
       "      <td>0.379788</td>\n",
       "      <td>0.443570</td>\n",
       "      <td>0.498449</td>\n",
       "      <td>0.605113</td>\n",
       "      <td>0.688798</td>\n",
       "      <td>0.526848</td>\n",
       "      <td>0.360549</td>\n",
       "      <td>0.151806</td>\n",
       "      <td>...</td>\n",
       "      <td>-0.843758</td>\n",
       "      <td>-0.374363</td>\n",
       "      <td>-0.582351</td>\n",
       "      <td>-0.411543</td>\n",
       "      <td>-0.949257</td>\n",
       "      <td>-0.393318</td>\n",
       "      <td>-0.608500</td>\n",
       "      <td>-0.571248</td>\n",
       "      <td>-0.613932</td>\n",
       "      <td>dog_bark</td>\n",
       "    </tr>\n",
       "    <tr>\n",
       "      <th>1</th>\n",
       "      <td>0.074050</td>\n",
       "      <td>0.011797</td>\n",
       "      <td>-0.135930</td>\n",
       "      <td>-0.221633</td>\n",
       "      <td>-0.326678</td>\n",
       "      <td>-0.401499</td>\n",
       "      <td>-0.422980</td>\n",
       "      <td>-0.427155</td>\n",
       "      <td>-0.459048</td>\n",
       "      <td>-0.535705</td>\n",
       "      <td>...</td>\n",
       "      <td>-1.432239</td>\n",
       "      <td>-0.793287</td>\n",
       "      <td>-0.855796</td>\n",
       "      <td>-0.124642</td>\n",
       "      <td>-0.828571</td>\n",
       "      <td>-0.203520</td>\n",
       "      <td>-0.654488</td>\n",
       "      <td>-0.336711</td>\n",
       "      <td>-0.325772</td>\n",
       "      <td>dog_bark</td>\n",
       "    </tr>\n",
       "    <tr>\n",
       "      <th>2</th>\n",
       "      <td>0.345362</td>\n",
       "      <td>0.358531</td>\n",
       "      <td>0.465480</td>\n",
       "      <td>0.643396</td>\n",
       "      <td>0.943979</td>\n",
       "      <td>1.047848</td>\n",
       "      <td>1.029263</td>\n",
       "      <td>0.945167</td>\n",
       "      <td>0.854611</td>\n",
       "      <td>0.817010</td>\n",
       "      <td>...</td>\n",
       "      <td>-0.583075</td>\n",
       "      <td>0.034911</td>\n",
       "      <td>-0.247228</td>\n",
       "      <td>-0.047556</td>\n",
       "      <td>-0.801395</td>\n",
       "      <td>-0.696436</td>\n",
       "      <td>-0.542970</td>\n",
       "      <td>-0.332397</td>\n",
       "      <td>-0.664701</td>\n",
       "      <td>dog_bark</td>\n",
       "    </tr>\n",
       "    <tr>\n",
       "      <th>3</th>\n",
       "      <td>-0.992835</td>\n",
       "      <td>-0.975700</td>\n",
       "      <td>-0.989111</td>\n",
       "      <td>-0.917051</td>\n",
       "      <td>-0.894903</td>\n",
       "      <td>-0.913511</td>\n",
       "      <td>-0.700101</td>\n",
       "      <td>-0.671147</td>\n",
       "      <td>-0.480429</td>\n",
       "      <td>-0.312140</td>\n",
       "      <td>...</td>\n",
       "      <td>-1.318188</td>\n",
       "      <td>0.089607</td>\n",
       "      <td>-1.044979</td>\n",
       "      <td>-0.497598</td>\n",
       "      <td>-0.602797</td>\n",
       "      <td>-0.674735</td>\n",
       "      <td>0.260166</td>\n",
       "      <td>-0.002817</td>\n",
       "      <td>0.541731</td>\n",
       "      <td>dog_bark</td>\n",
       "    </tr>\n",
       "    <tr>\n",
       "      <th>4</th>\n",
       "      <td>1.331781</td>\n",
       "      <td>1.246396</td>\n",
       "      <td>1.213004</td>\n",
       "      <td>1.055396</td>\n",
       "      <td>0.800220</td>\n",
       "      <td>0.664641</td>\n",
       "      <td>0.594775</td>\n",
       "      <td>0.527876</td>\n",
       "      <td>0.398730</td>\n",
       "      <td>0.370381</td>\n",
       "      <td>...</td>\n",
       "      <td>0.117991</td>\n",
       "      <td>0.137821</td>\n",
       "      <td>-0.220509</td>\n",
       "      <td>0.215573</td>\n",
       "      <td>0.046667</td>\n",
       "      <td>0.132798</td>\n",
       "      <td>0.124965</td>\n",
       "      <td>0.232334</td>\n",
       "      <td>-0.019460</td>\n",
       "      <td>gun_shot</td>\n",
       "    </tr>\n",
       "  </tbody>\n",
       "</table>\n",
       "<p>5 rows × 101 columns</p>\n",
       "</div>"
      ],
      "text/plain": [
       "     mfcc_1    mfcc_2    mfcc_3    mfcc_4    mfcc_5    mfcc_6    mfcc_7  \\\n",
       "0  0.497843  0.432147  0.379788  0.443570  0.498449  0.605113  0.688798   \n",
       "1  0.074050  0.011797 -0.135930 -0.221633 -0.326678 -0.401499 -0.422980   \n",
       "2  0.345362  0.358531  0.465480  0.643396  0.943979  1.047848  1.029263   \n",
       "3 -0.992835 -0.975700 -0.989111 -0.917051 -0.894903 -0.913511 -0.700101   \n",
       "4  1.331781  1.246396  1.213004  1.055396  0.800220  0.664641  0.594775   \n",
       "\n",
       "     mfcc_8    mfcc_9   mfcc_10  ...   mfcc_92   mfcc_93   mfcc_94   mfcc_95  \\\n",
       "0  0.526848  0.360549  0.151806  ... -0.843758 -0.374363 -0.582351 -0.411543   \n",
       "1 -0.427155 -0.459048 -0.535705  ... -1.432239 -0.793287 -0.855796 -0.124642   \n",
       "2  0.945167  0.854611  0.817010  ... -0.583075  0.034911 -0.247228 -0.047556   \n",
       "3 -0.671147 -0.480429 -0.312140  ... -1.318188  0.089607 -1.044979 -0.497598   \n",
       "4  0.527876  0.398730  0.370381  ...  0.117991  0.137821 -0.220509  0.215573   \n",
       "\n",
       "    mfcc_96   mfcc_97   mfcc_98   mfcc_99  mfcc_100    labels  \n",
       "0 -0.949257 -0.393318 -0.608500 -0.571248 -0.613932  dog_bark  \n",
       "1 -0.828571 -0.203520 -0.654488 -0.336711 -0.325772  dog_bark  \n",
       "2 -0.801395 -0.696436 -0.542970 -0.332397 -0.664701  dog_bark  \n",
       "3 -0.602797 -0.674735  0.260166 -0.002817  0.541731  dog_bark  \n",
       "4  0.046667  0.132798  0.124965  0.232334 -0.019460  gun_shot  \n",
       "\n",
       "[5 rows x 101 columns]"
      ]
     },
     "execution_count": 58,
     "metadata": {},
     "output_type": "execute_result"
    }
   ],
   "source": [
    "mfcc_pd=pd.DataFrame(data=scaler.fit_transform(X), columns=cols)\n",
    "mfcc_pd[\"labels\"]=y\n",
    "mfcc_pd.head()\n"
   ]
  },
  {
   "cell_type": "code",
   "execution_count": 59,
   "metadata": {},
   "outputs": [],
   "source": [
    "pca=PCA(n_components=2)"
   ]
  },
  {
   "cell_type": "code",
   "execution_count": 60,
   "metadata": {},
   "outputs": [],
   "source": [
    "pcas=pca.fit_transform(mfcc_pd.drop(\"labels\", axis=1))"
   ]
  },
  {
   "cell_type": "code",
   "execution_count": 61,
   "metadata": {},
   "outputs": [],
   "source": [
    "pca_cols=[\"pca_\"+str(i) for i in range(1,3)]"
   ]
  },
  {
   "cell_type": "code",
   "execution_count": 62,
   "metadata": {},
   "outputs": [
    {
     "data": {
      "text/html": [
       "<div>\n",
       "<style scoped>\n",
       "    .dataframe tbody tr th:only-of-type {\n",
       "        vertical-align: middle;\n",
       "    }\n",
       "\n",
       "    .dataframe tbody tr th {\n",
       "        vertical-align: top;\n",
       "    }\n",
       "\n",
       "    .dataframe thead th {\n",
       "        text-align: right;\n",
       "    }\n",
       "</style>\n",
       "<table border=\"1\" class=\"dataframe\">\n",
       "  <thead>\n",
       "    <tr style=\"text-align: right;\">\n",
       "      <th></th>\n",
       "      <th>pca_1</th>\n",
       "      <th>pca_2</th>\n",
       "      <th>labels</th>\n",
       "    </tr>\n",
       "  </thead>\n",
       "  <tbody>\n",
       "    <tr>\n",
       "      <th>0</th>\n",
       "      <td>0.786162</td>\n",
       "      <td>0.836453</td>\n",
       "      <td>dog_bark</td>\n",
       "    </tr>\n",
       "    <tr>\n",
       "      <th>1</th>\n",
       "      <td>-1.712782</td>\n",
       "      <td>1.524998</td>\n",
       "      <td>dog_bark</td>\n",
       "    </tr>\n",
       "    <tr>\n",
       "      <th>2</th>\n",
       "      <td>3.723818</td>\n",
       "      <td>0.514992</td>\n",
       "      <td>dog_bark</td>\n",
       "    </tr>\n",
       "    <tr>\n",
       "      <th>3</th>\n",
       "      <td>-3.319130</td>\n",
       "      <td>-0.794142</td>\n",
       "      <td>dog_bark</td>\n",
       "    </tr>\n",
       "    <tr>\n",
       "      <th>4</th>\n",
       "      <td>5.790490</td>\n",
       "      <td>-3.028280</td>\n",
       "      <td>gun_shot</td>\n",
       "    </tr>\n",
       "  </tbody>\n",
       "</table>\n",
       "</div>"
      ],
      "text/plain": [
       "      pca_1     pca_2    labels\n",
       "0  0.786162  0.836453  dog_bark\n",
       "1 -1.712782  1.524998  dog_bark\n",
       "2  3.723818  0.514992  dog_bark\n",
       "3 -3.319130 -0.794142  dog_bark\n",
       "4  5.790490 -3.028280  gun_shot"
      ]
     },
     "execution_count": 62,
     "metadata": {},
     "output_type": "execute_result"
    }
   ],
   "source": [
    "main_df=pd.DataFrame(data=pcas, columns=pca_cols)\n",
    "main_df[\"labels\"]=y\n",
    "main_df.head()"
   ]
  },
  {
   "cell_type": "code",
   "execution_count": 63,
   "metadata": {},
   "outputs": [
    {
     "data": {
      "text/plain": [
       "array(['dog_bark', 'gun_shot', 'jackhammer', 'engine_idling',\n",
       "       'children_playing', 'siren', 'street_music', 'air_conditioner',\n",
       "       'drilling', 'car_horn'], dtype=object)"
      ]
     },
     "execution_count": 63,
     "metadata": {},
     "output_type": "execute_result"
    }
   ],
   "source": [
    "main_df.labels.unique()"
   ]
  },
  {
   "cell_type": "code",
   "execution_count": 66,
   "metadata": {},
   "outputs": [
    {
     "data": {
      "image/png": "[encoded data removed]",
      "text/plain": [
       "<Figure size 576x576 with 1 Axes>"
      ]
     },
     "metadata": {
      "needs_background": "light"
     },
     "output_type": "display_data"
    }
   ],
   "source": [
    "fig = plt.figure(figsize = (8,8))\n",
    "ax = fig.add_subplot(1,1, 1) \n",
    "ax.set_xlabel('Principal Component 1', fontsize = 15)\n",
    "ax.set_ylabel('Principal Component 2', fontsize = 15)\n",
    "ax.set_title('2 component PCA', fontsize = 20)\n",
    "targets = ['dog_bark', 'gun_shot', 'jackhammer', 'engine_idling',\n",
    "       'children_playing', 'siren', 'street_music', 'air_conditioner',\n",
    "       'drilling', 'car_horn']\n",
    "colors = ['#1f77b4', '#ff7f0e', '#2ca02c', '#d62728', '#9467bd', '#8c564b', '#e377c2', '#7f7f7f', '#bcbd22', '#17becf']\n",
    "for target, color in zip(targets,colors):\n",
    "    indicesToKeep = main_df['labels']== target\n",
    "    #print(indicesToKeep[:10])\n",
    "    ax.scatter(list(main_df.loc[indicesToKeep, 'pca_1'])\n",
    "               ,list(main_df.loc[indicesToKeep, 'pca_2'])\n",
    "               , c = color\n",
    "               , s = 50)\n",
    "ax.legend(['dog_bark', 'gun_shot', 'jackhammer', 'engine_idling',\n",
    "       'children_playing', 'siren', 'street_music', 'air_conditioner',\n",
    "       'drilling', 'car_horn'])\n",
    "ax.grid()"
   ]
  },
  {
   "cell_type": "code",
   "execution_count": 67,
   "metadata": {},
   "outputs": [
    {
     "name": "stdout",
     "output_type": "stream",
     "text": [
      "Total information  0.3938390240073204\n"
     ]
    }
   ],
   "source": [
    "pcas=pca.explained_variance_ratio_\n",
    "print(\"Total information \", sum(pcas))"
   ]
  },
  {
   "cell_type": "code",
   "execution_count": 68,
   "metadata": {},
   "outputs": [],
   "source": [
    "x_train, x_test, y_train, y_test = train_test_split(main_df.drop(\"labels\", axis=1), main_df[\"labels\"], test_size=0.2, random_state=42)"
   ]
  },
  {
   "cell_type": "code",
   "execution_count": 69,
   "metadata": {},
   "outputs": [
    {
     "name": "stdout",
     "output_type": "stream",
     "text": [
      "(6985, 2) (1747, 2) (6985,) (1747,)\n"
     ]
    }
   ],
   "source": [
    "print(x_train.shape, x_test.shape, y_train.shape , y_test.shape)"
   ]
  },
  {
   "cell_type": "code",
   "execution_count": 70,
   "metadata": {},
   "outputs": [
    {
     "data": {
      "text/plain": [
       "SVC()"
      ]
     },
     "execution_count": 70,
     "metadata": {},
     "output_type": "execute_result"
    }
   ],
   "source": [
    "svc_2=SVC()\n",
    "svc_2.fit(x_train, y_train)"
   ]
  },
  {
   "cell_type": "code",
   "execution_count": 71,
   "metadata": {},
   "outputs": [
    {
     "data": {
      "text/plain": [
       "0.3354321694333143"
      ]
     },
     "execution_count": 71,
     "metadata": {},
     "output_type": "execute_result"
    }
   ],
   "source": [
    "svc_2.score(x_test, y_test)"
   ]
  },
  {
   "cell_type": "code",
   "execution_count": 72,
   "metadata": {},
   "outputs": [
    {
     "data": {
      "text/plain": [
       "2"
      ]
     },
     "execution_count": 72,
     "metadata": {},
     "output_type": "execute_result"
    }
   ],
   "source": [
    "x_test.shape[1]"
   ]
  },
  {
   "cell_type": "code",
   "execution_count": 73,
   "metadata": {},
   "outputs": [],
   "source": [
    "# Predictions using SVC on 50 features\n",
    "predictions=svc_2.predict(x_test)\n"
   ]
  },
  {
   "cell_type": "code",
   "execution_count": 74,
   "metadata": {},
   "outputs": [],
   "source": [
    "from sklearn.metrics import confusion_matrix"
   ]
  },
  {
   "cell_type": "code",
   "execution_count": 75,
   "metadata": {},
   "outputs": [],
   "source": [
    " mat=confusion_matrix(predictions, y_test)"
   ]
  },
  {
   "cell_type": "code",
   "execution_count": 76,
   "metadata": {},
   "outputs": [],
   "source": [
    "def acc_per_class(np_probs_array):    \n",
    "    accs = []\n",
    "    for idx in range(0, np_probs_array.shape[0]):\n",
    "        correct = np_probs_array[idx][idx].astype(int)\n",
    "        total = np_probs_array[idx].sum().astype(int)\n",
    "        acc = (correct / total) * 100\n",
    "        accs.append(acc)\n",
    "    return accs"
   ]
  },
  {
   "cell_type": "code",
   "execution_count": 77,
   "metadata": {},
   "outputs": [
    {
     "data": {
      "text/html": [
       "<div>\n",
       "<style scoped>\n",
       "    .dataframe tbody tr th:only-of-type {\n",
       "        vertical-align: middle;\n",
       "    }\n",
       "\n",
       "    .dataframe tbody tr th {\n",
       "        vertical-align: top;\n",
       "    }\n",
       "\n",
       "    .dataframe thead th {\n",
       "        text-align: right;\n",
       "    }\n",
       "</style>\n",
       "<table border=\"1\" class=\"dataframe\">\n",
       "  <thead>\n",
       "    <tr style=\"text-align: right;\">\n",
       "      <th></th>\n",
       "      <th>CLASS</th>\n",
       "      <th>ACCURACY</th>\n",
       "    </tr>\n",
       "  </thead>\n",
       "  <tbody>\n",
       "    <tr>\n",
       "      <th>1</th>\n",
       "      <td>Car Horn</td>\n",
       "      <td>84.210526</td>\n",
       "    </tr>\n",
       "    <tr>\n",
       "      <th>2</th>\n",
       "      <td>Children Playing</td>\n",
       "      <td>50.000000</td>\n",
       "    </tr>\n",
       "    <tr>\n",
       "      <th>8</th>\n",
       "      <td>Siren</td>\n",
       "      <td>46.979866</td>\n",
       "    </tr>\n",
       "    <tr>\n",
       "      <th>7</th>\n",
       "      <td>Jackhammer</td>\n",
       "      <td>46.715328</td>\n",
       "    </tr>\n",
       "    <tr>\n",
       "      <th>6</th>\n",
       "      <td>Gun Shot</td>\n",
       "      <td>33.333333</td>\n",
       "    </tr>\n",
       "    <tr>\n",
       "      <th>3</th>\n",
       "      <td>Dog bark</td>\n",
       "      <td>31.250000</td>\n",
       "    </tr>\n",
       "    <tr>\n",
       "      <th>0</th>\n",
       "      <td>Air Conditioner</td>\n",
       "      <td>30.555556</td>\n",
       "    </tr>\n",
       "    <tr>\n",
       "      <th>5</th>\n",
       "      <td>Engine Idling</td>\n",
       "      <td>29.602888</td>\n",
       "    </tr>\n",
       "    <tr>\n",
       "      <th>9</th>\n",
       "      <td>Street Music</td>\n",
       "      <td>26.687117</td>\n",
       "    </tr>\n",
       "    <tr>\n",
       "      <th>4</th>\n",
       "      <td>Drilling</td>\n",
       "      <td>25.187970</td>\n",
       "    </tr>\n",
       "  </tbody>\n",
       "</table>\n",
       "</div>"
      ],
      "text/plain": [
       "              CLASS   ACCURACY\n",
       "1          Car Horn  84.210526\n",
       "2  Children Playing  50.000000\n",
       "8             Siren  46.979866\n",
       "7        Jackhammer  46.715328\n",
       "6          Gun Shot  33.333333\n",
       "3          Dog bark  31.250000\n",
       "0   Air Conditioner  30.555556\n",
       "5     Engine Idling  29.602888\n",
       "9      Street Music  26.687117\n",
       "4          Drilling  25.187970"
      ]
     },
     "execution_count": 77,
     "metadata": {},
     "output_type": "execute_result"
    }
   ],
   "source": [
    "accuracies=acc_per_class(mat)\n",
    "labels = [\n",
    "        'Air Conditioner',\n",
    "        'Car Horn',\n",
    "        'Children Playing',\n",
    "        'Dog bark',\n",
    "        'Drilling',\n",
    "        'Engine Idling',\n",
    "        'Gun Shot',\n",
    "        'Jackhammer',\n",
    "        'Siren',\n",
    "        'Street Music'\n",
    "    ]\n",
    "\n",
    "pd.DataFrame({'CLASS':labels, 'ACCURACY': accuracies}).sort_values(by='ACCURACY', ascending=False)"
   ]
  },
  {
   "cell_type": "code",
   "execution_count": null,
   "metadata": {},
   "outputs": [],
   "source": []
  },
  {
   "cell_type": "code",
   "execution_count": null,
   "metadata": {},
   "outputs": [],
   "source": []
  }
 ],
 "metadata": {
  "kernelspec": {
   "display_name": "Python 3",
   "language": "python",
   "name": "python3"
  },
  "language_info": {
   "codemirror_mode": {
    "name": "ipython",
    "version": 3
   },
   "file_extension": ".py",
   "mimetype": "text/x-python",
   "name": "python",
   "nbconvert_exporter": "python",
   "pygments_lexer": "ipython3",
   "version": "3.8.3"
  }
 },
 "nbformat": 4,
 "nbformat_minor": 4
}
