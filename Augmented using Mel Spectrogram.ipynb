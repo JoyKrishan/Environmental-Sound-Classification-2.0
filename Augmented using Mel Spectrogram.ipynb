{
 "cells": [
  {
   "cell_type": "code",
   "execution_count": 2,
   "metadata": {},
   "outputs": [],
   "source": [
    "import os\n",
    "import sys\n",
    "from os import listdir\n",
    "from os.path import isfile, join\n",
    "import IPython.display as ipd\n",
    "import librosa \n",
    "import librosa.display\n",
    "%matplotlib inline\n",
    "import matplotlib.pyplot as plt\n",
    "import pandas as pd\n",
    "from scipy.io import wavfile as wav\n",
    "import numpy as np\n",
    "from timeit import default_timer as timer"
   ]
  },
  {
   "cell_type": "code",
   "execution_count": 3,
   "metadata": {},
   "outputs": [],
   "source": [
    "def extract_mel(file_name):\n",
    "    audio, sample_rate=librosa.load(file_name, res_type='kaiser_fast')\n",
    "    mel=np.mean(librosa.feature.melspectrogram(audio ,sr=sample_rate, n_mels=100,fmax=8000).T, axis=0)\n",
    "    \n",
    "    return mel"
   ]
  },
  {
   "cell_type": "code",
   "execution_count": 4,
   "metadata": {},
   "outputs": [
    {
     "data": {
      "text/html": [
       "<div>\n",
       "<style scoped>\n",
       "    .dataframe tbody tr th:only-of-type {\n",
       "        vertical-align: middle;\n",
       "    }\n",
       "\n",
       "    .dataframe tbody tr th {\n",
       "        vertical-align: top;\n",
       "    }\n",
       "\n",
       "    .dataframe thead th {\n",
       "        text-align: right;\n",
       "    }\n",
       "</style>\n",
       "<table border=\"1\" class=\"dataframe\">\n",
       "  <thead>\n",
       "    <tr style=\"text-align: right;\">\n",
       "      <th></th>\n",
       "      <th>file</th>\n",
       "      <th>fold</th>\n",
       "      <th>class_id</th>\n",
       "      <th>class</th>\n",
       "      <th>augment</th>\n",
       "    </tr>\n",
       "  </thead>\n",
       "  <tbody>\n",
       "    <tr>\n",
       "      <th>0</th>\n",
       "      <td>101415-3-0-2.wav</td>\n",
       "      <td>1</td>\n",
       "      <td>3</td>\n",
       "      <td>dog_bark</td>\n",
       "      <td>pitch_-2</td>\n",
       "    </tr>\n",
       "    <tr>\n",
       "      <th>1</th>\n",
       "      <td>101415-3-0-3.wav</td>\n",
       "      <td>1</td>\n",
       "      <td>3</td>\n",
       "      <td>dog_bark</td>\n",
       "      <td>pitch_-2</td>\n",
       "    </tr>\n",
       "    <tr>\n",
       "      <th>2</th>\n",
       "      <td>101415-3-0-8.wav</td>\n",
       "      <td>1</td>\n",
       "      <td>3</td>\n",
       "      <td>dog_bark</td>\n",
       "      <td>pitch_-2</td>\n",
       "    </tr>\n",
       "    <tr>\n",
       "      <th>3</th>\n",
       "      <td>102106-3-0-0.wav</td>\n",
       "      <td>1</td>\n",
       "      <td>3</td>\n",
       "      <td>dog_bark</td>\n",
       "      <td>pitch_-2</td>\n",
       "    </tr>\n",
       "    <tr>\n",
       "      <th>4</th>\n",
       "      <td>102842-3-0-1.wav</td>\n",
       "      <td>1</td>\n",
       "      <td>3</td>\n",
       "      <td>dog_bark</td>\n",
       "      <td>pitch_-2</td>\n",
       "    </tr>\n",
       "  </tbody>\n",
       "</table>\n",
       "</div>"
      ],
      "text/plain": [
       "               file  fold  class_id     class   augment\n",
       "0  101415-3-0-2.wav     1         3  dog_bark  pitch_-2\n",
       "1  101415-3-0-3.wav     1         3  dog_bark  pitch_-2\n",
       "2  101415-3-0-8.wav     1         3  dog_bark  pitch_-2\n",
       "3  102106-3-0-0.wav     1         3  dog_bark  pitch_-2\n",
       "4  102842-3-0-1.wav     1         3  dog_bark  pitch_-2"
      ]
     },
     "execution_count": 4,
     "metadata": {},
     "output_type": "execute_result"
    }
   ],
   "source": [
    "metadata=pd.read_csv('UrbanSound8K/Augmented_metadata/UrbanSound8k_Augmented.csv')\n",
    "metadata_ori=pd.read_csv('UrbanSound8K/metadata/UrbanSound8K.csv')\n",
    "metadata.head()"
   ]
  },
  {
   "cell_type": "code",
   "execution_count": 5,
   "metadata": {},
   "outputs": [],
   "source": [
    "fold_list = ['fold1', 'fold2', 'fold3', 'fold4', 'fold5', 'fold6', 'fold7', 'fold8', 'fold9', 'fold10']"
   ]
  },
  {
   "cell_type": "code",
   "execution_count": 6,
   "metadata": {},
   "outputs": [],
   "source": [
    "Augment_list= ['pitch_2', 'pitch_-2','pitch_time290','pitch_time-290','pitch_time2110','pitch_time-2110','speed_90','speed_110']"
   ]
  },
  {
   "cell_type": "code",
   "execution_count": 7,
   "metadata": {},
   "outputs": [
    {
     "name": "stderr",
     "output_type": "stream",
     "text": [
      "C:\\Users\\pc\\Anaconda3\\lib\\site-packages\\librosa\\core\\spectrum.py:222: UserWarning: n_fft=2048 is too small for input signal of length=1103\n",
      "  warnings.warn(\n",
      "C:\\Users\\pc\\Anaconda3\\lib\\site-packages\\librosa\\core\\spectrum.py:222: UserWarning: n_fft=2048 is too small for input signal of length=1323\n",
      "  warnings.warn(\n",
      "C:\\Users\\pc\\Anaconda3\\lib\\site-packages\\librosa\\core\\spectrum.py:222: UserWarning: n_fft=2048 is too small for input signal of length=1523\n",
      "  warnings.warn(\n",
      "C:\\Users\\pc\\Anaconda3\\lib\\site-packages\\librosa\\core\\spectrum.py:222: UserWarning: n_fft=2048 is too small for input signal of length=1226\n",
      "  warnings.warn(\n",
      "C:\\Users\\pc\\Anaconda3\\lib\\site-packages\\librosa\\core\\spectrum.py:222: UserWarning: n_fft=2048 is too small for input signal of length=1470\n",
      "  warnings.warn(\n",
      "C:\\Users\\pc\\Anaconda3\\lib\\site-packages\\librosa\\core\\spectrum.py:222: UserWarning: n_fft=2048 is too small for input signal of length=1692\n",
      "  warnings.warn(\n",
      "C:\\Users\\pc\\Anaconda3\\lib\\site-packages\\librosa\\core\\spectrum.py:222: UserWarning: n_fft=2048 is too small for input signal of length=1003\n",
      "  warnings.warn(\n",
      "C:\\Users\\pc\\Anaconda3\\lib\\site-packages\\librosa\\core\\spectrum.py:222: UserWarning: n_fft=2048 is too small for input signal of length=1203\n",
      "  warnings.warn(\n",
      "C:\\Users\\pc\\Anaconda3\\lib\\site-packages\\librosa\\core\\spectrum.py:222: UserWarning: n_fft=2048 is too small for input signal of length=1385\n",
      "  warnings.warn(\n",
      "C:\\Users\\pc\\Anaconda3\\lib\\site-packages\\librosa\\core\\spectrum.py:222: UserWarning: n_fft=2048 is too small for input signal of length=2005\n",
      "  warnings.warn(\n",
      "C:\\Users\\pc\\Anaconda3\\lib\\site-packages\\librosa\\core\\spectrum.py:222: UserWarning: n_fft=2048 is too small for input signal of length=1943\n",
      "  warnings.warn(\n",
      "C:\\Users\\pc\\Anaconda3\\lib\\site-packages\\librosa\\core\\audio.py:162: UserWarning: PySoundFile failed. Trying audioread instead.\n",
      "  warnings.warn(\"PySoundFile failed. Trying audioread instead.\")\n"
     ]
    },
    {
     "name": "stdout",
     "output_type": "stream",
     "text": [
      "UrbanSound8K/audio/fold1/.DS_Store\n"
     ]
    },
    {
     "name": "stderr",
     "output_type": "stream",
     "text": [
      "C:\\Users\\pc\\Anaconda3\\lib\\site-packages\\librosa\\core\\spectrum.py:222: UserWarning: n_fft=2048 is too small for input signal of length=1103\n",
      "  warnings.warn(\n",
      "C:\\Users\\pc\\Anaconda3\\lib\\site-packages\\librosa\\core\\spectrum.py:222: UserWarning: n_fft=2048 is too small for input signal of length=1323\n",
      "  warnings.warn(\n",
      "C:\\Users\\pc\\Anaconda3\\lib\\site-packages\\librosa\\core\\spectrum.py:222: UserWarning: n_fft=2048 is too small for input signal of length=1523\n",
      "  warnings.warn(\n",
      "C:\\Users\\pc\\Anaconda3\\lib\\site-packages\\librosa\\core\\audio.py:162: UserWarning: PySoundFile failed. Trying audioread instead.\n",
      "  warnings.warn(\"PySoundFile failed. Trying audioread instead.\")\n"
     ]
    },
    {
     "name": "stdout",
     "output_type": "stream",
     "text": [
      "UrbanSound8K/audio/fold2/.DS_Store\n",
      "UrbanSound8K/audio/fold3/.DS_Store\n",
      "UrbanSound8K/audio/fold4/.DS_Store\n",
      "UrbanSound8K/audio/fold5/.DS_Store\n",
      "UrbanSound8K/audio/fold6/.DS_Store\n",
      "UrbanSound8K/audio/fold7/.DS_Store\n",
      "UrbanSound8K/audio/fold8/.DS_Store\n",
      "UrbanSound8K/audio/fold9/.DS_Store\n",
      "UrbanSound8K/audio/fold10/.DS_Store\n",
      "Exceptions:  10\n",
      "time taken: 91.0 minutes 22.9 seconds\n",
      "None\n",
      "Finished feature extraction from all folder\n",
      "Total features extracted from augmented part 69856\n",
      "Total features extracted from non augmented part 8732\n"
     ]
    }
   ],
   "source": [
    "stacked_features = []\n",
    "exceptions=0\n",
    "count_1=0\n",
    "count_2=0\n",
    "labels=['dog_bark', 'gun_shot', 'jackhammer', 'engine_idling',\n",
    "       'children_playing', 'siren', 'street_music', 'air_conditioner',\n",
    "       'drilling', 'car_horn']\n",
    "\n",
    "start_time = timer()\n",
    "for i in range(10):\n",
    "    for j in range(8):\n",
    "  \n",
    "        mypath = 'UrbanSound8K/Augmented_audio/'+ fold_list[i] + '/' + Augment_list[j] + '/'\n",
    "        files = [mypath + f for f in listdir(mypath) if isfile(join(mypath, f))]\n",
    "\n",
    "        for fn in files:\n",
    "            try: \n",
    "                mfccs = extract_mel(fn)\n",
    "                features=np.reshape((mfccs),(20,5))\n",
    "                count_1+=1\n",
    "\n",
    "            except: \n",
    "                print(fn)\n",
    "                exceptions += 1\n",
    "                continue\n",
    "\n",
    "            l_row = metadata.loc[metadata['file']==fn.split('/')[-1]].values.tolist()\n",
    "            #print(l_row)\n",
    "            label = l_row[0][-2]\n",
    "            if label not in labels:\n",
    "                raise Exception(\"\\n Sorry, there is an error in the code.\")\n",
    "                \n",
    "            #print(label)\n",
    "            #exit()\n",
    "            fold = i+1\n",
    "            \n",
    "\n",
    "            stacked_features.append([features, features.shape, label, fold])\n",
    "\n",
    "            \n",
    "for w in range(10):\n",
    "    # get file names\n",
    "    mypath = 'UrbanSound8K/audio/'+ fold_list[w] + '/'\n",
    "    files = [mypath + f for f in listdir(mypath) if isfile(join(mypath, f))]\n",
    "    \n",
    "    for fn in files:\n",
    "        try: # extract features\n",
    "            mfccs = extract_mel(fn)\n",
    "            features=np.reshape((mfccs),(20,5))\n",
    "            count_2+=1\n",
    "            \n",
    "        except: # else exception (.ds_store files are part of mac file systems)\n",
    "            print(fn)\n",
    "            exceptions += 1\n",
    "            continue\n",
    "            \n",
    "        l_row = metadata_ori.loc[metadata_ori['slice_file_name']==fn.split('/')[-1]].values.tolist()\n",
    "        label = l_row[0][-1]\n",
    "        if label not in labels:\n",
    "                raise Exception(\"\\n Sorry, there is an error in the code.\")\n",
    "        fold = w+1\n",
    "    \n",
    "        stacked_features.append([features, features.shape, label, fold])\n",
    "        \n",
    "        \n",
    "print(\"Exceptions: \", exceptions)\n",
    "end_time = timer()\n",
    "print(print(\"time taken: {0} minutes {1:.1f} seconds\".format((end_time - start_time)//60, (end_time - start_time)%60)))\n",
    "print('Finished feature extraction from all folder')\n",
    "print(\"Total features extracted from augmented part {}\".format(count_1))\n",
    "print(\"Total features extracted from non augmented part {}\".format(count_2))"
   ]
  },
  {
   "cell_type": "code",
   "execution_count": 8,
   "metadata": {},
   "outputs": [
    {
     "name": "stdout",
     "output_type": "stream",
     "text": [
      "[array([[2.5803526e-04, 1.7386628e-03, 5.1472350e-03, 5.3472561e-03,\n",
      "        4.0652831e-03],\n",
      "       [1.1842289e-02, 3.1323969e-02, 9.0689167e-02, 1.9165502e-01,\n",
      "        1.8934254e-01],\n",
      "       [2.1052077e-01, 3.5331368e-01, 4.3221503e-01, 1.5603656e+00,\n",
      "        3.4133134e+00],\n",
      "       [1.5482896e+01, 4.0555969e+01, 3.7781189e+01, 2.2839048e+01,\n",
      "        1.3936598e+01],\n",
      "       [5.2375112e+00, 1.0429430e+00, 4.2264587e-01, 5.2853888e-01,\n",
      "        3.8139424e-01],\n",
      "       [2.5500742e-01, 3.7300706e-01, 2.8553036e-01, 4.4994265e-01,\n",
      "        1.5774311e+00],\n",
      "       [1.2236831e+00, 3.5699053e+00, 2.6843064e+00, 9.5040119e-01,\n",
      "        5.0439066e-01],\n",
      "       [4.6991020e-01, 3.0280444e-01, 3.1739047e-01, 1.3601488e-01,\n",
      "        2.4133568e-01],\n",
      "       [6.1359625e-02, 2.1468990e-02, 5.0829407e-02, 1.2040247e-01,\n",
      "        1.2064695e-01],\n",
      "       [1.9840166e-01, 1.5661226e-01, 1.5106267e-01, 1.2875073e-01,\n",
      "        9.1123432e-02],\n",
      "       [2.0918825e-01, 1.2205560e-01, 4.1333418e-02, 3.5660874e-02,\n",
      "        8.4678996e-03],\n",
      "       [4.5879758e-03, 6.1101364e-03, 4.4362783e-03, 4.3702284e-03,\n",
      "        4.1786227e-03],\n",
      "       [3.6545468e-03, 4.9499543e-03, 2.1579992e-03, 1.7721241e-03,\n",
      "        8.8201032e-04],\n",
      "       [4.6220500e-04, 3.4892902e-04, 1.2666352e-04, 3.8997299e-04,\n",
      "        4.2433865e-04],\n",
      "       [2.0518324e-04, 7.3633870e-05, 6.7559515e-05, 6.2920037e-05,\n",
      "        1.6110382e-04],\n",
      "       [1.0510866e-04, 6.9665592e-05, 2.7284184e-05, 1.5540341e-05,\n",
      "        1.2044722e-05],\n",
      "       [2.9059835e-05, 2.9991981e-05, 2.4417921e-05, 2.1126727e-05,\n",
      "        3.0053650e-05],\n",
      "       [4.9291739e-05, 1.9550697e-04, 3.7505441e-05, 5.4606920e-05,\n",
      "        6.5381195e-05],\n",
      "       [1.2301673e-04, 4.1645172e-04, 3.9866407e-04, 8.5692445e-04,\n",
      "        9.8825234e-04],\n",
      "       [5.0945557e-04, 4.3582084e-04, 2.8063066e-04, 1.2615015e-04,\n",
      "        5.5742261e-05]], dtype=float32), (20, 5), 'dog_bark', 1]\n"
     ]
    }
   ],
   "source": [
    "print(stacked_features[0])"
   ]
  },
  {
   "cell_type": "code",
   "execution_count": 9,
   "metadata": {},
   "outputs": [
    {
     "data": {
      "text/html": [
       "<div>\n",
       "<style scoped>\n",
       "    .dataframe tbody tr th:only-of-type {\n",
       "        vertical-align: middle;\n",
       "    }\n",
       "\n",
       "    .dataframe tbody tr th {\n",
       "        vertical-align: top;\n",
       "    }\n",
       "\n",
       "    .dataframe thead th {\n",
       "        text-align: right;\n",
       "    }\n",
       "</style>\n",
       "<table border=\"1\" class=\"dataframe\">\n",
       "  <thead>\n",
       "    <tr style=\"text-align: right;\">\n",
       "      <th></th>\n",
       "      <th>Stacked_Features</th>\n",
       "      <th>Matrix_Shape</th>\n",
       "      <th>Label</th>\n",
       "      <th>Fold</th>\n",
       "    </tr>\n",
       "  </thead>\n",
       "  <tbody>\n",
       "    <tr>\n",
       "      <th>0</th>\n",
       "      <td>[[0.00025803526, 0.0017386628, 0.005147235, 0....</td>\n",
       "      <td>(20, 5)</td>\n",
       "      <td>dog_bark</td>\n",
       "      <td>1</td>\n",
       "    </tr>\n",
       "    <tr>\n",
       "      <th>1</th>\n",
       "      <td>[[9.6567754e-05, 0.0019857185, 0.006037083, 0....</td>\n",
       "      <td>(20, 5)</td>\n",
       "      <td>dog_bark</td>\n",
       "      <td>1</td>\n",
       "    </tr>\n",
       "    <tr>\n",
       "      <th>2</th>\n",
       "      <td>[[0.0030396436, 0.0069187894, 0.006735282, 0.0...</td>\n",
       "      <td>(20, 5)</td>\n",
       "      <td>dog_bark</td>\n",
       "      <td>1</td>\n",
       "    </tr>\n",
       "    <tr>\n",
       "      <th>3</th>\n",
       "      <td>[[0.015878582, 0.019644868, 0.039512053, 0.022...</td>\n",
       "      <td>(20, 5)</td>\n",
       "      <td>dog_bark</td>\n",
       "      <td>1</td>\n",
       "    </tr>\n",
       "    <tr>\n",
       "      <th>4</th>\n",
       "      <td>[[7.1174192, 2.1386786, 0.7760957, 0.41454738,...</td>\n",
       "      <td>(20, 5)</td>\n",
       "      <td>gun_shot</td>\n",
       "      <td>1</td>\n",
       "    </tr>\n",
       "  </tbody>\n",
       "</table>\n",
       "</div>"
      ],
      "text/plain": [
       "                                    Stacked_Features Matrix_Shape     Label  \\\n",
       "0  [[0.00025803526, 0.0017386628, 0.005147235, 0....      (20, 5)  dog_bark   \n",
       "1  [[9.6567754e-05, 0.0019857185, 0.006037083, 0....      (20, 5)  dog_bark   \n",
       "2  [[0.0030396436, 0.0069187894, 0.006735282, 0.0...      (20, 5)  dog_bark   \n",
       "3  [[0.015878582, 0.019644868, 0.039512053, 0.022...      (20, 5)  dog_bark   \n",
       "4  [[7.1174192, 2.1386786, 0.7760957, 0.41454738,...      (20, 5)  gun_shot   \n",
       "\n",
       "   Fold  \n",
       "0     1  \n",
       "1     1  \n",
       "2     1  \n",
       "3     1  \n",
       "4     1  "
      ]
     },
     "execution_count": 9,
     "metadata": {},
     "output_type": "execute_result"
    }
   ],
   "source": [
    "cols=['Stacked_Features', 'Matrix_Shape', 'Label', 'Fold']\n",
    "Stacked_feature_pd=pd.DataFrame(data=stacked_features , columns=cols)\n",
    "Stacked_feature_pd.head()"
   ]
  },
  {
   "cell_type": "code",
   "execution_count": 10,
   "metadata": {},
   "outputs": [],
   "source": [
    "from sklearn.preprocessing import LabelEncoder\n",
    "from keras.utils import to_categorical\n",
    "\n",
    "X = np.array(Stacked_feature_pd.Stacked_Features.tolist())\n",
    "y = np.array(Stacked_feature_pd.Label.tolist())\n",
    "\n",
    "\n",
    "le = LabelEncoder()\n",
    "yy = to_categorical(le.fit_transform(y))"
   ]
  },
  {
   "cell_type": "code",
   "execution_count": 11,
   "metadata": {},
   "outputs": [],
   "source": [
    "from sklearn.model_selection import train_test_split \n",
    "\n",
    "x_train, x_test, y_train, y_test = train_test_split(X, yy, test_size=0.2,random_state=42)\n"
   ]
  },
  {
   "cell_type": "code",
   "execution_count": 12,
   "metadata": {},
   "outputs": [
    {
     "name": "stdout",
     "output_type": "stream",
     "text": [
      "(62870, 20, 5) (15718, 20, 5) (62870, 10) (15718, 10) (78588, 10)\n"
     ]
    }
   ],
   "source": [
    "print(x_train.shape, x_test.shape, y_train.shape, y_test.shape, yy.shape)"
   ]
  },
  {
   "cell_type": "code",
   "execution_count": 13,
   "metadata": {},
   "outputs": [],
   "source": [
    "from keras.models import Sequential\n",
    "from keras.layers import Dense, Dropout, Activation, Flatten\n",
    "from keras.layers import Convolution2D, Conv1D, MaxPooling1D, GlobalAveragePooling2D, LSTM, TimeDistributed\n",
    "from keras.optimizers import Adam\n",
    "from keras.utils import np_utils\n",
    "from sklearn import metrics"
   ]
  },
  {
   "cell_type": "code",
   "execution_count": 14,
   "metadata": {},
   "outputs": [],
   "source": [
    "model=Sequential()\n",
    "model.add(Conv1D(64, kernel_size=3, padding=\"Same\", activation=\"relu\", input_shape=(20,5)))\n",
    "model.add(MaxPooling1D(padding=\"same\"))\n",
    "model.add(Conv1D(128, kernel_size=3, padding=\"same\", activation=\"relu\"))\n",
    "model.add(MaxPooling1D(padding=\"Same\"))\n",
    "model.add(LSTM(128,return_sequences=True))\n",
    "model.add(LSTM(128, return_sequences=True))\n",
    "\n",
    "model.add(TimeDistributed(Dense(256, activation=\"relu\")))\n",
    "model.add(Dropout(0.5))\n",
    "model.add(TimeDistributed(Dense(512, activation=\"relu\")))\n",
    "model.add(Dropout(0.5))\n",
    "model.add(Flatten())\n",
    "model.add(Dense(10, activation=\"softmax\"))"
   ]
  },
  {
   "cell_type": "code",
   "execution_count": 15,
   "metadata": {},
   "outputs": [
    {
     "name": "stdout",
     "output_type": "stream",
     "text": [
      "Model: \"sequential\"\n",
      "_________________________________________________________________\n",
      "Layer (type)                 Output Shape              Param #   \n",
      "=================================================================\n",
      "conv1d (Conv1D)              (None, 20, 64)            1024      \n",
      "_________________________________________________________________\n",
      "max_pooling1d (MaxPooling1D) (None, 10, 64)            0         \n",
      "_________________________________________________________________\n",
      "conv1d_1 (Conv1D)            (None, 10, 128)           24704     \n",
      "_________________________________________________________________\n",
      "max_pooling1d_1 (MaxPooling1 (None, 5, 128)            0         \n",
      "_________________________________________________________________\n",
      "lstm (LSTM)                  (None, 5, 128)            131584    \n",
      "_________________________________________________________________\n",
      "lstm_1 (LSTM)                (None, 5, 128)            131584    \n",
      "_________________________________________________________________\n",
      "time_distributed (TimeDistri (None, 5, 256)            33024     \n",
      "_________________________________________________________________\n",
      "dropout (Dropout)            (None, 5, 256)            0         \n",
      "_________________________________________________________________\n",
      "time_distributed_1 (TimeDist (None, 5, 512)            131584    \n",
      "_________________________________________________________________\n",
      "dropout_1 (Dropout)          (None, 5, 512)            0         \n",
      "_________________________________________________________________\n",
      "flatten (Flatten)            (None, 2560)              0         \n",
      "_________________________________________________________________\n",
      "dense_2 (Dense)              (None, 10)                25610     \n",
      "=================================================================\n",
      "Total params: 479,114\n",
      "Trainable params: 479,114\n",
      "Non-trainable params: 0\n",
      "_________________________________________________________________\n"
     ]
    }
   ],
   "source": [
    "model.compile(loss='categorical_crossentropy', metrics=['accuracy'], optimizer=\"adam\")\n",
    "model.summary()"
   ]
  },
  {
   "cell_type": "code",
   "execution_count": 16,
   "metadata": {},
   "outputs": [
    {
     "name": "stdout",
     "output_type": "stream",
     "text": [
      "492/492 [==============================] - 6s 11ms/step - loss: 2.3013 - accuracy: 0.0937\n",
      "Pre-training accuracy: 9.3651%\n"
     ]
    }
   ],
   "source": [
    "score = model.evaluate(x_test, y_test, verbose=1)\n",
    "accuracy = 100*score[1]\n",
    "\n",
    "print(\"Pre-training accuracy: %.4f%%\" % accuracy)"
   ]
  },
  {
   "cell_type": "code",
   "execution_count": 17,
   "metadata": {},
   "outputs": [
    {
     "name": "stdout",
     "output_type": "stream",
     "text": [
      "Epoch 1/30\n",
      "1258/1258 [==============================] - 51s 41ms/step - loss: 1.4739 - accuracy: 0.4787 - val_loss: 1.1054 - val_accuracy: 0.6176\n",
      "Epoch 2/30\n",
      "1258/1258 [==============================] - 49s 39ms/step - loss: 1.0007 - accuracy: 0.6582 - val_loss: 0.8677 - val_accuracy: 0.7052\n",
      "Epoch 3/30\n",
      "1258/1258 [==============================] - 49s 39ms/step - loss: 0.8066 - accuracy: 0.7282 - val_loss: 0.6466 - val_accuracy: 0.7825\n",
      "Epoch 4/30\n",
      "1258/1258 [==============================] - 49s 39ms/step - loss: 0.6573 - accuracy: 0.7794 - val_loss: 0.5548 - val_accuracy: 0.8115\n",
      "Epoch 5/30\n",
      "1258/1258 [==============================] - 49s 39ms/step - loss: 0.5693 - accuracy: 0.8061 - val_loss: 0.5148 - val_accuracy: 0.8280\n",
      "Epoch 6/30\n",
      "1258/1258 [==============================] - 48s 38ms/step - loss: 0.4904 - accuracy: 0.8316 - val_loss: 0.4537 - val_accuracy: 0.8443\n",
      "Epoch 7/30\n",
      "1258/1258 [==============================] - 46s 36ms/step - loss: 0.4289 - accuracy: 0.8538 - val_loss: 0.4218 - val_accuracy: 0.8544\n",
      "Epoch 8/30\n",
      "1258/1258 [==============================] - 45s 36ms/step - loss: 0.3884 - accuracy: 0.8670 - val_loss: 0.3667 - val_accuracy: 0.8756\n",
      "Epoch 9/30\n",
      "1258/1258 [==============================] - 46s 36ms/step - loss: 0.3498 - accuracy: 0.8776 - val_loss: 0.3395 - val_accuracy: 0.8830\n",
      "Epoch 10/30\n",
      "1258/1258 [==============================] - 46s 37ms/step - loss: 0.3160 - accuracy: 0.8903 - val_loss: 0.3444 - val_accuracy: 0.8813\n",
      "Epoch 11/30\n",
      "1258/1258 [==============================] - 46s 36ms/step - loss: 0.2912 - accuracy: 0.8985 - val_loss: 0.3075 - val_accuracy: 0.8929\n",
      "Epoch 12/30\n",
      "1258/1258 [==============================] - 45s 36ms/step - loss: 0.2699 - accuracy: 0.9051 - val_loss: 0.2750 - val_accuracy: 0.9053\n",
      "Epoch 13/30\n",
      "1258/1258 [==============================] - 46s 36ms/step - loss: 0.2497 - accuracy: 0.9121 - val_loss: 0.2382 - val_accuracy: 0.9170\n",
      "Epoch 14/30\n",
      "1258/1258 [==============================] - 45s 36ms/step - loss: 0.2341 - accuracy: 0.9181 - val_loss: 0.2458 - val_accuracy: 0.9151\n",
      "Epoch 15/30\n",
      "1258/1258 [==============================] - 45s 36ms/step - loss: 0.2227 - accuracy: 0.9227 - val_loss: 0.2381 - val_accuracy: 0.9182\n",
      "Epoch 16/30\n",
      "1258/1258 [==============================] - 45s 36ms/step - loss: 0.2070 - accuracy: 0.9277 - val_loss: 0.2286 - val_accuracy: 0.9215\n",
      "Epoch 17/30\n",
      "1258/1258 [==============================] - 46s 37ms/step - loss: 0.1939 - accuracy: 0.9325 - val_loss: 0.2228 - val_accuracy: 0.9292\n",
      "Epoch 18/30\n",
      "1258/1258 [==============================] - 46s 37ms/step - loss: 0.1796 - accuracy: 0.9373 - val_loss: 0.2006 - val_accuracy: 0.9340\n",
      "Epoch 19/30\n",
      "1258/1258 [==============================] - 46s 36ms/step - loss: 0.1764 - accuracy: 0.9391 - val_loss: 0.2247 - val_accuracy: 0.9242\n",
      "Epoch 20/30\n",
      "1258/1258 [==============================] - 46s 36ms/step - loss: 0.1693 - accuracy: 0.9407 - val_loss: 0.1950 - val_accuracy: 0.9337\n",
      "Epoch 21/30\n",
      "1258/1258 [==============================] - 45s 36ms/step - loss: 0.1588 - accuracy: 0.9448 - val_loss: 0.2083 - val_accuracy: 0.9311\n",
      "Epoch 22/30\n",
      "1258/1258 [==============================] - 45s 36ms/step - loss: 0.1515 - accuracy: 0.9471 - val_loss: 0.1887 - val_accuracy: 0.9387\n",
      "Epoch 23/30\n",
      "1258/1258 [==============================] - 54s 43ms/step - loss: 0.1477 - accuracy: 0.9490 - val_loss: 0.1765 - val_accuracy: 0.9422\n",
      "Epoch 24/30\n",
      "1258/1258 [==============================] - 51s 40ms/step - loss: 0.1402 - accuracy: 0.9520 - val_loss: 0.2173 - val_accuracy: 0.9288\n",
      "Epoch 25/30\n",
      "1258/1258 [==============================] - 36s 28ms/step - loss: 0.1379 - accuracy: 0.9522 - val_loss: 0.1891 - val_accuracy: 0.9363\n",
      "Epoch 26/30\n",
      "1258/1258 [==============================] - 35s 28ms/step - loss: 0.1356 - accuracy: 0.9544 - val_loss: 0.2016 - val_accuracy: 0.9334\n",
      "Epoch 27/30\n",
      "1258/1258 [==============================] - 36s 29ms/step - loss: 0.1198 - accuracy: 0.9583 - val_loss: 0.1736 - val_accuracy: 0.9472\n",
      "Epoch 28/30\n",
      "1258/1258 [==============================] - 36s 29ms/step - loss: 0.1292 - accuracy: 0.9554 - val_loss: 0.1949 - val_accuracy: 0.9379\n",
      "Epoch 29/30\n",
      "1258/1258 [==============================] - 36s 29ms/step - loss: 0.1225 - accuracy: 0.9590 - val_loss: 0.1847 - val_accuracy: 0.9415\n",
      "Epoch 30/30\n",
      "1258/1258 [==============================] - 36s 28ms/step - loss: 0.1320 - accuracy: 0.9539 - val_loss: 0.1712 - val_accuracy: 0.9417\n",
      "time taken: 22.0 minutes 49.2 seconds\n",
      "None\n"
     ]
    }
   ],
   "source": [
    "start_time=timer()\n",
    "history=model.fit(x_train,y_train,batch_size=50,epochs=30,validation_data=(x_test,y_test))\n",
    "end_time=timer()\n",
    "print(print(\"time taken: {0} minutes {1:.1f} seconds\".format((end_time - start_time)//60, (end_time - start_time)%60)))"
   ]
  },
  {
   "cell_type": "code",
   "execution_count": 21,
   "metadata": {},
   "outputs": [
    {
     "name": "stdout",
     "output_type": "stream",
     "text": [
      "Training Accuracy 0.9725624322891235\n",
      "Testing Accuracy 0.9417228698730469\n"
     ]
    }
   ],
   "source": [
    "score = model.evaluate(x_train, y_train, verbose=0)\n",
    "print(\"Training Accuracy {}\".format(score[1] ))\n",
    "score = model.evaluate(x_test, y_test, verbose=0)\n",
    "print(\"Testing Accuracy {}\".format(score[1]))"
   ]
  },
  {
   "cell_type": "code",
   "execution_count": 22,
   "metadata": {},
   "outputs": [],
   "source": [
    "model_json=model.to_json()"
   ]
  },
  {
   "cell_type": "code",
   "execution_count": 24,
   "metadata": {},
   "outputs": [],
   "source": [
    "with open(\"Augmented_Mel_model.json\", \"w\") as json_file:\n",
    "    json_file.write(model_json)"
   ]
  },
  {
   "cell_type": "code",
   "execution_count": 25,
   "metadata": {},
   "outputs": [],
   "source": [
    "model.save_weights(\"Augmented_Mel_weights.h5\")"
   ]
  },
  {
   "cell_type": "code",
   "execution_count": 26,
   "metadata": {},
   "outputs": [
    {
     "data": {
      "image/png": "[encoded data removed]",
      "text/plain": [
       "<Figure size 432x288 with 1 Axes>"
      ]
     },
     "metadata": {
      "needs_background": "light"
     },
     "output_type": "display_data"
    }
   ],
   "source": [
    "plt.plot(history.history[\"accuracy\"])\n",
    "plt.plot(history.history[\"val_accuracy\"])\n",
    "plt.title(\"Model Accuracy\")\n",
    "plt.xlabel(\"Epochs\")\n",
    "plt.ylabel(\"Accuracy\")\n",
    "plt.show()"
   ]
  },
  {
   "cell_type": "code",
   "execution_count": null,
   "metadata": {},
   "outputs": [],
   "source": []
  }
 ],
 "metadata": {
  "kernelspec": {
   "display_name": "Python 3",
   "language": "python",
   "name": "python3"
  },
  "language_info": {
   "codemirror_mode": {
    "name": "ipython",
    "version": 3
   },
   "file_extension": ".py",
   "mimetype": "text/x-python",
   "name": "python",
   "nbconvert_exporter": "python",
   "pygments_lexer": "ipython3",
   "version": "3.8.3"
  }
 },
 "nbformat": 4,
 "nbformat_minor": 4
}
