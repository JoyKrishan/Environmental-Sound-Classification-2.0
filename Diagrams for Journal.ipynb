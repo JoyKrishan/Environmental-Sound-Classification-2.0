{
 "cells": [
  {
   "cell_type": "code",
   "execution_count": 1,
   "metadata": {},
   "outputs": [
    {
     "name": "stdout",
     "output_type": "stream",
     "text": [
      "Collecting git+https://github.com/detly/gammatone.git\n",
      "  Cloning https://github.com/detly/gammatone.git to c:\\users\\pc\\appdata\\local\\temp\\pip-req-build-txtivjb9\n",
      "Note: you may need to restart the kernel to use updated packages.\n"
     ]
    },
    {
     "name": "stderr",
     "output_type": "stream",
     "text": [
      "  ERROR: Error [WinError 2] The system cannot find the file specified while executing command git clone -q https://github.com/detly/gammatone.git 'C:\\Users\\pc\\AppData\\Local\\Temp\\pip-req-build-txtivjb9'\n",
      "ERROR: Cannot find command 'git' - do you have 'git' installed and in your PATH?\n"
     ]
    }
   ],
   "source": [
    "%pip install git+https://github.com/detly/gammatone.git"
   ]
  },
  {
   "cell_type": "code",
   "execution_count": 2,
   "metadata": {},
   "outputs": [
    {
     "ename": "SyntaxError",
     "evalue": "invalid syntax (<ipython-input-2-2787e8c4edc0>, line 1)",
     "output_type": "error",
     "traceback": [
      "\u001b[1;36m  File \u001b[1;32m\"<ipython-input-2-2787e8c4edc0>\"\u001b[1;36m, line \u001b[1;32m1\u001b[0m\n\u001b[1;33m    python -m gammatone UrbanSound8K/audio/fold1/7383-3-0-0.wav -d 10\u001b[0m\n\u001b[1;37m              ^\u001b[0m\n\u001b[1;31mSyntaxError\u001b[0m\u001b[1;31m:\u001b[0m invalid syntax\n"
     ]
    }
   ],
   "source": [
    "python -m gammatone UrbanSound8K/audio/fold1/7383-3-0-0.wav -d 10"
   ]
  },
  {
   "cell_type": "code",
   "execution_count": 1,
   "metadata": {},
   "outputs": [],
   "source": [
    "import pandas as pd\n",
    "metadata=pd.read_csv('UrbanSound8K/metadata/UrbanSound8K.csv')"
   ]
  },
  {
   "cell_type": "code",
   "execution_count": 2,
   "metadata": {},
   "outputs": [
    {
     "data": {
      "text/html": [
       "<div>\n",
       "<style scoped>\n",
       "    .dataframe tbody tr th:only-of-type {\n",
       "        vertical-align: middle;\n",
       "    }\n",
       "\n",
       "    .dataframe tbody tr th {\n",
       "        vertical-align: top;\n",
       "    }\n",
       "\n",
       "    .dataframe thead th {\n",
       "        text-align: right;\n",
       "    }\n",
       "</style>\n",
       "<table border=\"1\" class=\"dataframe\">\n",
       "  <thead>\n",
       "    <tr style=\"text-align: right;\">\n",
       "      <th></th>\n",
       "      <th>slice_file_name</th>\n",
       "      <th>fsID</th>\n",
       "      <th>start</th>\n",
       "      <th>end</th>\n",
       "      <th>salience</th>\n",
       "      <th>fold</th>\n",
       "      <th>classID</th>\n",
       "      <th>class</th>\n",
       "    </tr>\n",
       "  </thead>\n",
       "  <tbody>\n",
       "    <tr>\n",
       "      <th>0</th>\n",
       "      <td>100032-3-0-0.wav</td>\n",
       "      <td>100032</td>\n",
       "      <td>0.0</td>\n",
       "      <td>0.317551</td>\n",
       "      <td>1</td>\n",
       "      <td>5</td>\n",
       "      <td>3</td>\n",
       "      <td>dog_bark</td>\n",
       "    </tr>\n",
       "    <tr>\n",
       "      <th>1</th>\n",
       "      <td>100263-2-0-117.wav</td>\n",
       "      <td>100263</td>\n",
       "      <td>58.5</td>\n",
       "      <td>62.500000</td>\n",
       "      <td>1</td>\n",
       "      <td>5</td>\n",
       "      <td>2</td>\n",
       "      <td>children_playing</td>\n",
       "    </tr>\n",
       "    <tr>\n",
       "      <th>2</th>\n",
       "      <td>100263-2-0-121.wav</td>\n",
       "      <td>100263</td>\n",
       "      <td>60.5</td>\n",
       "      <td>64.500000</td>\n",
       "      <td>1</td>\n",
       "      <td>5</td>\n",
       "      <td>2</td>\n",
       "      <td>children_playing</td>\n",
       "    </tr>\n",
       "    <tr>\n",
       "      <th>3</th>\n",
       "      <td>100263-2-0-126.wav</td>\n",
       "      <td>100263</td>\n",
       "      <td>63.0</td>\n",
       "      <td>67.000000</td>\n",
       "      <td>1</td>\n",
       "      <td>5</td>\n",
       "      <td>2</td>\n",
       "      <td>children_playing</td>\n",
       "    </tr>\n",
       "    <tr>\n",
       "      <th>4</th>\n",
       "      <td>100263-2-0-137.wav</td>\n",
       "      <td>100263</td>\n",
       "      <td>68.5</td>\n",
       "      <td>72.500000</td>\n",
       "      <td>1</td>\n",
       "      <td>5</td>\n",
       "      <td>2</td>\n",
       "      <td>children_playing</td>\n",
       "    </tr>\n",
       "  </tbody>\n",
       "</table>\n",
       "</div>"
      ],
      "text/plain": [
       "      slice_file_name    fsID  start        end  salience  fold  classID  \\\n",
       "0    100032-3-0-0.wav  100032    0.0   0.317551         1     5        3   \n",
       "1  100263-2-0-117.wav  100263   58.5  62.500000         1     5        2   \n",
       "2  100263-2-0-121.wav  100263   60.5  64.500000         1     5        2   \n",
       "3  100263-2-0-126.wav  100263   63.0  67.000000         1     5        2   \n",
       "4  100263-2-0-137.wav  100263   68.5  72.500000         1     5        2   \n",
       "\n",
       "              class  \n",
       "0          dog_bark  \n",
       "1  children_playing  \n",
       "2  children_playing  \n",
       "3  children_playing  \n",
       "4  children_playing  "
      ]
     },
     "execution_count": 2,
     "metadata": {},
     "output_type": "execute_result"
    }
   ],
   "source": [
    "metadata.head()"
   ]
  },
  {
   "cell_type": "code",
   "execution_count": 3,
   "metadata": {},
   "outputs": [
    {
     "name": "stdout",
     "output_type": "stream",
     "text": [
      "<class 'pandas.core.frame.DataFrame'>\n",
      "RangeIndex: 8732 entries, 0 to 8731\n",
      "Data columns (total 8 columns):\n",
      " #   Column           Non-Null Count  Dtype  \n",
      "---  ------           --------------  -----  \n",
      " 0   slice_file_name  8732 non-null   object \n",
      " 1   fsID             8732 non-null   int64  \n",
      " 2   start            8732 non-null   float64\n",
      " 3   end              8732 non-null   float64\n",
      " 4   salience         8732 non-null   int64  \n",
      " 5   fold             8732 non-null   int64  \n",
      " 6   classID          8732 non-null   int64  \n",
      " 7   class            8732 non-null   object \n",
      "dtypes: float64(2), int64(4), object(2)\n",
      "memory usage: 545.9+ KB\n"
     ]
    }
   ],
   "source": [
    "metadata.info()"
   ]
  },
  {
   "cell_type": "code",
   "execution_count": 4,
   "metadata": {},
   "outputs": [
    {
     "data": {
      "text/plain": [
       "array(['dog_bark', 'children_playing', 'car_horn', 'air_conditioner',\n",
       "       'street_music', 'gun_shot', 'siren', 'engine_idling', 'jackhammer',\n",
       "       'drilling'], dtype=object)"
      ]
     },
     "execution_count": 4,
     "metadata": {},
     "output_type": "execute_result"
    }
   ],
   "source": [
    "metadata[\"class\"].unique()"
   ]
  },
  {
   "cell_type": "code",
   "execution_count": 5,
   "metadata": {},
   "outputs": [
    {
     "data": {
      "text/plain": [
       "array([3, 2, 1, 0, 9, 6, 8, 5, 7, 4], dtype=int64)"
      ]
     },
     "execution_count": 5,
     "metadata": {},
     "output_type": "execute_result"
    }
   ],
   "source": [
    "metadata[\"classID\"].unique()"
   ]
  },
  {
   "cell_type": "code",
   "execution_count": 6,
   "metadata": {},
   "outputs": [],
   "source": [
    "hist_list=[]\n",
    "for classID in metadata[\"classID\"].unique():\n",
    "    hist_list.append((metadata[\"classID\"] == classID).sum())"
   ]
  },
  {
   "cell_type": "code",
   "execution_count": 7,
   "metadata": {},
   "outputs": [
    {
     "name": "stdout",
     "output_type": "stream",
     "text": [
      "[1000, 1000, 429, 1000, 1000, 374, 929, 1000, 1000, 1000]\n"
     ]
    }
   ],
   "source": [
    "print(hist_list)"
   ]
  },
  {
   "cell_type": "code",
   "execution_count": 8,
   "metadata": {},
   "outputs": [],
   "source": [
    "import matplotlib.pyplot as plt"
   ]
  },
  {
   "cell_type": "code",
   "execution_count": 18,
   "metadata": {},
   "outputs": [],
   "source": [
    "import matplotlib.pyplot as plt\n",
    "\n",
    "SMALL_SIZE = 8\n",
    "MEDIUM_SIZE = 16\n",
    "BIGGER_SIZE = 12\n",
    "\n",
    "plt.rc('font', size=SMALL_SIZE)          # controls default text sizes\n",
    "plt.rc('axes', titlesize=SMALL_SIZE)     # fontsize of the axes title\n",
    "plt.rc('axes', labelsize=22)    # fontsize of the x and y labels\n",
    "plt.rc('xtick', labelsize=22)    # fontsize of the tick labels\n",
    "plt.rc('ytick', labelsize=22)    # fontsize of the tick labels\n",
    "plt.rc('legend', fontsize=SMALL_SIZE)    # legend fontsize\n",
    "plt.rc('figure', titlesize=BIGGER_SIZE)  # fontsize of the figure title"
   ]
  },
  {
   "cell_type": "code",
   "execution_count": 19,
   "metadata": {},
   "outputs": [
    {
     "data": {
      "image/png": "[encoded data removed]",
      "text/plain": [
       "<Figure size 432x288 with 1 Axes>"
      ]
     },
     "metadata": {
      "needs_background": "light"
     },
     "output_type": "display_data"
    }
   ],
   "source": [
    "\n",
    "fig=plt.figure(figsize=(6,4))\n",
    "ax=fig.add_axes([0,0,3,2])\n",
    "labels=list(metadata[\"class\"].unique())\n",
    "occurance=hist_list\n",
    "ax.bar(labels, hist_list, color=[\"teal\", \"orangered\"])\n",
    "plt.xticks(rotation=45)\n",
    "plt.xlabel(\"classes\")\n",
    "plt.ylabel(\"occurance\")\n",
    "plt.savefig(\"class_vs_occ.pdf\", bbox_inches='tight')\n",
    "plt.show()\n"
   ]
  },
  {
   "cell_type": "code",
   "execution_count": 8,
   "metadata": {},
   "outputs": [
    {
     "data": {
      "text/html": [
       "<div>\n",
       "<style scoped>\n",
       "    .dataframe tbody tr th:only-of-type {\n",
       "        vertical-align: middle;\n",
       "    }\n",
       "\n",
       "    .dataframe tbody tr th {\n",
       "        vertical-align: top;\n",
       "    }\n",
       "\n",
       "    .dataframe thead th {\n",
       "        text-align: right;\n",
       "    }\n",
       "</style>\n",
       "<table border=\"1\" class=\"dataframe\">\n",
       "  <thead>\n",
       "    <tr style=\"text-align: right;\">\n",
       "      <th></th>\n",
       "      <th>slice_file_name</th>\n",
       "      <th>fsID</th>\n",
       "      <th>start</th>\n",
       "      <th>end</th>\n",
       "      <th>salience</th>\n",
       "      <th>fold</th>\n",
       "      <th>classID</th>\n",
       "      <th>class</th>\n",
       "    </tr>\n",
       "  </thead>\n",
       "  <tbody>\n",
       "    <tr>\n",
       "      <th>8727</th>\n",
       "      <td>99812-1-2-0.wav</td>\n",
       "      <td>99812</td>\n",
       "      <td>159.522205</td>\n",
       "      <td>163.522205</td>\n",
       "      <td>2</td>\n",
       "      <td>7</td>\n",
       "      <td>1</td>\n",
       "      <td>car_horn</td>\n",
       "    </tr>\n",
       "    <tr>\n",
       "      <th>8728</th>\n",
       "      <td>99812-1-3-0.wav</td>\n",
       "      <td>99812</td>\n",
       "      <td>181.142431</td>\n",
       "      <td>183.284976</td>\n",
       "      <td>2</td>\n",
       "      <td>7</td>\n",
       "      <td>1</td>\n",
       "      <td>car_horn</td>\n",
       "    </tr>\n",
       "    <tr>\n",
       "      <th>8729</th>\n",
       "      <td>99812-1-4-0.wav</td>\n",
       "      <td>99812</td>\n",
       "      <td>242.691902</td>\n",
       "      <td>246.197885</td>\n",
       "      <td>2</td>\n",
       "      <td>7</td>\n",
       "      <td>1</td>\n",
       "      <td>car_horn</td>\n",
       "    </tr>\n",
       "    <tr>\n",
       "      <th>8730</th>\n",
       "      <td>99812-1-5-0.wav</td>\n",
       "      <td>99812</td>\n",
       "      <td>253.209850</td>\n",
       "      <td>255.741948</td>\n",
       "      <td>2</td>\n",
       "      <td>7</td>\n",
       "      <td>1</td>\n",
       "      <td>car_horn</td>\n",
       "    </tr>\n",
       "    <tr>\n",
       "      <th>8731</th>\n",
       "      <td>99812-1-6-0.wav</td>\n",
       "      <td>99812</td>\n",
       "      <td>332.289233</td>\n",
       "      <td>334.821332</td>\n",
       "      <td>2</td>\n",
       "      <td>7</td>\n",
       "      <td>1</td>\n",
       "      <td>car_horn</td>\n",
       "    </tr>\n",
       "  </tbody>\n",
       "</table>\n",
       "</div>"
      ],
      "text/plain": [
       "      slice_file_name   fsID       start         end  salience  fold  classID  \\\n",
       "8727  99812-1-2-0.wav  99812  159.522205  163.522205         2     7        1   \n",
       "8728  99812-1-3-0.wav  99812  181.142431  183.284976         2     7        1   \n",
       "8729  99812-1-4-0.wav  99812  242.691902  246.197885         2     7        1   \n",
       "8730  99812-1-5-0.wav  99812  253.209850  255.741948         2     7        1   \n",
       "8731  99812-1-6-0.wav  99812  332.289233  334.821332         2     7        1   \n",
       "\n",
       "         class  \n",
       "8727  car_horn  \n",
       "8728  car_horn  \n",
       "8729  car_horn  \n",
       "8730  car_horn  \n",
       "8731  car_horn  "
      ]
     },
     "execution_count": 8,
     "metadata": {},
     "output_type": "execute_result"
    }
   ],
   "source": [
    "#Plot an MFCC of drilling\n",
    "metadata.tail()"
   ]
  },
  {
   "cell_type": "code",
   "execution_count": 12,
   "metadata": {},
   "outputs": [],
   "source": [
    "filename =\"UrbanSound8K/audio/fold7/99812-1-4-0.wav\""
   ]
  },
  {
   "cell_type": "code",
   "execution_count": 13,
   "metadata": {},
   "outputs": [],
   "source": [
    "import librosa.display as dip"
   ]
  },
  {
   "cell_type": "code",
   "execution_count": 12,
   "metadata": {},
   "outputs": [],
   "source": [
    "import matplotlib.pyplot as plt"
   ]
  },
  {
   "cell_type": "code",
   "execution_count": 15,
   "metadata": {},
   "outputs": [
    {
     "data": {
      "image/png": "[encoded data removed]",
      "text/plain": [
       "<Figure size 720x288 with 2 Axes>"
      ]
     },
     "metadata": {
      "needs_background": "light"
     },
     "output_type": "display_data"
    }
   ],
   "source": [
    "#mfcc of car horn \n",
    "import librosa\n",
    "y, sr =librosa.load(filename)\n",
    "mfccs=librosa.feature.mfcc(y , sr)\n",
    "plt.figure(figsize=(10,4))\n",
    "dip.specshow(mfccs , x_axis='time')\n",
    "plt.ylabel('Coefficient of MFCC')\n",
    "plt.colorbar()\n",
    "plt.savefig(\"mfcc.pdf\", bbox_inches=\"tight\")"
   ]
  },
  {
   "cell_type": "code",
   "execution_count": 15,
   "metadata": {},
   "outputs": [
    {
     "data": {
      "text/plain": [
       "array([[-297.4299    , -293.2348    , -297.87338   , ..., -338.08334   ,\n",
       "        -345.3919    , -352.47012   ],\n",
       "       [  99.2291    ,  100.57094   ,  100.41075   , ...,  128.58336   ,\n",
       "         123.02803   ,  113.800896  ],\n",
       "       [ -28.023825  ,  -34.6601    ,  -40.865173  , ...,  -25.422596  ,\n",
       "         -26.586838  ,  -27.514164  ],\n",
       "       ...,\n",
       "       [  -1.4245396 ,    0.83669364,    2.4832091 , ...,    5.670185  ,\n",
       "           0.5757351 ,    8.419672  ],\n",
       "       [ -17.954378  ,  -12.017621  ,  -11.592312  , ...,   -2.3170366 ,\n",
       "          -3.0423112 ,   -2.8666782 ],\n",
       "       [  -5.7168636 ,   -2.2399642 ,    1.0514954 , ...,    4.2743616 ,\n",
       "           9.520977  ,    4.8787527 ]], dtype=float32)"
      ]
     },
     "execution_count": 15,
     "metadata": {},
     "output_type": "execute_result"
    }
   ],
   "source": [
    "mfccs"
   ]
  },
  {
   "cell_type": "code",
   "execution_count": 16,
   "metadata": {},
   "outputs": [
    {
     "data": {
      "image/png": "[encoded data removed]",
      "text/plain": [
       "<Figure size 720x288 with 2 Axes>"
      ]
     },
     "metadata": {
      "needs_background": "light"
     },
     "output_type": "display_data"
    }
   ],
   "source": [
    "chroma_stft=librosa.feature.chroma_stft(y, sr)\n",
    "plt.figure(figsize=(10,4))\n",
    "dip.specshow(chroma_stft ,y_axis='chroma', x_axis='time')\n",
    "plt.ylabel('Pitch Class')\n",
    "plt.colorbar()\n",
    "plt.savefig(\"chroma.pdf\", bbox_inches=\"tight\")"
   ]
  },
  {
   "cell_type": "code",
   "execution_count": 14,
   "metadata": {},
   "outputs": [],
   "source": [
    "import librosa\n",
    "y, sr =librosa.load(filename)\n",
    "chroma_stft =librosa.feature.chroma_stft(y=y, sr=sr,n_chroma=50)\n",
    "mfccs=librosa.feature.mfcc(y=y, sr=sr , n_mfcc=50)"
   ]
  },
  {
   "cell_type": "code",
   "execution_count": 18,
   "metadata": {},
   "outputs": [
    {
     "name": "stdout",
     "output_type": "stream",
     "text": [
      "(50, 151) (50, 151)\n"
     ]
    }
   ],
   "source": [
    "print(chroma_stft.shape, mfccs.shape)"
   ]
  },
  {
   "cell_type": "code",
   "execution_count": 19,
   "metadata": {},
   "outputs": [],
   "source": [
    "import numpy as np\n",
    "MC=np.hstack([mfccs, chroma_stft])"
   ]
  },
  {
   "cell_type": "code",
   "execution_count": 21,
   "metadata": {},
   "outputs": [
    {
     "data": {
      "image/png": "[encoded data removed]",
      "text/plain": [
       "<Figure size 360x216 with 1 Axes>"
      ]
     },
     "metadata": {},
     "output_type": "display_data"
    }
   ],
   "source": [
    "plt.figure(figsize=(5,3))\n",
    "dip.specshow(mfccs)\n",
    "plt.savefig(\"mfcc_combine.jpg\", bbox_inches=\"tight\")"
   ]
  },
  {
   "cell_type": "code",
   "execution_count": 22,
   "metadata": {},
   "outputs": [
    {
     "data": {
      "image/png": "[encoded data removed]",
      "text/plain": [
       "<Figure size 360x216 with 1 Axes>"
      ]
     },
     "metadata": {},
     "output_type": "display_data"
    }
   ],
   "source": [
    "plt.figure(figsize=(5,3))\n",
    "dip.specshow(chroma_stft)\n",
    "plt.savefig(\"chroma_combine.jpg\", bbox_inches=\"tight\")"
   ]
  },
  {
   "cell_type": "code",
   "execution_count": 22,
   "metadata": {},
   "outputs": [
    {
     "data": {
      "text/plain": [
       "(50, 151)"
      ]
     },
     "execution_count": 22,
     "metadata": {},
     "output_type": "execute_result"
    }
   ],
   "source": [
    "chroma_stft.shape"
   ]
  },
  {
   "cell_type": "code",
   "execution_count": 23,
   "metadata": {},
   "outputs": [
    {
     "data": {
      "text/plain": [
       "(50, 151)"
      ]
     },
     "execution_count": 23,
     "metadata": {},
     "output_type": "execute_result"
    }
   ],
   "source": [
    "mfccs.shape"
   ]
  },
  {
   "cell_type": "code",
   "execution_count": 24,
   "metadata": {},
   "outputs": [],
   "source": [
    "# Visualizing the model"
   ]
  },
  {
   "cell_type": "code",
   "execution_count": null,
   "metadata": {},
   "outputs": [],
   "source": [
    "%pip install visualkeras"
   ]
  },
  {
   "cell_type": "code",
   "execution_count": null,
   "metadata": {},
   "outputs": [],
   "source": [
    "import visualkeras"
   ]
  },
  {
   "cell_type": "code",
   "execution_count": null,
   "metadata": {},
   "outputs": [],
   "source": [
    "from keras.models import Sequential\n",
    "from keras.layers import Dense, Dropout, Activation, Flatten, Input\n",
    "from keras.layers import Convolution2D, Conv2D, MaxPooling2D, GlobalAveragePooling2D, LSTM, TimeDistributed, BatchNormalization\n",
    "from keras.optimizers import Adam\n",
    "from keras.models import Model\n",
    "from keras.utils import np_utils\n",
    "from sklearn import metrics"
   ]
  },
  {
   "cell_type": "code",
   "execution_count": null,
   "metadata": {},
   "outputs": [],
   "source": [
    "model=Sequential()\n",
    "model.add(Conv2D(64,kernel_size=5,strides=1,padding=\"Same\",activation=\"relu\",input_shape=(20,5,1)))\n",
    "model.add(MaxPooling2D(padding=\"same\"))\n",
    "\n",
    "model.add(Conv2D(128,kernel_size=5,strides=1,padding=\"same\",activation=\"relu\"))\n",
    "model.add(MaxPooling2D(padding=\"same\"))\n",
    "model.add(Dropout(0.3))"
   ]
  },
  {
   "cell_type": "code",
   "execution_count": 165,
   "metadata": {},
   "outputs": [],
   "source": [
    "input = Input(shape=(20, 5, 1))\n",
    "#label = Input(shape=(10,))\n",
    "\n",
    "model=Sequential()\n",
    "model.add(Conv2D(64,kernel_size=5,strides=1,padding=\"Same\",activation=\"relu\",input_shape=(20,5,1)))\n",
    "model.add(MaxPooling2D(padding=\"same\"))\n",
    "\n",
    "model.add(Conv2D(128,kernel_size=5,strides=1,padding=\"same\",activation=\"relu\"))\n",
    "model.add(MaxPooling2D(padding=\"same\"))\n",
    "model.add(Dropout(0.3))\n",
    "model.add(BatchNormalization())\n",
    "model.add(Flatten())"
   ]
  },
  {
   "cell_type": "code",
   "execution_count": 166,
   "metadata": {},
   "outputs": [
    {
     "name": "stdout",
     "output_type": "stream",
     "text": [
      "Model: \"sequential_1\"\n",
      "_________________________________________________________________\n",
      "Layer (type)                 Output Shape              Param #   \n",
      "=================================================================\n",
      "conv2d_5 (Conv2D)            (None, 20, 5, 64)         1664      \n",
      "_________________________________________________________________\n",
      "max_pooling2d_5 (MaxPooling2 (None, 10, 3, 64)         0         \n",
      "_________________________________________________________________\n",
      "conv2d_6 (Conv2D)            (None, 10, 3, 128)        204928    \n",
      "_________________________________________________________________\n",
      "max_pooling2d_6 (MaxPooling2 (None, 5, 2, 128)         0         \n",
      "_________________________________________________________________\n",
      "dropout_5 (Dropout)          (None, 5, 2, 128)         0         \n",
      "_________________________________________________________________\n",
      "batch_normalization_2 (Batch (None, 5, 2, 128)         512       \n",
      "_________________________________________________________________\n",
      "flatten_2 (Flatten)          (None, 1280)              0         \n",
      "=================================================================\n",
      "Total params: 207,104\n",
      "Trainable params: 206,848\n",
      "Non-trainable params: 256\n",
      "_________________________________________________________________\n"
     ]
    }
   ],
   "source": [
    "model.summary()"
   ]
  },
  {
   "cell_type": "code",
   "execution_count": 167,
   "metadata": {},
   "outputs": [],
   "source": [
    "visualkeras.layered_view(model).show() # display using your system viewer"
   ]
  },
  {
   "cell_type": "code",
   "execution_count": 171,
   "metadata": {},
   "outputs": [
    {
     "data": {
      "image/png": "[encoded data removed]",
      "text/plain": [
       "<PIL.Image.Image image mode=RGBA size=357x467 at 0xA5F3D7B760>"
      ]
     },
     "execution_count": 171,
     "metadata": {},
     "output_type": "execute_result"
    }
   ],
   "source": [
    "#custom coloring\n",
    "from collections import defaultdict\n",
    "\n",
    "color_map = defaultdict(dict)\n",
    "color_map[Conv2D]['fill'] = 'white'\n",
    "color_map[MaxPooling2D]['fill'] = 'gray'\n",
    "color_map[Dropout]['fill'] = 'orange'\n",
    "color_map[Dense]['fill'] = 'green'\n",
    "color_map[Flatten]['fill'] = 'teal'\n",
    "\n",
    "visualkeras.layered_view(model, color_map=color_map, type_ignore=[Input, Dense, Flatten], scale_xy=40)"
   ]
  },
  {
   "cell_type": "code",
   "execution_count": 146,
   "metadata": {},
   "outputs": [
    {
     "data": {
      "image/png": "[encoded data removed]",
      "text/plain": [
       "<PIL.Image.Image image mode=RGBA size=719x467 at 0xA5F45476D0>"
      ]
     },
     "execution_count": 146,
     "metadata": {},
     "output_type": "execute_result"
    }
   ],
   "source": [
    "visualkeras.layered_view(model, scale_xy=40)"
   ]
  },
  {
   "cell_type": "code",
   "execution_count": 141,
   "metadata": {},
   "outputs": [
    {
     "name": "stdout",
     "output_type": "stream",
     "text": [
      "Model: \"functional_1\"\n",
      "_________________________________________________________________\n",
      "Layer (type)                 Output Shape              Param #   \n",
      "=================================================================\n",
      "input_1 (InputLayer)         [(None, 20, 5, 1)]        0         \n",
      "_________________________________________________________________\n",
      "conv2d (Conv2D)              (None, 20, 5, 64)         1664      \n",
      "_________________________________________________________________\n",
      "max_pooling2d (MaxPooling2D) (None, 10, 3, 64)         0         \n",
      "_________________________________________________________________\n",
      "conv2d_1 (Conv2D)            (None, 10, 3, 128)        204928    \n",
      "_________________________________________________________________\n",
      "max_pooling2d_1 (MaxPooling2 (None, 5, 2, 128)         0         \n",
      "_________________________________________________________________\n",
      "dropout (Dropout)            (None, 5, 2, 128)         0         \n",
      "_________________________________________________________________\n",
      "batch_normalization (BatchNo (None, 5, 2, 128)         512       \n",
      "_________________________________________________________________\n",
      "flatten (Flatten)            (None, 1280)              0         \n",
      "_________________________________________________________________\n",
      "dense (Dense)                (None, 256)               327936    \n",
      "_________________________________________________________________\n",
      "dropout_1 (Dropout)          (None, 256)               0         \n",
      "_________________________________________________________________\n",
      "dense_1 (Dense)              (None, 512)               131584    \n",
      "_________________________________________________________________\n",
      "dropout_2 (Dropout)          (None, 512)               0         \n",
      "_________________________________________________________________\n",
      "dense_2 (Dense)              (None, 10)                5130      \n",
      "=================================================================\n",
      "Total params: 671,754\n",
      "Trainable params: 671,498\n",
      "Non-trainable params: 256\n",
      "_________________________________________________________________\n"
     ]
    }
   ],
   "source": [
    "model.summary()"
   ]
  },
  {
   "cell_type": "code",
   "execution_count": 143,
   "metadata": {},
   "outputs": [
    {
     "name": "stderr",
     "output_type": "stream",
     "text": [
      "<ipython-input-143-de66d5aa701c>:208: UserWarning: Tight layout not applied. The left and right margins cannot be made large enough to accommodate all axes decorations. \n",
      "  plt.tight_layout()\n"
     ]
    },
    {
     "data": {
      "image/png": "[encoded data removed]",
      "text/plain": [
       "<Figure size 640x480 with 1 Axes>"
      ]
     },
     "metadata": {},
     "output_type": "display_data"
    }
   ],
   "source": [
    "import os\n",
    "import numpy as np\n",
    "import matplotlib.pyplot as plt\n",
    "plt.rcdefaults()\n",
    "from matplotlib.lines import Line2D\n",
    "from matplotlib.patches import Rectangle\n",
    "from matplotlib.patches import Circle\n",
    "\n",
    "NumDots = 4\n",
    "NumConvMax = 8\n",
    "NumFcMax = 20\n",
    "White = 1.\n",
    "Light = 0.7\n",
    "Medium = 0.5\n",
    "Dark = 0.3\n",
    "Darker = 0.15\n",
    "Black = 0.\n",
    "\n",
    "\n",
    "def add_layer(patches, colors, size=(24, 24), num=5,\n",
    "              top_left=[0, 0],\n",
    "              loc_diff=[3, -3],\n",
    "              ):\n",
    "    # add a rectangle\n",
    "    top_left = np.array(top_left)\n",
    "    loc_diff = np.array(loc_diff)\n",
    "    loc_start = top_left - np.array([0, size[0]])\n",
    "    for ind in range(num):\n",
    "        patches.append(Rectangle(loc_start + ind * loc_diff, size[1], size[0]))\n",
    "        if ind % 2:\n",
    "            colors.append(Medium)\n",
    "        else:\n",
    "            colors.append(Light)\n",
    "\n",
    "\n",
    "def add_layer_with_omission(patches, colors, size=(24, 24),\n",
    "                            num=5, num_max=8,\n",
    "                            num_dots=4,\n",
    "                            top_left=[0, 0],\n",
    "                            loc_diff=[3, -3],\n",
    "                            ):\n",
    "    # add a rectangle\n",
    "    top_left = np.array(top_left)\n",
    "    loc_diff = np.array(loc_diff)\n",
    "    loc_start = top_left - np.array([0, size[0]])\n",
    "    this_num = min(num, num_max)\n",
    "    start_omit = (this_num - num_dots) // 2\n",
    "    end_omit = this_num - start_omit\n",
    "    start_omit -= 1\n",
    "    for ind in range(this_num):\n",
    "        if (num > num_max) and (start_omit < ind < end_omit):\n",
    "            omit = True\n",
    "        else:\n",
    "            omit = False\n",
    "\n",
    "        if omit:\n",
    "            patches.append(\n",
    "                Circle(loc_start + ind * loc_diff + np.array(size) / 2, 0.5))\n",
    "        else:\n",
    "            patches.append(Rectangle(loc_start + ind * loc_diff,\n",
    "                                     size[1], size[0]))\n",
    "\n",
    "        if omit:\n",
    "            colors.append(Black)\n",
    "        elif ind % 2:\n",
    "            colors.append(Medium)\n",
    "        else:\n",
    "            colors.append(Light)\n",
    "\n",
    "\n",
    "def add_mapping(patches, colors, start_ratio, end_ratio, patch_size, ind_bgn,\n",
    "                top_left_list, loc_diff_list, num_show_list, size_list):\n",
    "\n",
    "    start_loc = top_left_list[ind_bgn] \\\n",
    "        + (num_show_list[ind_bgn] - 1) * np.array(loc_diff_list[ind_bgn]) \\\n",
    "        + np.array([start_ratio[0] * (size_list[ind_bgn][1] - patch_size[1]),\n",
    "                    - start_ratio[1] * (size_list[ind_bgn][0] - patch_size[0])]\n",
    "                   )\n",
    "\n",
    "\n",
    "\n",
    "\n",
    "    end_loc = top_left_list[ind_bgn + 1] \\\n",
    "        + (num_show_list[ind_bgn + 1] - 1) * np.array(\n",
    "            loc_diff_list[ind_bgn + 1]) \\\n",
    "        + np.array([end_ratio[0] * size_list[ind_bgn + 1][1],\n",
    "                    - end_ratio[1] * size_list[ind_bgn + 1][0]])\n",
    "\n",
    "\n",
    "    patches.append(Rectangle(start_loc, patch_size[1], -patch_size[0]))\n",
    "    colors.append(Dark)\n",
    "    patches.append(Line2D([start_loc[0], end_loc[0]],\n",
    "                          [start_loc[1], end_loc[1]]))\n",
    "    colors.append(Darker)\n",
    "    patches.append(Line2D([start_loc[0] + patch_size[1], end_loc[0]],\n",
    "                          [start_loc[1], end_loc[1]]))\n",
    "    colors.append(Darker)\n",
    "    patches.append(Line2D([start_loc[0], end_loc[0]],\n",
    "                          [start_loc[1] - patch_size[0], end_loc[1]]))\n",
    "    colors.append(Darker)\n",
    "    patches.append(Line2D([start_loc[0] + patch_size[1], end_loc[0]],\n",
    "                          [start_loc[1] - patch_size[0], end_loc[1]]))\n",
    "    colors.append(Darker)\n",
    "\n",
    "\n",
    "\n",
    "def label(xy, text, xy_off=[0, 4]):\n",
    "    plt.text(xy[0] + xy_off[0], xy[1] + xy_off[1], text,\n",
    "             family='sans-serif', size=8)\n",
    "\n",
    "\n",
    "if __name__ == '__main__':\n",
    "\n",
    "    fc_unit_size = 2\n",
    "    layer_width = 40\n",
    "    flag_omit = True\n",
    "\n",
    "    patches = []\n",
    "    colors = []\n",
    "\n",
    "    fig, ax = plt.subplots()\n",
    "\n",
    "\n",
    "    ############################\n",
    "    # conv layers\n",
    "    size_list = [(20, 5), (20, 5), (10, 3), (10, 3), (5, 2)]\n",
    "    num_list = [1, 64, 64, 128, 128]\n",
    "    x_diff_list = [0, layer_width, layer_width, layer_width, layer_width]\n",
    "    text_list = ['Inputs'] + ['Feature\\nmaps'] * (len(size_list) - 1)\n",
    "    loc_diff_list = [[3, -3]] * len(size_list)\n",
    "\n",
    "    num_show_list = list(map(min, num_list, [NumConvMax] * len(num_list)))\n",
    "    top_left_list = np.c_[np.cumsum(x_diff_list), np.zeros(len(x_diff_list))]\n",
    "\n",
    "    for ind in range(len(size_list)-1,-1,-1):\n",
    "        if flag_omit:\n",
    "            add_layer_with_omission(patches, colors, size=size_list[ind],\n",
    "                                    num=num_list[ind],\n",
    "                                    num_max=NumConvMax,\n",
    "                                    num_dots=NumDots,\n",
    "                                    top_left=top_left_list[ind],\n",
    "                                    loc_diff=loc_diff_list[ind])\n",
    "        else:\n",
    "            add_layer(patches, colors, size=size_list[ind],\n",
    "                      num=num_show_list[ind],\n",
    "                      top_left=top_left_list[ind], loc_diff=loc_diff_list[ind])\n",
    "        label(top_left_list[ind], text_list[ind] + '\\n{}@{}x{}'.format(\n",
    "            num_list[ind], size_list[ind][0], size_list[ind][1]))\n",
    "\n",
    "    ############################\n",
    "    # in between layers\n",
    "    start_ratio_list = [[0.4, 0.5], [0.4, 0.8], [0.4, 0.5], [0.4, 0.8]]\n",
    "    end_ratio_list = [[0.4, 0.5], [0.4, 0.8], [0.4, 0.5], [0.4, 0.8]]\n",
    "    patch_size_list = [(5, 5), (2, 2), (5, 5), (2, 2)]\n",
    "    ind_bgn_list = range(len(patch_size_list))\n",
    "    text_list = ['Convolution', 'Max-pooling', 'Convolution', 'Max-pooling']\n",
    "\n",
    "    for ind in range(len(patch_size_list)):\n",
    "        add_mapping(\n",
    "            patches, colors, start_ratio_list[ind], end_ratio_list[ind],\n",
    "            patch_size_list[ind], ind,\n",
    "            top_left_list, loc_diff_list, num_show_list, size_list)\n",
    "        label(top_left_list[ind], text_list[ind] + '\\n{}x{} kernel'.format(\n",
    "            patch_size_list[ind][0], patch_size_list[ind][1]), xy_off=[26, -65]\n",
    "        )\n",
    "\n",
    "\n",
    "    ############################\n",
    "    # fully connected layers\n",
    "    size_list = [(fc_unit_size, fc_unit_size)] * 3\n",
    "    num_list = [1280, 256, 512, 10]\n",
    "    num_show_list = list(map(min, num_list, [NumFcMax] * len(num_list)))\n",
    "    x_diff_list = [sum(x_diff_list) + layer_width, layer_width, layer_width]\n",
    "    top_left_list = np.c_[np.cumsum(x_diff_list), np.zeros(len(x_diff_list))]\n",
    "    loc_diff_list = [[fc_unit_size, -fc_unit_size]] * len(top_left_list)\n",
    "    text_list = ['Hidden\\nunits'] * (len(size_list) - 1) + ['Outputs']\n",
    "\n",
    "    for ind in range(len(size_list)):\n",
    "        if flag_omit:\n",
    "            add_layer_with_omission(patches, colors, size=size_list[ind],\n",
    "                                    num=num_list[ind],\n",
    "                                    num_max=NumFcMax,\n",
    "                                    num_dots=NumDots,\n",
    "                                    top_left=top_left_list[ind],\n",
    "                                    loc_diff=loc_diff_list[ind])\n",
    "        else:\n",
    "            add_layer(patches, colors, size=size_list[ind],\n",
    "                      num=num_show_list[ind],\n",
    "                      top_left=top_left_list[ind],\n",
    "                      loc_diff=loc_diff_list[ind])\n",
    "        label(top_left_list[ind], text_list[ind] + '\\n{}'.format(\n",
    "            num_list[ind]))\n",
    "\n",
    "    text_list = ['Flatten\\n', 'Fully\\nconnected', 'Fully\\nconnected', 'Fully\\nconnected']\n",
    "\n",
    "    for ind in range(len(size_list)):\n",
    "        label(top_left_list[ind], text_list[ind], xy_off=[-10, -65])\n",
    "\n",
    "    ############################\n",
    "    for patch, color in zip(patches, colors):\n",
    "        patch.set_color(color * np.ones(3))\n",
    "        if isinstance(patch, Line2D):\n",
    "            ax.add_line(patch)\n",
    "        else:\n",
    "            patch.set_edgecolor(Black * np.ones(3))\n",
    "            ax.add_patch(patch)\n",
    "\n",
    "    plt.tight_layout()\n",
    "    plt.axis('equal')\n",
    "    plt.axis('off')\n",
    "    plt.show()\n",
    "    fig.set_size_inches(8, 2.5)\n",
    "\n",
    "    fig_dir = './'\n",
    "    fig_ext = '.png'\n",
    "    #fig.savefig(os.path.join(fig_dir, 'convnet_fig' + fig_ext),\n",
    "                #bbox_inches='tight', pad_inches=0)"
   ]
  },
  {
   "cell_type": "code",
   "execution_count": 172,
   "metadata": {},
   "outputs": [],
   "source": [
    "from keras.optimizers import Adam\n",
    "a=Adam()"
   ]
  },
  {
   "cell_type": "code",
   "execution_count": 174,
   "metadata": {},
   "outputs": [
    {
     "data": {
      "text/plain": [
       "{'name': 'Adam',\n",
       " 'learning_rate': 0.001,\n",
       " 'decay': 0.0,\n",
       " 'beta_1': 0.9,\n",
       " 'beta_2': 0.999,\n",
       " 'epsilon': 1e-07,\n",
       " 'amsgrad': False}"
      ]
     },
     "execution_count": 174,
     "metadata": {},
     "output_type": "execute_result"
    }
   ],
   "source": [
    "a.get_config()"
   ]
  },
  {
   "cell_type": "code",
   "execution_count": null,
   "metadata": {},
   "outputs": [],
   "source": []
  }
 ],
 "metadata": {
  "kernelspec": {
   "display_name": "Python 3",
   "language": "python",
   "name": "python3"
  },
  "language_info": {
   "codemirror_mode": {
    "name": "ipython",
    "version": 3
   },
   "file_extension": ".py",
   "mimetype": "text/x-python",
   "name": "python",
   "nbconvert_exporter": "python",
   "pygments_lexer": "ipython3",
   "version": "3.8.3"
  }
 },
 "nbformat": 4,
 "nbformat_minor": 4
}
