{
 "cells": [
  {
   "cell_type": "code",
   "execution_count": 1,
   "metadata": {},
   "outputs": [],
   "source": [
    "import os\n",
    "import sys\n",
    "from os import listdir\n",
    "from os.path import isfile, join\n",
    "import IPython.display as ipd\n",
    "import librosa \n",
    "%matplotlib inline\n",
    "import matplotlib.pyplot as plt\n",
    "import pandas as pd\n",
    "from scipy.io import wavfile as wav\n",
    "import numpy as np\n",
    "from timeit import default_timer as timer"
   ]
  },
  {
   "cell_type": "code",
   "execution_count": 8,
   "metadata": {},
   "outputs": [
    {
     "name": "stdout",
     "output_type": "stream",
     "text": [
      "Requirement already satisfied: matplotlib in c:\\users\\pc\\appdata\\local\\programs\\python\\python38-32\\lib\\site-packages (3.3.2)"
     ]
    },
    {
     "name": "stderr",
     "output_type": "stream",
     "text": [
      "WARNING: You are using pip version 20.2.3; however, version 20.2.4 is available.\n",
      "You should consider upgrading via the 'c:\\users\\pc\\appdata\\local\\programs\\python\\python38-32\\python.exe -m pip install --upgrade pip' command.\n"
     ]
    },
    {
     "name": "stdout",
     "output_type": "stream",
     "text": [
      "\n",
      "Requirement already satisfied: kiwisolver>=1.0.1 in c:\\users\\pc\\appdata\\local\\programs\\python\\python38-32\\lib\\site-packages (from matplotlib) (1.3.1)\n",
      "Requirement already satisfied: pyparsing!=2.0.4,!=2.1.2,!=2.1.6,>=2.0.3 in c:\\users\\pc\\appdata\\local\\programs\\python\\python38-32\\lib\\site-packages (from matplotlib) (2.4.7)\n",
      "Requirement already satisfied: certifi>=2020.06.20 in c:\\users\\pc\\appdata\\local\\programs\\python\\python38-32\\lib\\site-packages (from matplotlib) (2020.6.20)\n",
      "Requirement already satisfied: numpy>=1.15 in c:\\users\\pc\\appdata\\local\\programs\\python\\python38-32\\lib\\site-packages (from matplotlib) (1.19.4)\n",
      "Requirement already satisfied: python-dateutil>=2.1 in c:\\users\\pc\\appdata\\local\\programs\\python\\python38-32\\lib\\site-packages (from matplotlib) (2.8.1)\n",
      "Requirement already satisfied: pillow>=6.2.0 in c:\\users\\pc\\appdata\\local\\programs\\python\\python38-32\\lib\\site-packages (from matplotlib) (7.2.0)\n",
      "Requirement already satisfied: cycler>=0.10 in c:\\users\\pc\\appdata\\local\\programs\\python\\python38-32\\lib\\site-packages (from matplotlib) (0.10.0)\n",
      "Requirement already satisfied: six>=1.5 in c:\\users\\pc\\appdata\\local\\programs\\python\\python38-32\\lib\\site-packages (from python-dateutil>=2.1->matplotlib) (1.15.0)\n",
      "Collecting pandas"
     ]
    },
    {
     "name": "stderr",
     "output_type": "stream",
     "text": [
      "WARNING: You are using pip version 20.2.3; however, version 20.2.4 is available.\n",
      "You should consider upgrading via the 'c:\\users\\pc\\appdata\\local\\programs\\python\\python38-32\\python.exe -m pip install --upgrade pip' command.\n"
     ]
    },
    {
     "name": "stdout",
     "output_type": "stream",
     "text": [
      "\n",
      "  Downloading pandas-1.1.4-cp38-cp38-win32.whl (7.9 MB)\n",
      "Requirement already satisfied: python-dateutil>=2.7.3 in c:\\users\\pc\\appdata\\local\\programs\\python\\python38-32\\lib\\site-packages (from pandas) (2.8.1)\n",
      "Requirement already satisfied: pytz>=2017.2 in c:\\users\\pc\\appdata\\local\\programs\\python\\python38-32\\lib\\site-packages (from pandas) (2020.1)\n",
      "Requirement already satisfied: numpy>=1.15.4 in c:\\users\\pc\\appdata\\local\\programs\\python\\python38-32\\lib\\site-packages (from pandas) (1.19.4)\n",
      "Requirement already satisfied: six>=1.5 in c:\\users\\pc\\appdata\\local\\programs\\python\\python38-32\\lib\\site-packages (from python-dateutil>=2.7.3->pandas) (1.15.0)\n",
      "Installing collected packages: pandas\n",
      "Successfully installed pandas-1.1.4\n"
     ]
    }
   ],
   "source": [
    "!pip install matplotlib\n",
    "!pip install pandas"
   ]
  },
  {
   "cell_type": "code",
   "execution_count": 2,
   "metadata": {},
   "outputs": [],
   "source": [
    "import soundfile as sf\n",
    "from IPython.display import clear_output"
   ]
  },
  {
   "cell_type": "code",
   "execution_count": 3,
   "metadata": {},
   "outputs": [
    {
     "data": {
      "text/html": [
       "<div>\n",
       "<style scoped>\n",
       "    .dataframe tbody tr th:only-of-type {\n",
       "        vertical-align: middle;\n",
       "    }\n",
       "\n",
       "    .dataframe tbody tr th {\n",
       "        vertical-align: top;\n",
       "    }\n",
       "\n",
       "    .dataframe thead th {\n",
       "        text-align: right;\n",
       "    }\n",
       "</style>\n",
       "<table border=\"1\" class=\"dataframe\">\n",
       "  <thead>\n",
       "    <tr style=\"text-align: right;\">\n",
       "      <th></th>\n",
       "      <th>slice_file_name</th>\n",
       "      <th>fsID</th>\n",
       "      <th>start</th>\n",
       "      <th>end</th>\n",
       "      <th>salience</th>\n",
       "      <th>fold</th>\n",
       "      <th>classID</th>\n",
       "      <th>class</th>\n",
       "    </tr>\n",
       "  </thead>\n",
       "  <tbody>\n",
       "    <tr>\n",
       "      <th>0</th>\n",
       "      <td>100032-3-0-0.wav</td>\n",
       "      <td>100032</td>\n",
       "      <td>0.0</td>\n",
       "      <td>0.317551</td>\n",
       "      <td>1</td>\n",
       "      <td>5</td>\n",
       "      <td>3</td>\n",
       "      <td>dog_bark</td>\n",
       "    </tr>\n",
       "    <tr>\n",
       "      <th>1</th>\n",
       "      <td>100263-2-0-117.wav</td>\n",
       "      <td>100263</td>\n",
       "      <td>58.5</td>\n",
       "      <td>62.500000</td>\n",
       "      <td>1</td>\n",
       "      <td>5</td>\n",
       "      <td>2</td>\n",
       "      <td>children_playing</td>\n",
       "    </tr>\n",
       "    <tr>\n",
       "      <th>2</th>\n",
       "      <td>100263-2-0-121.wav</td>\n",
       "      <td>100263</td>\n",
       "      <td>60.5</td>\n",
       "      <td>64.500000</td>\n",
       "      <td>1</td>\n",
       "      <td>5</td>\n",
       "      <td>2</td>\n",
       "      <td>children_playing</td>\n",
       "    </tr>\n",
       "    <tr>\n",
       "      <th>3</th>\n",
       "      <td>100263-2-0-126.wav</td>\n",
       "      <td>100263</td>\n",
       "      <td>63.0</td>\n",
       "      <td>67.000000</td>\n",
       "      <td>1</td>\n",
       "      <td>5</td>\n",
       "      <td>2</td>\n",
       "      <td>children_playing</td>\n",
       "    </tr>\n",
       "    <tr>\n",
       "      <th>4</th>\n",
       "      <td>100263-2-0-137.wav</td>\n",
       "      <td>100263</td>\n",
       "      <td>68.5</td>\n",
       "      <td>72.500000</td>\n",
       "      <td>1</td>\n",
       "      <td>5</td>\n",
       "      <td>2</td>\n",
       "      <td>children_playing</td>\n",
       "    </tr>\n",
       "  </tbody>\n",
       "</table>\n",
       "</div>"
      ],
      "text/plain": [
       "      slice_file_name    fsID  start        end  salience  fold  classID  \\\n",
       "0    100032-3-0-0.wav  100032    0.0   0.317551         1     5        3   \n",
       "1  100263-2-0-117.wav  100263   58.5  62.500000         1     5        2   \n",
       "2  100263-2-0-121.wav  100263   60.5  64.500000         1     5        2   \n",
       "3  100263-2-0-126.wav  100263   63.0  67.000000         1     5        2   \n",
       "4  100263-2-0-137.wav  100263   68.5  72.500000         1     5        2   \n",
       "\n",
       "              class  \n",
       "0          dog_bark  \n",
       "1  children_playing  \n",
       "2  children_playing  \n",
       "3  children_playing  \n",
       "4  children_playing  "
      ]
     },
     "execution_count": 3,
     "metadata": {},
     "output_type": "execute_result"
    }
   ],
   "source": [
    "metadata_path='UrbanSound8K/metadata/UrbanSound8K.csv'\n",
    "metadata=pd.read_csv(metadata_path)\n",
    "metadata.head()"
   ]
  },
  {
   "cell_type": "markdown",
   "metadata": {},
   "source": [
    "### Augmentation using Time Stretch "
   ]
  },
  {
   "cell_type": "code",
   "execution_count": 17,
   "metadata": {},
   "outputs": [
    {
     "name": "stdout",
     "output_type": "stream",
     "text": [
      "Progress: 17464/17464\n",
      "Last file:  99812-1-6-0.wav\n"
     ]
    }
   ],
   "source": [
    "rates = [0.9, 1.1]\n",
    "total = len(metadata) * len(rates)\n",
    "count = 0\n",
    "for rate in rates: \n",
    "    # Generate new stretched audio file\n",
    "    for index, row in metadata.iterrows(): \n",
    "        curr_fold = str(row['fold'])\n",
    "        curr_file_path='UrbanSound8K/audio' + '/fold' + curr_fold + '/' + row['slice_file_name']\n",
    "        curr_rate_path='UrbanSound8K/Augmented_audio' + '/fold' + curr_fold + '/speed_' + str(int (rate*100))\n",
    "        \n",
    "        if not os.path.exists(curr_rate_path):\n",
    "            os.makedirs(curr_rate_path)\n",
    "        \n",
    "        output_path=curr_rate_path + '/' + row['slice_file_name']\n",
    "        \n",
    "        if (os.path.isfile(output_path)):\n",
    "            count += 1 \n",
    "            continue\n",
    "        \n",
    "        y, sr = librosa.load(curr_file_path)  \n",
    "        y_changed = librosa.effects.time_stretch(y, rate=rate)\n",
    "        sf.write(output_path, y_changed, sr)\n",
    "        \n",
    "        count += 1 \n",
    "        \n",
    "        clear_output(wait=True)\n",
    "        print(\"Progress: {}/{}\".format(count, total))\n",
    "        print(\"Last file: \", row['slice_file_name'])"
   ]
  },
  {
   "cell_type": "markdown",
   "metadata": {},
   "source": [
    "### Augmentation using Pitch Shift "
   ]
  },
  {
   "cell_type": "code",
   "execution_count": 18,
   "metadata": {},
   "outputs": [
    {
     "name": "stdout",
     "output_type": "stream",
     "text": [
      "Progress: 17464/17464\n",
      "Last file:  99812-1-6-0.wav\n"
     ]
    }
   ],
   "source": [
    "tone_steps=[-2,2]\n",
    "total = len(metadata) * len(tone_steps)\n",
    "count = 0\n",
    "for tone_step in tone_steps:\n",
    "    # Generate new pitched audio\n",
    "    for index, row in metadata.iterrows():   \n",
    "        curr_fold = str(row['fold'])\n",
    "        curr_file_path='UrbanSound8K/audio' + '/fold' + curr_fold + '/' + row['slice_file_name']\n",
    "        curr_ps_path ='UrbanSound8K/Augmented_audio' + '/fold' + curr_fold + '/pitch_' + str(tone_step)\n",
    "    \n",
    "\n",
    "        # Create sub-dir if it does not exist\n",
    "        if not os.path.exists(curr_ps_path):\n",
    "            os.makedirs(curr_ps_path)\n",
    "        \n",
    "        output_path = curr_ps_path + '/' + row['slice_file_name']\n",
    "        \n",
    "        # Skip when file already exists\n",
    "        if (os.path.isfile(output_path)):\n",
    "            count += 1 \n",
    "            continue\n",
    "        \n",
    "        y, sr = librosa.load(curr_file_path)  \n",
    "        y_changed = librosa.effects.pitch_shift(y, sr, n_steps=tone_step)\n",
    "        sf.write(output_path, y_changed, sr)\n",
    "        \n",
    "        count += 1 \n",
    "        \n",
    "        clear_output(wait=True)\n",
    "        print(\"Progress: {}/{}\".format(count, total))\n",
    "        print(\"Last file: \", row['slice_file_name'])"
   ]
  },
  {
   "cell_type": "markdown",
   "metadata": {},
   "source": [
    "### Augmentation using Time Stretch and Pitch Shift"
   ]
  },
  {
   "cell_type": "code",
   "execution_count": 5,
   "metadata": {},
   "outputs": [
    {
     "name": "stdout",
     "output_type": "stream",
     "text": [
      "Progress: 34928/34928\n",
      "Last file:  99812-1-6-0.wav\n"
     ]
    }
   ],
   "source": [
    "tone_steps=[-2,2]\n",
    "rates = [0.9, 1.1]\n",
    "total = len(metadata) * len(tone_steps+rates)\n",
    "count = 0\n",
    "for tone_step in tone_steps:\n",
    "    for rate in rates:\n",
    "\n",
    "        for index, row in metadata.iterrows():   \n",
    "            curr_fold = str(row['fold'])\n",
    "            curr_file_path='UrbanSound8K/audio' + '/fold' + curr_fold + '/' + row['slice_file_name']\n",
    "            curr_ps_path ='UrbanSound8K/Augmented_audio' + '/fold' + curr_fold + '/pitch_time' + str(tone_step)+str(int (rate*100))\n",
    "\n",
    "            \n",
    "            if not os.path.exists(curr_ps_path):\n",
    "                os.makedirs(curr_ps_path)\n",
    "\n",
    "            output_path = curr_ps_path + '/' + row['slice_file_name']\n",
    "\n",
    "            # Skip when file already exists\n",
    "            if (os.path.isfile(output_path)):\n",
    "                count += 1 \n",
    "                continue\n",
    "\n",
    "            y, sr = librosa.load(curr_file_path)  \n",
    "            y_changed = librosa.effects.pitch_shift(y, sr, n_steps=tone_step)\n",
    "            y_changed_again=librosa.effects.time_stretch(y_changed, rate=rate)\n",
    "            sf.write(output_path, y_changed_again, sr)\n",
    "\n",
    "            count += 1 \n",
    "\n",
    "            clear_output(wait=True)\n",
    "            print(\"Progress: {}/{}\".format(count, total))\n",
    "            print(\"Last file: \", row['slice_file_name'])"
   ]
  },
  {
   "cell_type": "code",
   "execution_count": 6,
   "metadata": {},
   "outputs": [],
   "source": [
    "def get_files_recursive(path):\n",
    "    \n",
    "    file_list = os.listdir(path)\n",
    "    all_files = list()\n",
    " \n",
    "    for entry in file_list:\n",
    "  \n",
    "        full_path = os.path.join(path, entry)\n",
    "       \n",
    "        if os.path.isdir(full_path):\n",
    "            all_files = all_files + get_files_recursive(full_path)\n",
    "        else:\n",
    "            all_files.append(full_path)\n",
    "                \n",
    "    return all_files"
   ]
  },
  {
   "cell_type": "code",
   "execution_count": 7,
   "metadata": {},
   "outputs": [
    {
     "name": "stdout",
     "output_type": "stream",
     "text": [
      "69856 Augmented Data\n"
     ]
    }
   ],
   "source": [
    "# Get every single file within the tree\n",
    "files = get_files_recursive('UrbanSound8K/Augmented_audio')\n",
    "\n",
    "# Define metadata columns\n",
    "names = []\n",
    "classes = []\n",
    "folds = []\n",
    "augmented = []\n",
    "\n",
    "\n",
    "for file in files:\n",
    "    #pieces = file.split(\"/\")\n",
    "    #print(pieces)\n",
    "    pieces2 = file.split(\"\\\\\")\n",
    "    #print(pieces2)\n",
    "    file = pieces2[len(pieces2) - 1]\n",
    "    #print(file)\n",
    "    fold = pieces2[len(pieces2) - 3] \n",
    "    #print(fold)\n",
    "    augment = pieces2[len(pieces2) - 2] \n",
    "    #print(augment)\n",
    "    fold_num = fold[4:len(fold)]\n",
    "    #print(fold_num)\n",
    "    class_id = file.split(\"-\")[1]\n",
    "    #print(class_id)\n",
    "    #break\n",
    "\n",
    "\n",
    "    names.append(file)\n",
    "    folds.append(fold_num)\n",
    "    classes.append(class_id)\n",
    "    augmented.append(augment)\n",
    "\n",
    "\n",
    "new_metadata = pd.DataFrame({'file': names, 'fold': folds, 'class_id': classes, 'augment': augmented })\n",
    "\n",
    "# Make sure class_id is int\n",
    "new_metadata['class_id'] = new_metadata['class_id'].astype(np.int64)\n",
    "\n",
    "print(len(new_metadata), \"Augmented Data\")"
   ]
  },
  {
   "cell_type": "code",
   "execution_count": 8,
   "metadata": {},
   "outputs": [],
   "source": [
    "classes = pd.DataFrame({\n",
    "    'class_id': range(0,10),\n",
    "    'class': ['air_conditioner','car_horn','children_playing','dog_bark','drilling','engine_idling','gun_shot','jackhammer','siren','street_music']})\n",
    "\n",
    "new_metadata = pd.merge(new_metadata, classes, on='class_id')"
   ]
  },
  {
   "cell_type": "code",
   "execution_count": 14,
   "metadata": {},
   "outputs": [],
   "source": [
    "cols=[\"file\", \"fold\", \"class_id\", \"class\", \"augment\"]\n",
    "new_metadata=new_metadata.reindex(columns=cols)"
   ]
  },
  {
   "cell_type": "code",
   "execution_count": 16,
   "metadata": {},
   "outputs": [],
   "source": [
    "metadata_augmented_path='UrbanSound8K/Augmented_metadata/UrbanSound8k_Augmented.csv'\n",
    "new_metadata.to_csv(metadata_augmented_path, index=False, encoding=\"utf-8\")"
   ]
  },
  {
   "cell_type": "code",
   "execution_count": 27,
   "metadata": {},
   "outputs": [],
   "source": [
    "metadata=pd.read_csv('UrbanSound8K/Augmented_metadata/UrbanSound8K.csv')\n",
    "del metadata['fsID'], metadata['start'], metadata['end'], metadata['salience']\n",
    "metadata.columns = ['file', 'fold', 'class_id', 'class']\n",
    "metadata['augment'] = 'none'"
   ]
  },
  {
   "cell_type": "code",
   "execution_count": 28,
   "metadata": {},
   "outputs": [
    {
     "data": {
      "text/html": [
       "<div>\n",
       "<style scoped>\n",
       "    .dataframe tbody tr th:only-of-type {\n",
       "        vertical-align: middle;\n",
       "    }\n",
       "\n",
       "    .dataframe tbody tr th {\n",
       "        vertical-align: top;\n",
       "    }\n",
       "\n",
       "    .dataframe thead th {\n",
       "        text-align: right;\n",
       "    }\n",
       "</style>\n",
       "<table border=\"1\" class=\"dataframe\">\n",
       "  <thead>\n",
       "    <tr style=\"text-align: right;\">\n",
       "      <th></th>\n",
       "      <th>file</th>\n",
       "      <th>fold</th>\n",
       "      <th>class_id</th>\n",
       "      <th>class</th>\n",
       "      <th>augment</th>\n",
       "    </tr>\n",
       "  </thead>\n",
       "  <tbody>\n",
       "    <tr>\n",
       "      <th>0</th>\n",
       "      <td>100032-3-0-0.wav</td>\n",
       "      <td>5</td>\n",
       "      <td>3</td>\n",
       "      <td>dog_bark</td>\n",
       "      <td>none</td>\n",
       "    </tr>\n",
       "    <tr>\n",
       "      <th>1</th>\n",
       "      <td>100263-2-0-117.wav</td>\n",
       "      <td>5</td>\n",
       "      <td>2</td>\n",
       "      <td>children_playing</td>\n",
       "      <td>none</td>\n",
       "    </tr>\n",
       "    <tr>\n",
       "      <th>2</th>\n",
       "      <td>100263-2-0-121.wav</td>\n",
       "      <td>5</td>\n",
       "      <td>2</td>\n",
       "      <td>children_playing</td>\n",
       "      <td>none</td>\n",
       "    </tr>\n",
       "    <tr>\n",
       "      <th>3</th>\n",
       "      <td>100263-2-0-126.wav</td>\n",
       "      <td>5</td>\n",
       "      <td>2</td>\n",
       "      <td>children_playing</td>\n",
       "      <td>none</td>\n",
       "    </tr>\n",
       "    <tr>\n",
       "      <th>4</th>\n",
       "      <td>100263-2-0-137.wav</td>\n",
       "      <td>5</td>\n",
       "      <td>2</td>\n",
       "      <td>children_playing</td>\n",
       "      <td>none</td>\n",
       "    </tr>\n",
       "  </tbody>\n",
       "</table>\n",
       "</div>"
      ],
      "text/plain": [
       "                 file  fold  class_id             class augment\n",
       "0    100032-3-0-0.wav     5         3          dog_bark    none\n",
       "1  100263-2-0-117.wav     5         2  children_playing    none\n",
       "2  100263-2-0-121.wav     5         2  children_playing    none\n",
       "3  100263-2-0-126.wav     5         2  children_playing    none\n",
       "4  100263-2-0-137.wav     5         2  children_playing    none"
      ]
     },
     "execution_count": 28,
     "metadata": {},
     "output_type": "execute_result"
    }
   ],
   "source": [
    "metadata.head()"
   ]
  },
  {
   "cell_type": "code",
   "execution_count": 29,
   "metadata": {},
   "outputs": [
    {
     "name": "stdout",
     "output_type": "stream",
     "text": [
      "Dataframes merged correctly!\n",
      "Initial data: 8732\n",
      "New data: 69856\n",
      "Merged data: 78588\n"
     ]
    }
   ],
   "source": [
    "full_metadata = pd.concat([metadata, new_metadata])\n",
    "if (len(full_metadata) == len(metadata) + len(new_metadata)):\n",
    "    print(\"Dataframes merged correctly!\")\n",
    "else:\n",
    "    print(\"Error! Lengths do not match.\")\n",
    "\n",
    "print(\"Initial data:\", len(metadata))\n",
    "print(\"New data:\", len(new_metadata))\n",
    "print(\"Merged data:\", len(full_metadata))"
   ]
  },
  {
   "cell_type": "code",
   "execution_count": 30,
   "metadata": {},
   "outputs": [
    {
     "data": {
      "text/html": [
       "<div>\n",
       "<style scoped>\n",
       "    .dataframe tbody tr th:only-of-type {\n",
       "        vertical-align: middle;\n",
       "    }\n",
       "\n",
       "    .dataframe tbody tr th {\n",
       "        vertical-align: top;\n",
       "    }\n",
       "\n",
       "    .dataframe thead th {\n",
       "        text-align: right;\n",
       "    }\n",
       "</style>\n",
       "<table border=\"1\" class=\"dataframe\">\n",
       "  <thead>\n",
       "    <tr style=\"text-align: right;\">\n",
       "      <th></th>\n",
       "      <th>file</th>\n",
       "      <th>fold</th>\n",
       "      <th>class_id</th>\n",
       "      <th>class</th>\n",
       "      <th>augment</th>\n",
       "    </tr>\n",
       "  </thead>\n",
       "  <tbody>\n",
       "    <tr>\n",
       "      <th>0</th>\n",
       "      <td>100032-3-0-0.wav</td>\n",
       "      <td>5</td>\n",
       "      <td>3</td>\n",
       "      <td>dog_bark</td>\n",
       "      <td>none</td>\n",
       "    </tr>\n",
       "    <tr>\n",
       "      <th>1</th>\n",
       "      <td>100263-2-0-117.wav</td>\n",
       "      <td>5</td>\n",
       "      <td>2</td>\n",
       "      <td>children_playing</td>\n",
       "      <td>none</td>\n",
       "    </tr>\n",
       "    <tr>\n",
       "      <th>2</th>\n",
       "      <td>100263-2-0-121.wav</td>\n",
       "      <td>5</td>\n",
       "      <td>2</td>\n",
       "      <td>children_playing</td>\n",
       "      <td>none</td>\n",
       "    </tr>\n",
       "    <tr>\n",
       "      <th>3</th>\n",
       "      <td>100263-2-0-126.wav</td>\n",
       "      <td>5</td>\n",
       "      <td>2</td>\n",
       "      <td>children_playing</td>\n",
       "      <td>none</td>\n",
       "    </tr>\n",
       "    <tr>\n",
       "      <th>4</th>\n",
       "      <td>100263-2-0-137.wav</td>\n",
       "      <td>5</td>\n",
       "      <td>2</td>\n",
       "      <td>children_playing</td>\n",
       "      <td>none</td>\n",
       "    </tr>\n",
       "  </tbody>\n",
       "</table>\n",
       "</div>"
      ],
      "text/plain": [
       "                 file fold  class_id             class augment\n",
       "0    100032-3-0-0.wav    5         3          dog_bark    none\n",
       "1  100263-2-0-117.wav    5         2  children_playing    none\n",
       "2  100263-2-0-121.wav    5         2  children_playing    none\n",
       "3  100263-2-0-126.wav    5         2  children_playing    none\n",
       "4  100263-2-0-137.wav    5         2  children_playing    none"
      ]
     },
     "execution_count": 30,
     "metadata": {},
     "output_type": "execute_result"
    }
   ],
   "source": [
    "full_metadata.head()"
   ]
  },
  {
   "cell_type": "code",
   "execution_count": 31,
   "metadata": {},
   "outputs": [],
   "source": [
    "metadata_augmented_path='UrbanSound8K/Augmented_metadata/UrbanSound8k_Augmented.csv'\n",
    "full_metadata.to_csv(metadata_augmented_path, index=False, encoding=\"utf-8\")"
   ]
  },
  {
   "cell_type": "code",
   "execution_count": null,
   "metadata": {},
   "outputs": [],
   "source": []
  }
 ],
 "metadata": {
  "kernelspec": {
   "display_name": "Python 3",
   "language": "python",
   "name": "python3"
  },
  "language_info": {
   "codemirror_mode": {
    "name": "ipython",
    "version": 3
   },
   "file_extension": ".py",
   "mimetype": "text/x-python",
   "name": "python",
   "nbconvert_exporter": "python",
   "pygments_lexer": "ipython3",
   "version": "3.8.3"
  }
 },
 "nbformat": 4,
 "nbformat_minor": 4
}
